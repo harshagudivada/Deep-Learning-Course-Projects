{
  "cells": [
    {
      "cell_type": "markdown",
      "metadata": {
        "id": "j02d22S9sBeI"
      },
      "source": [
        "# Feed Forward Neural Networks\n"
      ]
    },
    {
      "cell_type": "markdown",
      "metadata": {
        "id": "LWd1UlMnhT2s"
      },
      "source": [
        "## Importing the libraries"
      ]
    },
    {
      "cell_type": "code",
      "execution_count": 1,
      "metadata": {
        "id": "YvGPUQaHhXfL"
      },
      "outputs": [],
      "source": [
        "import numpy as np\n",
        "import matplotlib.pyplot as plt\n",
        "import pandas as pd\n",
        "from keras.datasets import fashion_mnist\n",
        "from sklearn.metrics import confusion_matrix\n",
        "from sklearn.metrics import accuracy_score\n",
        "from sklearn.metrics import log_loss\n",
        "from sklearn.model_selection import train_test_split\n",
        "import seaborn as sns"
      ]
    },
    {
      "cell_type": "markdown",
      "metadata": {
        "id": "gAhsX_PvNvSa"
      },
      "source": [
        "## WandB"
      ]
    },
    {
      "cell_type": "markdown",
      "source": [
        "Install and login to your wandb account to get the reports"
      ],
      "metadata": {
        "id": "J136gkHv-uNx"
      }
    },
    {
      "cell_type": "code",
      "execution_count": 2,
      "metadata": {
        "id": "DnHJVjljN52B"
      },
      "outputs": [],
      "source": [
        "!pip install wandb -qqq\n",
        "import wandb"
      ]
    },
    {
      "cell_type": "code",
      "execution_count": 3,
      "metadata": {
        "id": "GsK_D8CqN52E",
        "colab": {
          "base_uri": "https://localhost:8080/"
        },
        "outputId": "961aff1c-0aab-4829-8eee-8a7906524181"
      },
      "outputs": [
        {
          "output_type": "stream",
          "name": "stdout",
          "text": [
            "\u001b[34m\u001b[1mwandb\u001b[0m: Currently logged in as: \u001b[33mdeeplearningcs6910\u001b[0m (use `wandb login --relogin` to force relogin)\n"
          ]
        }
      ],
      "source": [
        "# Log in to your W&B account\n",
        "!wandb login"
      ]
    },
    {
      "cell_type": "markdown",
      "metadata": {
        "id": "K1VMqkGvhc3-"
      },
      "source": [
        "## Q1 - Importing the dataset"
      ]
    },
    {
      "cell_type": "markdown",
      "source": [
        "Downloading datas from keras as mentioned in Q1"
      ],
      "metadata": {
        "id": "SYaOssk2-0LM"
      }
    },
    {
      "cell_type": "code",
      "execution_count": 4,
      "metadata": {
        "id": "j0D8FgVMvv5s"
      },
      "outputs": [],
      "source": [
        "(X_train, y_train), (X_test, y_test) = fashion_mnist.load_data()"
      ]
    },
    {
      "cell_type": "code",
      "execution_count": 5,
      "metadata": {
        "id": "iDNaBH4JzY6g"
      },
      "outputs": [],
      "source": [
        "labels = np.unique(y_train)"
      ]
    },
    {
      "cell_type": "markdown",
      "metadata": {
        "id": "X1YaJXa9dTJ3"
      },
      "source": [
        "## Global variables"
      ]
    },
    {
      "cell_type": "code",
      "execution_count": 6,
      "metadata": {
        "id": "sBviK09igsta"
      },
      "outputs": [],
      "source": [
        "training_examples = X_train.shape[0]\n",
        "test_examples = X_test.shape[0]\n",
        "best_thetas = {}\n",
        "best_accuracy = -1"
      ]
    },
    {
      "cell_type": "code",
      "execution_count": 7,
      "metadata": {
        "id": "-xxk9xaUcvQ9"
      },
      "outputs": [],
      "source": [
        "# loss_function = 'cross_entropy' #1 = cross entropy, 2 = mean squared error loss\n",
        "# learning_rate = 0.0001 #nesterov - 0.0000001  #tanh =  0.0001 #relu = 0.0001 #signmd = 0.001\n",
        "# no_hidden_layers = 1\n",
        "# size_hidden = 128\n",
        "# # layer_sizes = [784,128,10]\n",
        "# optimizer = 6 #{1 = vanilla GD, 2 = ..}\n",
        "# epochs = 20\n",
        "# weight_decay = 0.05\n",
        "# batch_size = 1000\n",
        "# activation = 3 #{1 = sgd, 2 = tanh, 3 = relu}\n",
        "# wt_init = 1 #{1 = random, 2 = xavier}\n",
        "# layer_sizes = []\n",
        "\n"
      ]
    },
    {
      "cell_type": "code",
      "execution_count": 8,
      "metadata": {
        "id": "GiAhSmyZso6M"
      },
      "outputs": [],
      "source": [
        "loss_function = ''\n",
        "learning_rate = ''\n",
        "no_hidden_layers = ''\n",
        "size_hidden1 = -1\n",
        "size_hidden2 = -1\n",
        "size_hidden3 = -1\n",
        "size_hidden4 = -1\n",
        "size_hidden5 = -1\n",
        "optimizer = '' \n",
        "epochs = -1\n",
        "weight_decay = -1\n",
        "batch_size = -1\n",
        "activation = '' #{1 = sgd, 2 = tanh, 3 = relu}\n",
        "wt_init = '' #{1 = random, 2 = xavier}\n",
        "layer_sizes = []"
      ]
    },
    {
      "cell_type": "code",
      "execution_count": 9,
      "metadata": {
        "id": "11SewiRogwWB"
      },
      "outputs": [],
      "source": [
        "#Added by Harsha\n",
        "gamma = 0.9\n",
        "beta = 0.9\n",
        "epsilon = 0.00000001\n",
        "beta1 = 0.9\n",
        "beta2 = 0.99"
      ]
    },
    {
      "cell_type": "code",
      "execution_count": 10,
      "metadata": {
        "id": "SxEj0ZxactRS"
      },
      "outputs": [],
      "source": [
        "#global dictionaries for Optimizers\n",
        "\n",
        "#update dictionaries for momentum gradient descent\n",
        "mgd_w_update = {}\n",
        "mgd_b_update = {}\n",
        "\n",
        "#update dictionaries for Nesterov Accelerated gradient Descent\n",
        "nagd_w_update = {}\n",
        "nagd_b_update = {}\n",
        "\n",
        "#update dictionaries for rmsprop\n",
        "rmsprop_w_vt = {}\n",
        "rmsprop_b_vt = {}\n",
        "\n",
        "#update dictionaries for adam\n",
        "adam_w_mt = {}\n",
        "adam_b_mt = {}\n",
        "adam_w_vt = {}\n",
        "adam_b_vt = {}\n",
        "\n",
        "#update dictionaries for nadam\n",
        "nadam_w_mt = {}\n",
        "nadam_b_mt = {}\n",
        "nadam_w_vt = {}\n",
        "nadam_b_vt = {}"
      ]
    },
    {
      "cell_type": "code",
      "execution_count": 11,
      "metadata": {
        "id": "n7HVoqIti_r_"
      },
      "outputs": [],
      "source": [
        "np.random.seed(1)"
      ]
    },
    {
      "cell_type": "markdown",
      "metadata": {
        "id": "x2vU3DflPX5G"
      },
      "source": [
        "## Flatten Dataset"
      ]
    },
    {
      "cell_type": "markdown",
      "source": [
        "Given data is (tr_ex x 28 x 28) feature matrix. Flattening it to 2 dimension and making the feature matrix (tr_ex x 784)"
      ],
      "metadata": {
        "id": "ShHvRsGc_BxD"
      }
    },
    {
      "cell_type": "markdown",
      "source": [
        "### Train set\n"
      ],
      "metadata": {
        "id": "G1C0oaj_Ppwe"
      }
    },
    {
      "cell_type": "code",
      "execution_count": 12,
      "metadata": {
        "id": "Uue5PcBsPV_6"
      },
      "outputs": [],
      "source": [
        "X_train_flat = X_train.flatten()\n",
        "X_train_flat = X_train_flat.reshape(60000,784)"
      ]
    },
    {
      "cell_type": "markdown",
      "source": [
        "### Test set"
      ],
      "metadata": {
        "id": "XmZxB8C7Pxhv"
      }
    },
    {
      "cell_type": "code",
      "source": [
        "X_test_flat = X_test.flatten()\n",
        "X_test_flat = X_test_flat.reshape(10000,784)"
      ],
      "metadata": {
        "id": "50vLevj_P0LZ"
      },
      "execution_count": 13,
      "outputs": []
    },
    {
      "cell_type": "markdown",
      "metadata": {
        "id": "vkV8qxeQ92hK"
      },
      "source": [
        "## Splitting dataset for cross validation"
      ]
    },
    {
      "cell_type": "markdown",
      "source": [
        "Splitting the training data into training set and the validation set.\\\\\n",
        "Taking 10% training data as cross validation set."
      ],
      "metadata": {
        "id": "WzwglFhy_cOl"
      }
    },
    {
      "cell_type": "code",
      "execution_count": 14,
      "metadata": {
        "id": "F_DR_RuD996J"
      },
      "outputs": [],
      "source": [
        "X_cv_train, X_cv_test, y_cv_train, y_cv_test = train_test_split(X_train_flat, y_train, test_size = 0.1, random_state = 1)"
      ]
    },
    {
      "cell_type": "code",
      "execution_count": 15,
      "metadata": {
        "id": "YiFLuUFCLgEQ"
      },
      "outputs": [],
      "source": [
        "training_examples_cv = X_cv_train.shape[0]"
      ]
    },
    {
      "cell_type": "markdown",
      "source": [
        "## Normalization\n"
      ],
      "metadata": {
        "id": "DpsHfJcEtVwM"
      }
    },
    {
      "cell_type": "markdown",
      "source": [
        "Normalizing feature set to have zero mean and unit variance"
      ],
      "metadata": {
        "id": "_Nw3cIOFARzC"
      }
    },
    {
      "cell_type": "code",
      "source": [
        "X_cv_train = X_cv_train - X_cv_train.mean()\n",
        "X_cv_train = X_cv_train / X_cv_train.std()\n",
        "\n",
        "X_cv_test = X_cv_test - X_cv_test.mean()\n",
        "X_cv_test = X_cv_test / X_cv_test.std()\n",
        "\n",
        "X_test_flat = X_test_flat - X_test_flat.mean()\n",
        "X_test_flat = X_test_flat / X_test_flat.std()"
      ],
      "metadata": {
        "id": "l6jhd5h53yCL"
      },
      "execution_count": 16,
      "outputs": []
    },
    {
      "cell_type": "markdown",
      "metadata": {
        "id": "Hxchi_JMa1Gv"
      },
      "source": [
        "## Transforming Y into One hot vectors"
      ]
    },
    {
      "cell_type": "markdown",
      "source": [
        "Given data is for multi-class classification. \\\\\n",
        "Expressing the output layer as a one hot vector of the 10 output labels possible."
      ],
      "metadata": {
        "id": "7no-HS3oAVV1"
      }
    },
    {
      "cell_type": "code",
      "execution_count": 17,
      "metadata": {
        "id": "M5IowG64a6WJ"
      },
      "outputs": [],
      "source": [
        "def transform(y):\n",
        "  x = np.zeros(shape = (y.shape[0],10))\n",
        "  for i in range(y.shape[0]):\n",
        "    x[i][y[i]] = 1\n",
        "  return x"
      ]
    },
    {
      "cell_type": "code",
      "execution_count": 18,
      "metadata": {
        "id": "i6vqNTXNK40L"
      },
      "outputs": [],
      "source": [
        "y_cv_train_transformed = transform(y_cv_train)"
      ]
    },
    {
      "cell_type": "code",
      "execution_count": 19,
      "metadata": {
        "id": "_3nSWAgRQPqe"
      },
      "outputs": [],
      "source": [
        "y_cv_test_transformed = transform(y_cv_test)"
      ]
    },
    {
      "cell_type": "code",
      "source": [
        "y_test_transformed = transform(y_test)"
      ],
      "metadata": {
        "id": "xQQlkDfxQaxf"
      },
      "execution_count": 20,
      "outputs": []
    },
    {
      "cell_type": "markdown",
      "source": [
        "## ***Q1 - Visualise data***"
      ],
      "metadata": {
        "id": "MrmPVve4QrWY"
      }
    },
    {
      "cell_type": "markdown",
      "metadata": {
        "id": "GpS8DskI8NgB"
      },
      "source": [
        "### Visualise training data (add title)"
      ]
    },
    {
      "cell_type": "markdown",
      "source": [
        "Visualising training data on python output"
      ],
      "metadata": {
        "id": "4pjkcG7wqWr7"
      }
    },
    {
      "cell_type": "code",
      "execution_count": 21,
      "metadata": {
        "id": "lL7WYuCfxrIq",
        "colab": {
          "base_uri": "https://localhost:8080/",
          "height": 227
        },
        "outputId": "d0752173-3f1f-41bc-b72b-418a3869b6e2"
      },
      "outputs": [
        {
          "output_type": "display_data",
          "data": {
            "image/png": "[encoded data removed]",
            "text/plain": [
              "<Figure size 432x288 with 10 Axes>"
            ]
          },
          "metadata": {
            "needs_background": "light"
          }
        }
      ],
      "source": [
        "j = 0\n",
        "image = plt.subplot()\n",
        "for i in range(1000):\n",
        "  if (y_train[i] == j):\n",
        "    plt.subplot(2,5, 1 + j)\n",
        "    plt.imshow(X_train[i], cmap=plt.get_cmap('gray'))\n",
        "    j = j + 1\n",
        "  if(j == 10):\n",
        "    break\n",
        "# show the figure\n",
        "plt.show()"
      ]
    },
    {
      "cell_type": "markdown",
      "source": [
        "Visualising training data on wandb"
      ],
      "metadata": {
        "id": "7Rj1YWSrqc6h"
      }
    },
    {
      "cell_type": "code",
      "source": [
        "#From Fashion MNIST dataset, an alternative to MNIST: https://keras.io/api/datasets/fashion_mnist/\n",
        "description = {0:\"T-shirt/top\", 1:\"Trouser\", 2:\"Pullover\", 3:\"Dress\", 4:\"Coat\", 5:\"Sandal\", 6:\"Shirt\", 7:\"Sneaker\", 8:\"Bag\", 9:\"Ankle boot\"}\n",
        "\n",
        "\n",
        "unique_train_labels = np.unique(y_train)\n",
        "\n",
        "train_images = {}\n",
        "\n",
        "for i in range(len(y_test)):\n",
        "    if y_train[i] in unique_train_labels:\n",
        "        train_images[y_train[i]] = X_train[i]\n",
        "        unique_train_labels = np.delete(unique_train_labels, np.argwhere(unique_train_labels == y_train[i]))\n",
        "wandb.init(project=\"feedFwdNeuralNwkQ1\", entity=\"deeplearningcs6910\")\n",
        "\n",
        "for i in range(len(train_images)):\n",
        "    wandb.log({\"One sample training image from each class\": [wandb.Image(train_images[i], caption=description[i])]})\n",
        "\n",
        "wandb.finish()"
      ],
      "metadata": {
        "id": "paKb53mjB0lW"
      },
      "execution_count": 22,
      "outputs": []
    },
    {
      "cell_type": "markdown",
      "metadata": {
        "id": "i3GIr0UAlOH_"
      },
      "source": [
        "###Visualise Test data\n"
      ]
    },
    {
      "cell_type": "markdown",
      "source": [
        "Visualising test data on python output"
      ],
      "metadata": {
        "id": "weZW1bt9qe9i"
      }
    },
    {
      "cell_type": "code",
      "execution_count": 23,
      "metadata": {
        "id": "48s__n_WlSnQ",
        "colab": {
          "base_uri": "https://localhost:8080/",
          "height": 227
        },
        "outputId": "8c1158c9-b315-486a-838f-929aa712dc59"
      },
      "outputs": [
        {
          "output_type": "display_data",
          "data": {
            "image/png": "[encoded data removed]",
            "text/plain": [
              "<Figure size 432x288 with 10 Axes>"
            ]
          },
          "metadata": {
            "needs_background": "light"
          }
        }
      ],
      "source": [
        "j = 0\n",
        "for i in range(1000):\n",
        "  if (y_test[i] == j):\n",
        "    plt.subplot(2,5, 1 + j)\n",
        "    plt.imshow(X_test[i], cmap=plt.get_cmap('gray'))\n",
        "    j = j + 1\n",
        "  if(j == 10):\n",
        "    break\n",
        "# show the figure\n",
        "plt.show()"
      ]
    },
    {
      "cell_type": "markdown",
      "source": [
        "Visualising test data on wandb"
      ],
      "metadata": {
        "id": "bWJR93kUqiHy"
      }
    },
    {
      "cell_type": "code",
      "execution_count": 24,
      "metadata": {
        "id": "DlSB5FKfuBTD"
      },
      "outputs": [],
      "source": [
        "unique_test_labels = np.unique(y_test)\n",
        "\n",
        "test_images = {}\n",
        "\n",
        "for i in range(len(y_test)):\n",
        "    if y_test[i] in unique_test_labels:\n",
        "        test_images[y_test[i]] = X_test[i]\n",
        "        unique_test_labels = np.delete(unique_test_labels, np.argwhere(unique_test_labels == y_test[i]))\n",
        "wandb.init(project=\"feedFwdNeuralNwkQ1\", entity=\"deeplearningcs6910\")\n",
        "\n",
        "for i in range(len(test_images)):\n",
        "    wandb.log({\"One sample test image from each class\": [wandb.Image(test_images[i], caption=description[i])]})\n",
        "\n",
        "wandb.finish()\n"
      ]
    },
    {
      "cell_type": "markdown",
      "metadata": {
        "id": "vkeocN3kFhYa"
      },
      "source": [
        "## ***Error Functions***"
      ]
    },
    {
      "cell_type": "markdown",
      "metadata": {
        "id": "SKfgWjAz9Y2Y"
      },
      "source": [
        "### Choose Loss function"
      ]
    },
    {
      "cell_type": "code",
      "source": [
        "def choose_loss_func(y_pred, y, thetas):\n",
        "  if (loss_function == 'cross_entropy'):\n",
        "    return cross_entropy(y, y_pred, thetas)\n",
        "  if (loss_function == 'mse'):\n",
        "    return mse(y,y_pred, thetas)"
      ],
      "metadata": {
        "id": "cCJEJM2TCieU"
      },
      "execution_count": 25,
      "outputs": []
    },
    {
      "cell_type": "markdown",
      "metadata": {
        "id": "Ajr-h0osOVLp"
      },
      "source": [
        "### Least Square Error"
      ]
    },
    {
      "cell_type": "code",
      "execution_count": 26,
      "metadata": {
        "id": "z7dhH97tOaAO"
      },
      "outputs": [],
      "source": [
        "def mse(Y, Y_predicted, thetas):\n",
        "  layers = len(thetas)//2\n",
        "  cost = np.sum((Y - Y_predicted)**2) / len(Y) + (weight_decay*0.5 * (np.sum([np.linalg.norm(thetas['W'+str(i)]) for i in range(1, layers+1)])))\n",
        "  return cost"
      ]
    },
    {
      "cell_type": "markdown",
      "metadata": {
        "id": "l41OWJpyFqOY"
      },
      "source": [
        "### Cross Entropy"
      ]
    },
    {
      "cell_type": "code",
      "execution_count": 27,
      "metadata": {
        "id": "_8M3Nb71Fzha"
      },
      "outputs": [],
      "source": [
        "def cross_entropy(Y, Y_predicted, thetas):\n",
        "  layers = len(thetas)//2\n",
        "  cost = log_loss(Y, Y_predicted) + (weight_decay*0.5 * (np.sum([np.linalg.norm(thetas['W'+str(i)]) for i in range(1, layers+1)])))\n",
        "  return cost"
      ]
    },
    {
      "cell_type": "markdown",
      "metadata": {
        "id": "idWpy5MhHhkZ"
      },
      "source": [
        "## ***Activation Functions***"
      ]
    },
    {
      "cell_type": "markdown",
      "metadata": {
        "id": "zDPdbP8r2ok1"
      },
      "source": [
        "### Choose Activation"
      ]
    },
    {
      "cell_type": "code",
      "execution_count": 28,
      "metadata": {
        "id": "50aU8o4O2sMC"
      },
      "outputs": [],
      "source": [
        "def choose_activation(X):\n",
        "  if (activation == 'sigmoid'):\n",
        "    return sigmoid(X)\n",
        "  if (activation == 'tanh'):\n",
        "    return tanh(X)\n",
        "  if (activation == 'relu'):\n",
        "    return relu(X)"
      ]
    },
    {
      "cell_type": "markdown",
      "metadata": {
        "id": "gHp4sVScT3Zf"
      },
      "source": [
        "### Sigmoid Function"
      ]
    },
    {
      "cell_type": "markdown",
      "source": [
        "$sigmoid(x) = \\frac{1}{1+e^{-x}}$"
      ],
      "metadata": {
        "id": "UfHpYLwIqvG6"
      }
    },
    {
      "cell_type": "code",
      "execution_count": 29,
      "metadata": {
        "id": "yNrpBLd7T8do"
      },
      "outputs": [],
      "source": [
        "def sigmoid(X):\n",
        "  return 1/(1+np.exp(-X))"
      ]
    },
    {
      "cell_type": "markdown",
      "metadata": {
        "id": "BTTpl6O4H843"
      },
      "source": [
        "### Tanh Function"
      ]
    },
    {
      "cell_type": "markdown",
      "metadata": {
        "id": "NAM2O1PaIXHS"
      },
      "source": [
        "$tanh (x) = \\frac{e^x – e^{-x}}{e^x + e^{-x}}$\n",
        "\n",
        "\n"
      ]
    },
    {
      "cell_type": "code",
      "execution_count": 30,
      "metadata": {
        "id": "j1gIrYMbIAUv"
      },
      "outputs": [],
      "source": [
        "def tanh(X):\n",
        "  return (np.exp(X) - np.exp(-X))/ (np.exp(X) + np.exp(-X)) #np.tanh(X)"
      ]
    },
    {
      "cell_type": "markdown",
      "metadata": {
        "id": "Aey4z5txWMqN"
      },
      "source": [
        "### ReLU Function"
      ]
    },
    {
      "cell_type": "markdown",
      "metadata": {
        "id": "UaKCSOVkW4hu"
      },
      "source": [
        "relu(x) = max(0,x)"
      ]
    },
    {
      "cell_type": "code",
      "execution_count": 31,
      "metadata": {
        "id": "JmROgvb_WQde"
      },
      "outputs": [],
      "source": [
        "def relu(X):\n",
        "  return np.maximum(0,X)"
      ]
    },
    {
      "cell_type": "markdown",
      "metadata": {
        "id": "ru-Rt2fHXKbr"
      },
      "source": [
        "### Softmax function"
      ]
    },
    {
      "cell_type": "markdown",
      "metadata": {
        "id": "jACpqApEi8cG"
      },
      "source": [
        "$softmax(x) = \\frac{e^x}{\\sum_i e^{x_i}}$"
      ]
    },
    {
      "cell_type": "code",
      "execution_count": 32,
      "metadata": {
        "id": "XLvFb7j1Xctr"
      },
      "outputs": [],
      "source": [
        "def softmax(X):\n",
        "  return np.exp(X) / np.sum(np.exp(X), axis=0)"
      ]
    },
    {
      "cell_type": "markdown",
      "metadata": {
        "id": "KVOsv6YTjLes"
      },
      "source": [
        "## ***Derivatives of Activations***"
      ]
    },
    {
      "cell_type": "markdown",
      "metadata": {
        "id": "TrchfuqDGYmm"
      },
      "source": [
        "### Choose derivative of activation"
      ]
    },
    {
      "cell_type": "code",
      "execution_count": 33,
      "metadata": {
        "id": "ytMSDzSFGcVn"
      },
      "outputs": [],
      "source": [
        "def choose_der_activation(X):\n",
        "  if (activation == 'sigmoid'):\n",
        "    return der_sigmoid(X)\n",
        "  if (activation == 'tanh'):\n",
        "    return der_tanh(X)\n",
        "  if (activation == 'relu'):\n",
        "    return der_relu(X)"
      ]
    },
    {
      "cell_type": "markdown",
      "metadata": {
        "id": "8mJBOoCLjn3F"
      },
      "source": [
        "### Sigmoid derivative"
      ]
    },
    {
      "cell_type": "markdown",
      "source": [
        "f(x) = sigmoid(x) \\\\\n",
        "f'(x) = sigmoid(x) * (1 - sigmoid(x))"
      ],
      "metadata": {
        "id": "LEazBh2grcCd"
      }
    },
    {
      "cell_type": "code",
      "execution_count": 34,
      "metadata": {
        "id": "PfvxLxNgjmbW"
      },
      "outputs": [],
      "source": [
        "def der_sigmoid(X):\n",
        "  return np.multiply(sigmoid(X), (1.0 - sigmoid(X)))"
      ]
    },
    {
      "cell_type": "markdown",
      "metadata": {
        "id": "FOyoUmwyjszD"
      },
      "source": [
        "### Tanh derivative"
      ]
    },
    {
      "cell_type": "markdown",
      "source": [
        "f(x) = tanh(x) \\\\\n",
        "f'(x) = $1 - tanh^2(x) $"
      ],
      "metadata": {
        "id": "K5AafoKzrrpR"
      }
    },
    {
      "cell_type": "code",
      "execution_count": 35,
      "metadata": {
        "id": "qbw9iqEcjwP0"
      },
      "outputs": [],
      "source": [
        "def der_tanh(X):\n",
        "  return 1 - np.multiply(tanh(X), tanh(X))"
      ]
    },
    {
      "cell_type": "markdown",
      "metadata": {
        "id": "2bqIuoiyjxYF"
      },
      "source": [
        "### ReLU derivative"
      ]
    },
    {
      "cell_type": "markdown",
      "source": [
        "f(x) = relu(x) \\\\\n",
        "f'(x) = 1 if x>=0 \\\\\n",
        "      = 0 otherwise"
      ],
      "metadata": {
        "id": "IU6aWTuSr4W5"
      }
    },
    {
      "cell_type": "code",
      "execution_count": 36,
      "metadata": {
        "id": "xPnXpNizj0RF"
      },
      "outputs": [],
      "source": [
        "def der_relu(X):\n",
        "  return np.where(X >=0, 1, 0)"
      ]
    },
    {
      "cell_type": "markdown",
      "metadata": {
        "id": "AradyvQDj6mk"
      },
      "source": [
        "## ***Q3 - Optimizers***"
      ]
    },
    {
      "cell_type": "markdown",
      "metadata": {
        "id": "Ge0M8piJcPrs"
      },
      "source": [
        "### Reset global dictionaries"
      ]
    },
    {
      "cell_type": "code",
      "execution_count": 37,
      "metadata": {
        "id": "owQXIMpocTPi"
      },
      "outputs": [],
      "source": [
        "def reset_optimizer_update_dictionaries():\n",
        "    global mgd_w_update\n",
        "    global mgd_b_update\n",
        "    \n",
        "    global nagd_w_update\n",
        "    global nagd_b_update\n",
        "    \n",
        "    global rmsprop_w_vt\n",
        "    global rmsprop_b_vt\n",
        "    \n",
        "    global adam_w_mt\n",
        "    global adam_b_mt\n",
        "    global adam_w_vt\n",
        "    global adam_b_vt\n",
        "    \n",
        "    global nadam_w_mt\n",
        "    global nadam_b_mt\n",
        "    global nadam_w_vt\n",
        "    global nadam_b_vt\n",
        "    \n",
        "    mgd_w_update = {}\n",
        "    mgd_b_update = {}\n",
        "    \n",
        "    nagd_w_update = {}\n",
        "    nagd_b_update = {}\n",
        "    \n",
        "    rmsprop_w_vt = {}\n",
        "    rmsprop_b_vt = {}\n",
        "    \n",
        "    adam_w_mt = {}\n",
        "    adam_b_mt = {}\n",
        "    adam_w_vt = {}\n",
        "    adam_b_vt = {}\n",
        "    \n",
        "    nadam_w_mt = {}\n",
        "    nadam_b_mt = {}\n",
        "    nadam_w_vt = {}\n",
        "    nadam_b_vt = {}"
      ]
    },
    {
      "cell_type": "markdown",
      "metadata": {
        "id": "02FdPzksXKjr"
      },
      "source": [
        "### Vanilla Gradient Descent (Used for SGD as well)"
      ]
    },
    {
      "cell_type": "markdown",
      "source": [
        "Update rule: \\\\\n",
        "$θ = θ - η * ∇ θ$"
      ],
      "metadata": {
        "id": "gKG2TCh7scOD"
      }
    },
    {
      "cell_type": "code",
      "execution_count": 38,
      "metadata": {
        "id": "usIZokPNaanj"
      },
      "outputs": [],
      "source": [
        "def gradient_descent(thetas, grads): #takes parameters, gradients and learning rate as input and returns updated parameters\n",
        "    layers = len(thetas)//2\n",
        "    thetas_updated = {}\n",
        "    for i in range(1,layers+1):\n",
        "        thetas_updated['W' + str(i)] = thetas['W' + str(i)] - learning_rate * grads['W' + str(i)]\n",
        "        thetas_updated['B' + str(i)] = thetas['B' + str(i)] - learning_rate * grads['B' + str(i)]\n",
        "    return thetas_updated"
      ]
    },
    {
      "cell_type": "markdown",
      "metadata": {
        "id": "vLm48rAA1NeT"
      },
      "source": [
        "### Momentum based Gradient Descent"
      ]
    },
    {
      "cell_type": "code",
      "execution_count": 39,
      "metadata": {
        "id": "Q-EP-S8O1TR7"
      },
      "outputs": [],
      "source": [
        "def momentum_gradient_descent(thetas, grads, epoch_counter, step_counter):\n",
        "  global mgd_w_update  \n",
        "  global mgd_b_update\n",
        "    \n",
        "  layers = len(thetas)//2\n",
        "  thetas_updated = {}\n",
        "    \n",
        "\n",
        "  if(epoch_counter == 0 and step_counter == 0):\n",
        "    for i in range(1,layers+1):\n",
        "      thetas_updated['W' + str(i)] = thetas['W' + str(i)] - learning_rate * grads['W' + str(i)]\n",
        "      mgd_w_update[i] = learning_rate * grads['W' + str(i)]\n",
        "      thetas_updated['B' + str(i)] = thetas['B' + str(i)] - learning_rate * grads['B' + str(i)]\n",
        "      mgd_b_update[i] = learning_rate * grads['B' + str(i)]\n",
        "  else:\n",
        "    for i in range(1,layers+1):\n",
        "       thetas_updated['W' + str(i)] = thetas['W' + str(i)] - ((gamma * mgd_w_update[i] )+(learning_rate * grads['W' + str(i)]))\n",
        "       mgd_w_update[i] = (gamma * mgd_w_update[i] )+(learning_rate * grads['W' + str(i)])\n",
        "       thetas_updated['B' + str(i)] = thetas['B' + str(i)] - ((gamma * mgd_b_update[i] )+(learning_rate * grads['B' + str(i)]))\n",
        "       mgd_b_update[i] = (gamma * mgd_b_update[i] )+(learning_rate * grads['B' + str(i)])\n",
        "  \n",
        "  return thetas_updated\n",
        "\n"
      ]
    },
    {
      "cell_type": "markdown",
      "metadata": {
        "id": "6ibBvYFz1DEq"
      },
      "source": [
        "### Nesterov Accelerated Gradient Descent"
      ]
    },
    {
      "cell_type": "code",
      "execution_count": 40,
      "metadata": {
        "id": "PRE5fDxr1L0O"
      },
      "outputs": [],
      "source": [
        "def nesterov_accelerated_gradient_descent(thetas, grads, epoch_counter, step_counter, X, Y):\n",
        "    \n",
        "  global nagd_w_update\n",
        "  global nagd_b_update\n",
        "\n",
        "  layers = len(thetas)//2\n",
        "  thetas_updated = {}\n",
        "  thetas_look_ahead = {}\n",
        "\n",
        "  if(epoch_counter != 0 or step_counter != 0):\n",
        "    for i in range(1,layers+1):\n",
        "      thetas_look_ahead['W' + str(i)] = thetas['W' + str(i)] - ((gamma * nagd_w_update[i] )) \n",
        "      thetas_look_ahead['B' + str(i)] = thetas['B' + str(i)] - ((gamma * nagd_b_update[i] ))\n",
        "    values_step = forward_propagation(X.T, thetas_look_ahead)\n",
        "    grads = backward_propagation(thetas_look_ahead, values_step, X.T, Y.T)\n",
        "    for i in range(1,layers+1):\n",
        "      nagd_w_update[i] = (gamma * nagd_w_update[i] )+(learning_rate * grads['W' + str(i)])\n",
        "      thetas_updated['W' + str(i)] = thetas['W' + str(i)] - nagd_w_update[i]\n",
        "      nagd_b_update[i] = (gamma * nagd_b_update[i] )+(learning_rate * grads['B' + str(i)])\n",
        "      thetas_updated['B' + str(i)] = thetas['B' + str(i)] - nagd_b_update[i]\n",
        "\n",
        "  if(epoch_counter == 0 and step_counter == 0):\n",
        "    for i in range(1,layers+1):\n",
        "      nagd_w_update[i] = learning_rate * grads['W' + str(i)]\n",
        "      thetas_updated['W' + str(i)] = thetas['W' + str(i)] - nagd_w_update[i]\n",
        "      nagd_b_update[i] = learning_rate * grads['B' + str(i)]    \n",
        "      thetas_updated['B' + str(i)] = thetas['B' + str(i)] - nagd_b_update[i]\n",
        "  \n",
        "  return thetas_updated\n"
      ]
    },
    {
      "cell_type": "markdown",
      "metadata": {
        "id": "E6Ah-Qg_1Uft"
      },
      "source": [
        "### RMSProp "
      ]
    },
    {
      "cell_type": "code",
      "execution_count": 41,
      "metadata": {
        "id": "lsPfId4J1X4j"
      },
      "outputs": [],
      "source": [
        "def rmsprop(thetas, grads, epoch_counter, step_counter):\n",
        "  global rmsprop_w_vt\n",
        "  global rmsprop_b_vt\n",
        "\n",
        "  layers = len(thetas)//2\n",
        "  thetas_updated = {}\n",
        "\n",
        "  if(epoch_counter != 0 or step_counter != 0):\n",
        "    for i in range(1,layers+1):\n",
        "      rmsprop_w_vt[i] = beta * rmsprop_w_vt[i] + (1-beta) * np.power(grads['W' + str(i)],2)\n",
        "      rmsprop_b_vt[i] = beta * rmsprop_b_vt[i] + (1-beta) * np.power(grads['B' + str(i)],2)\n",
        "      w = 1/np.power(rmsprop_w_vt[i]+epsilon,0.5)\n",
        "      b = 1/np.power(rmsprop_b_vt[i]+epsilon,0.5)\n",
        "      thetas_updated['W' + str(i)] = thetas['W' + str(i)] - learning_rate * w * grads['W' + str(i)]\n",
        "      thetas_updated['B' + str(i)] = thetas['B' + str(i)] - learning_rate * b * grads['B' + str(i)]\n",
        "  else:\n",
        "    for i in range(1,layers+1):\n",
        "      rmsprop_w_vt[i] =  (1-beta) *  np.power(grads['W' + str(i)],2)\n",
        "      rmsprop_b_vt[i] = (1-beta) * np.power(grads['B' + str(i)],2)\n",
        "      w = 1/np.power(rmsprop_w_vt[i]+epsilon,0.5)\n",
        "      b = 1/np.power(rmsprop_b_vt[i]+epsilon,0.5)\n",
        "      thetas_updated['W' + str(i)] = thetas['W' + str(i)] - learning_rate * w * grads['W' + str(i)]\n",
        "      thetas_updated['B' + str(i)] = thetas['B' + str(i)] - learning_rate * b * grads['B' + str(i)]\n",
        "  \n",
        "  return thetas_updated\n",
        "\n"
      ]
    },
    {
      "cell_type": "markdown",
      "metadata": {
        "id": "jgKdGMnL1Yfa"
      },
      "source": [
        "### Adam"
      ]
    },
    {
      "cell_type": "code",
      "execution_count": 42,
      "metadata": {
        "id": "x9EvhtcO1cX2"
      },
      "outputs": [],
      "source": [
        "def adam(thetas, grads, epoch_counter, step_counter, steps):\n",
        "\n",
        "  global adam_w_mt\n",
        "  global adam_b_mt\n",
        "  global adam_w_vt\n",
        "  global adam_b_vt\n",
        "\n",
        "\n",
        "  layers = len(thetas)//2\n",
        "  thetas_updated = {}\n",
        "\n",
        "  if(epoch_counter != 0 or step_counter != 0):\n",
        "    for i in range(1,layers+1):\n",
        "      adam_w_mt[i] = beta1 * adam_w_mt[i] + (1-beta1) * grads['W' + str(i)]\n",
        "      adam_b_mt[i] = beta1 * adam_b_mt[i] + (1-beta1) * grads['B' + str(i)]\n",
        "      adam_w_vt[i] = beta2 * adam_w_vt[i] + (1-beta2) * np.power(grads['W' + str(i)],2)\n",
        "      adam_b_vt[i] = beta2 * adam_b_vt[i] + (1-beta2) * np.power(grads['B' + str(i)],2)\n",
        "      wmt_hat = adam_w_mt[i]/(1-np.power(beta1,(epoch_counter*steps)+step_counter+1))\n",
        "      wvt_hat = adam_w_vt[i]/(1-np.power(beta2,(epoch_counter*steps)+step_counter+1))\n",
        "      bmt_hat = adam_b_mt[i]/(1-np.power(beta1,(epoch_counter*steps)+step_counter+1))\n",
        "      bvt_hat = adam_b_vt[i]/(1-np.power(beta2,(epoch_counter*steps)+step_counter+1))\n",
        "      thetas_updated['W' + str(i)] = thetas['W' + str(i)] - (learning_rate *(1/np.sqrt(wvt_hat+epsilon))* wmt_hat)\n",
        "      thetas_updated['B' + str(i)] = thetas['B' + str(i)] - (learning_rate *(1/np.sqrt(bvt_hat+epsilon))* bmt_hat)\n",
        "  else:\n",
        "    for i in range(1,layers+1):\n",
        "      adam_w_mt[i]=  (1-beta1) * grads['W' + str(i)]\n",
        "      adam_b_mt[i] = (1-beta1) * grads['B' + str(i)]\n",
        "      adam_w_vt[i]=  (1-beta2) * np.power(grads['W' + str(i)],2)\n",
        "      adam_b_vt[i] = (1-beta2) * np.power(grads['B' + str(i)],2)\n",
        "      wmt_hat = adam_w_mt[i]/(1-np.power(beta1,(epoch_counter*steps)+step_counter+1))\n",
        "      wvt_hat = adam_w_vt[i]/(1-np.power(beta2,(epoch_counter*steps)+step_counter+1))\n",
        "      bmt_hat = adam_b_mt[i]/(1-np.power(beta1,(epoch_counter*steps)+step_counter+1))\n",
        "      bvt_hat = adam_b_vt[i]/(1-np.power(beta2,(epoch_counter*steps)+step_counter+1))\n",
        "      thetas_updated['W' + str(i)] = thetas['W' + str(i)] - (learning_rate *(1/np.sqrt(wvt_hat+epsilon))* wmt_hat)\n",
        "      thetas_updated['B' + str(i)] = thetas['B' + str(i)] - (learning_rate *(1/np.sqrt(bvt_hat+epsilon))* bmt_hat)\n",
        "\n",
        "  return thetas_updated\n",
        "\n"
      ]
    },
    {
      "cell_type": "markdown",
      "metadata": {
        "id": "54snmkHy1dOC"
      },
      "source": [
        "### Nadam"
      ]
    },
    {
      "cell_type": "code",
      "execution_count": 43,
      "metadata": {
        "id": "_9b5egCv1g0s"
      },
      "outputs": [],
      "source": [
        "def nadam(thetas, grads, epoch_counter, step_counter, steps, X, Y):\n",
        "\n",
        "  global nadam_w_mt\n",
        "  global nadam_b_mt\n",
        "  global nadam_w_vt\n",
        "  global nadam_b_vt\n",
        "    \n",
        "  layers = len(thetas)//2\n",
        "  thetas_updated = {}\n",
        "  thetas_look_ahead = {}\n",
        "\n",
        "  if(epoch_counter != 0 or step_counter != 0):\n",
        "    for i in range(1,layers+1):\n",
        "      nadam_w_mt[i] = beta1 * nadam_w_mt[i]\n",
        "      nadam_b_mt[i] = beta1 * nadam_b_mt[i]\n",
        "      nadam_w_vt[i] = beta2 * nadam_w_vt[i]\n",
        "      nadam_b_vt[i] = beta2 * nadam_b_vt[i]\n",
        "      wmt_hat = nadam_w_mt[i]/(1-np.power(beta1,(epoch_counter*steps)+step_counter+1))\n",
        "      wvt_hat = nadam_w_vt[i]/(1-np.power(beta2,(epoch_counter*steps)+step_counter+1))\n",
        "      bmt_hat = nadam_b_mt[i]/(1-np.power(beta1,(epoch_counter*steps)+step_counter+1))\n",
        "      bvt_hat = nadam_b_vt[i]/(1-np.power(beta2,(epoch_counter*steps)+step_counter+1))\n",
        "      thetas_look_ahead['W' + str(i)] = thetas['W' + str(i)] - (learning_rate *(1/np.sqrt(wvt_hat+epsilon))* wmt_hat)\n",
        "      thetas_look_ahead['B' + str(i)] = thetas['B' + str(i)] - (learning_rate *(1/np.sqrt(bvt_hat+epsilon))* bmt_hat)\n",
        "    values_step = forward_propagation(X.T, thetas_look_ahead)\n",
        "    grads = backward_propagation(thetas_look_ahead, values_step, X.T, Y.T)\n",
        "    for i in range(1,layers+1):\n",
        "      nadam_w_mt[i] += (1-beta1) * grads['W' + str(i)]\n",
        "      nadam_b_mt[i] += (1-beta1) * grads['B' + str(i)]\n",
        "      nadam_w_vt[i] += (1-beta2) * np.power(grads['W' + str(i)],2)\n",
        "      nadam_b_vt[i] += (1-beta2) * np.power(grads['B' + str(i)],2)\n",
        "      wmt_hat = nadam_w_mt[i]/(1-np.power(beta1,(epoch_counter*steps)+step_counter+1))\n",
        "      wvt_hat = nadam_w_vt[i]/(1-np.power(beta2,(epoch_counter*steps)+step_counter+1))\n",
        "      bmt_hat = nadam_b_mt[i]/(1-np.power(beta1,(epoch_counter*steps)+step_counter+1))\n",
        "      bvt_hat = nadam_b_vt[i]/(1-np.power(beta2,(epoch_counter*steps)+step_counter+1))\n",
        "      thetas_updated['W' + str(i)] = thetas['W' + str(i)] - (learning_rate *(1/np.sqrt(wvt_hat+epsilon))* wmt_hat)\n",
        "      thetas_updated['B' + str(i)] = thetas['B' + str(i)] - (learning_rate *(1/np.sqrt(bvt_hat+epsilon))* bmt_hat)\n",
        "  else:\n",
        "    for i in range(1,layers+1):\n",
        "      nadam_w_mt[i]=  (1-beta1) * grads['W' + str(i)]\n",
        "      nadam_b_mt[i] = (1-beta1) * grads['B' + str(i)]\n",
        "      nadam_w_vt[i]=  (1-beta2) * np.power(grads['W' + str(i)],2)\n",
        "      nadam_b_vt[i] = (1-beta2) * np.power(grads['B' + str(i)],2)\n",
        "      wmt_hat = nadam_w_mt[i]/(1-np.power(beta1,(epoch_counter*steps)+step_counter+1))\n",
        "      wvt_hat = nadam_w_vt[i]/(1-np.power(beta2,(epoch_counter*steps)+step_counter+1))\n",
        "      bmt_hat = nadam_b_mt[i]/(1-np.power(beta1,(epoch_counter*steps)+step_counter+1))\n",
        "      bvt_hat = nadam_b_vt[i]/(1-np.power(beta2,(epoch_counter*steps)+step_counter+1))\n",
        "      thetas_updated['W' + str(i)] = thetas['W' + str(i)] - (learning_rate *(1/np.sqrt(wvt_hat+epsilon))* wmt_hat)\n",
        "      thetas_updated['B' + str(i)] = thetas['B' + str(i)] - (learning_rate *(1/np.sqrt(bvt_hat+epsilon))* bmt_hat)\n",
        "\n",
        "  return thetas_updated"
      ]
    },
    {
      "cell_type": "markdown",
      "metadata": {
        "id": "Ml3R3bkmWF3t"
      },
      "source": [
        "## ***Initialize parameters***"
      ]
    },
    {
      "cell_type": "markdown",
      "metadata": {
        "id": "ilENNcos1zXK"
      },
      "source": [
        "### Random Weight Initialization"
      ]
    },
    {
      "cell_type": "markdown",
      "source": [
        "Initializing the weights with random weights"
      ],
      "metadata": {
        "id": "s_Y-NSzJs3iS"
      }
    },
    {
      "cell_type": "code",
      "execution_count": 44,
      "metadata": {
        "id": "h2KktagiWJ7W"
      },
      "outputs": [],
      "source": [
        "def init():\n",
        "  thetas = {}\n",
        "  for i in range (1, len(layer_sizes)):\n",
        "    thetas['W'+ str(i)] = np.random.rand(layer_sizes[i], layer_sizes[i-1]) - 0.5\n",
        "    thetas['B'+ str(i)] = np.random.rand(layer_sizes[i], 1) - 0.5\n",
        "  return thetas"
      ]
    },
    {
      "cell_type": "markdown",
      "metadata": {
        "id": "F4eU6XX02D-S"
      },
      "source": [
        "### Xavier Weight Initialization"
      ]
    },
    {
      "cell_type": "markdown",
      "metadata": {
        "id": "kUNJNC6PN8G4"
      },
      "source": [
        "The goal of Xavier Initialization is to initialize the weights such that the variance of the activations are the same across every layer. This constant variance helps prevent the gradient from exploding or vanishing. \\\\\n",
        "$W^l_{i,j} = \\eta (0, \\frac {1} {n^{l - 1}})$"
      ]
    },
    {
      "cell_type": "code",
      "execution_count": 45,
      "metadata": {
        "id": "M4lMbPKd2KBJ"
      },
      "outputs": [],
      "source": [
        "def xavier_init():\n",
        "  thetas = {}\n",
        "\n",
        "  for i in range (1, len(layer_sizes)):\n",
        "    boundary = np.sqrt(6/(layer_sizes[i] + layer_sizes[i-1]))\n",
        "\n",
        "    thetas['W'+ str(i)] = np.random.uniform(low = -boundary, high = boundary, size = (layer_sizes[i], layer_sizes[i-1]))\n",
        "    thetas['B'+ str(i)] = np.random.randn(layer_sizes[i], 1)*0.01\n",
        "  return thetas"
      ]
    },
    {
      "cell_type": "markdown",
      "metadata": {
        "id": "bb6jCOCQiAmP"
      },
      "source": [
        "## ***Building a neural network on the Training set***"
      ]
    },
    {
      "cell_type": "markdown",
      "metadata": {
        "id": "m_fHd34N2NZS"
      },
      "source": [
        "### Choose Initialization"
      ]
    },
    {
      "cell_type": "code",
      "execution_count": 46,
      "metadata": {
        "id": "3mMCXL2j2MYC"
      },
      "outputs": [],
      "source": [
        "def choose_init():\n",
        "  if (wt_init == 'random'):\n",
        "    return init()\n",
        "  if (wt_init == 'xavier'):\n",
        "    return xavier_init()"
      ]
    },
    {
      "cell_type": "markdown",
      "metadata": {
        "id": "IPGgng6pXHOb"
      },
      "source": [
        "### ***Q2 - Forward propagation***"
      ]
    },
    {
      "cell_type": "code",
      "execution_count": 47,
      "metadata": {
        "id": "CcMvGGYPXS4G"
      },
      "outputs": [],
      "source": [
        "def forward_propagation(X, thetas):\n",
        "    layers = len(thetas)//2\n",
        "    values = {} #dictionary containining the numpy arrays of activations of all layers\n",
        "    for i in range(1, layers+1):\n",
        "        if i==1:\n",
        "            values['Z' + str(i)] = np.dot(thetas['W' + str(i)], X) + thetas['B' + str(i)]\n",
        "            values['A' + str(i)] = choose_activation(values['Z' + str(i)])\n",
        "        else:\n",
        "            values['Z' + str(i)] = np.dot(thetas['W' + str(i)], values['A' + str(i-1)]) + thetas['B' + str(i)]\n",
        "            if i==layers:\n",
        "                values['A' + str(i)] = softmax(values['Z' + str(i)])\n",
        "            else:\n",
        "                values['A' + str(i)] = choose_activation(values['Z' + str(i)])\n",
        "    return values"
      ]
    },
    {
      "cell_type": "markdown",
      "metadata": {
        "id": "NzgvVWczXIhD"
      },
      "source": [
        "### Compute cost"
      ]
    },
    {
      "cell_type": "code",
      "execution_count": 48,
      "metadata": {
        "id": "3z0mdn84ZPMk"
      },
      "outputs": [],
      "source": [
        "def compute_cost(values, Y, thetas): #takes true values and dictionary having activations of all layers as input and returns cost\n",
        "    layers = len(values)//2\n",
        "    Y_pred = values['A' + str(layers)]\n",
        "    # cost = 1/(2*len(Y)) * np.sum(np.square(Y_pred - Y))\n",
        "    cost = choose_loss_func(Y_pred, Y, thetas)\n",
        "    return cost"
      ]
    },
    {
      "cell_type": "markdown",
      "source": [
        "### ***Q3 - Backward Propagation Implementation***\n",
        "### Choose dZ for Backprop"
      ],
      "metadata": {
        "id": "vdfPbSzpC8Uz"
      }
    },
    {
      "cell_type": "code",
      "execution_count": 49,
      "metadata": {
        "id": "DoLXTrhH9dSQ"
      },
      "outputs": [],
      "source": [
        "def choose_dZ(m, y_pred, y):\n",
        "  if (loss_function == 'cross_entropy'):\n",
        "    return (y_pred - y)\n",
        "  if (loss_function == 'mse'):\n",
        "    return (y_pred - y) * (y_pred) * (1-y_pred)"
      ]
    },
    {
      "cell_type": "markdown",
      "metadata": {
        "id": "WsSKq24ZXJQT"
      },
      "source": [
        "### Back propagation"
      ]
    },
    {
      "cell_type": "code",
      "execution_count": 50,
      "metadata": {
        "id": "7IeUJmnoZ0z7"
      },
      "outputs": [],
      "source": [
        "def backward_propagation(thetas, values, X, Y): #takes parameters, activations, training set as input and returns gradients wrt parameters\n",
        "    layers = len(thetas)//2\n",
        "    m = len(Y)\n",
        "    grads = {}\n",
        "    for i in range(layers,0,-1):\n",
        "        if i==layers:\n",
        "            dZ = choose_dZ(m, values['A' + str(i)], Y)\n",
        "        else:\n",
        "            dA = np.dot(thetas['W' + str(i+1)].T, dZ)\n",
        "            dZ = np.multiply(dA, choose_der_activation(values['Z' + str(i)])) \n",
        "        if i==1:\n",
        "            grads['W' + str(i)] = np.dot(dZ, X.T) + weight_decay * thetas['W' + str(i)]\n",
        "            grads['B' + str(i)] = np.sum(dZ, axis=1, keepdims=True) \n",
        "        else:\n",
        "            grads['W' + str(i)] = np.dot(dZ,values['A' + str(i-1)].T) + weight_decay * thetas['W' + str(i)]\n",
        "            grads['B' + str(i)] = np.sum(dZ, axis=1, keepdims=True)\n",
        "    return grads"
      ]
    },
    {
      "cell_type": "markdown",
      "metadata": {
        "id": "EAMl0qpf64zO"
      },
      "source": [
        "### Choose GD"
      ]
    },
    {
      "cell_type": "code",
      "execution_count": 51,
      "metadata": {
        "id": "nEzmsaSL68RO"
      },
      "outputs": [],
      "source": [
        "def choose_gd(thetas, grads, epoch_counter, step_counter, X, Y, steps):\n",
        "  if (optimizer == 'sgd'):\n",
        "    return gradient_descent(thetas, grads)\n",
        "  if(optimizer == 'momentum'):\n",
        "    return momentum_gradient_descent(thetas, grads, epoch_counter, step_counter)\n",
        "  if (optimizer == 'nag'):\n",
        "    return nesterov_accelerated_gradient_descent(thetas, grads, epoch_counter, step_counter, X, Y)\n",
        "  if(optimizer == 'rmsprop'):\n",
        "    return rmsprop(thetas, grads, epoch_counter, step_counter)\n",
        "  if(optimizer == 'adam'):\n",
        "    return adam(thetas, grads, epoch_counter, step_counter, steps)\n",
        "  if(optimizer == 'nadam'):\n",
        "    return nadam(thetas, grads, epoch_counter, step_counter, steps, X, Y)"
      ]
    },
    {
      "cell_type": "markdown",
      "metadata": {
        "id": "Neoa-MiNbGq_"
      },
      "source": [
        "### Neural Network model "
      ]
    },
    {
      "cell_type": "code",
      "execution_count": 52,
      "metadata": {
        "id": "l3vl54cZbRZA"
      },
      "outputs": [],
      "source": [
        "def model(X, Y, training_examples): #trains the model\n",
        "    thetas = choose_init()\n",
        "\n",
        "    steps = (training_examples//batch_size)\n",
        "    if(training_examples % batch_size != 0):\n",
        "      steps = steps+1\n",
        "    reset_optimizer_update_dictionaries()\n",
        "    for i in range(epochs):\n",
        "      for j in range(steps):\n",
        "        X_step = X[j*batch_size : j*batch_size + batch_size]\n",
        "        Y_step = Y[j*batch_size : j*batch_size + batch_size]\n",
        "        values_step = forward_propagation(X_step.T, thetas)\n",
        "        grads = backward_propagation(thetas, values_step, X_step.T, Y_step.T)\n",
        "        thetas = choose_gd(thetas, grads, i, j, X, Y, steps)\n",
        "        cost = compute_cost(values_step, Y_step.T, thetas)\n",
        "        # print(i, cost)\n",
        "\n",
        "      evaluate_perf(thetas, i)      \n",
        "\n",
        "    return thetas"
      ]
    },
    {
      "cell_type": "markdown",
      "metadata": {
        "id": "Qnn1JngpUhf8"
      },
      "source": [
        "## Predicting the results"
      ]
    },
    {
      "cell_type": "code",
      "execution_count": 53,
      "metadata": {
        "id": "cI_ZOYIQUmqf"
      },
      "outputs": [],
      "source": [
        "def predict(X, thetas):  #predict on new array X given learnt parameters\n",
        "    values = forward_propagation(X.T, thetas)\n",
        "    predictions = values['A' + str(len(values)//2)].T\n",
        "    return predictions"
      ]
    },
    {
      "cell_type": "markdown",
      "metadata": {
        "id": "coxSq9Lf8pDZ"
      },
      "source": [
        "## Confusion matrix"
      ]
    },
    {
      "cell_type": "code",
      "execution_count": 74,
      "metadata": {
        "id": "y7OIwPQS9JQg"
      },
      "outputs": [],
      "source": [
        "def confusion(y_pred, y):\n",
        "  y_pred=np.argmax(y_pred, axis=1)\n",
        "  y = np.argmax(y, axis=1)\n",
        "  confusion = confusion_matrix(y, y_pred)\n",
        "  print('Confusion Matrix \\n')\n",
        "  print(confusion)  \n",
        "  return confusion"
      ]
    },
    {
      "cell_type": "code",
      "source": [
        "def wandb_plot_confusion_matrix(y_pred, y):\n",
        "  wandb.init(project=\"feedFwdNeuralDummy20\", entity=\"deeplearningcs6910\")\n",
        "  print(\"In wandb plot\")\n",
        "  print('y_pred.shape = ', y_pred.shape)\n",
        "  print('y.shape = ', y.shape)\n",
        "  y_pred=np.argmax(y_pred, axis=1)\n",
        "  print(y_pred.shape)\n",
        "  y = np.argmax(y, axis=1)\n",
        "  print('y_pred.shape = ', y_pred.shape)\n",
        "  print('y.shape = ', y.shape)\n",
        "  #class_names = np.unique(np.concatenate((ground_truth_labels,predictions)))\n",
        "  #From Fashion MNIST dataset, an alternative to MNIST: https://keras.io/api/datasets/fashion_mnist/\n",
        "  class_names = [\"T-shirt/top\", \"Trouser\", \"Pullover\", \"Dress\", \"Coat\", \"Sandal\", \"Shirt\", \"Sneaker\", \"Bag\", \"Ankle boot\"]\n",
        "  wandb.log({ \"my_conf_mat_id\" : wandb.plot.confusion_matrix(preds = y_pred, y_true = y, class_names = class_names)})\n",
        "                                                        "
      ],
      "metadata": {
        "id": "uxhF5ZISSF3T"
      },
      "execution_count": 75,
      "outputs": []
    },
    {
      "cell_type": "markdown",
      "source": [
        "## Accuracy"
      ],
      "metadata": {
        "id": "nAUVY9YDUfm0"
      }
    },
    {
      "cell_type": "code",
      "source": [
        "def accuracy(y_pred, y):\n",
        "  y_pred=np.argmax(y_pred, axis=1)\n",
        "  y = np.argmax(y, axis=1)\n",
        "  accuracy = accuracy_score(y, y_pred)\n",
        "  # print('\\nAccuracy: {:.2f}\\n'.format(accuracy))\n",
        "  return accuracy"
      ],
      "metadata": {
        "id": "SaO_pj0VUhip"
      },
      "execution_count": 56,
      "outputs": []
    },
    {
      "cell_type": "markdown",
      "source": [
        "## Evaluate Performance"
      ],
      "metadata": {
        "id": "gasohPf5DeSd"
      }
    },
    {
      "cell_type": "code",
      "source": [
        "def evaluate_perf(thetas, epochs):\n",
        "  y_pred_train = predict(X_cv_train, thetas)\n",
        "  y_pred_cv_test = predict(X_cv_test, thetas)\n",
        "  y_pred_test = predict(X_test_flat, thetas)\n",
        "\n",
        "  accuracy_train = accuracy(y_pred_train, y_cv_train_transformed) \n",
        "  accuracy_cv_test = accuracy(y_pred_cv_test, y_cv_test_transformed)\n",
        "  accuracy_test = accuracy(y_pred_test, y_test_transformed)\n",
        "\n",
        "  loss_train = choose_loss_func(y_pred_train, y_cv_train_transformed, thetas)\n",
        "  loss_cv_test = choose_loss_func(y_pred_cv_test, y_cv_test_transformed, thetas)\n",
        "  loss_test = choose_loss_func(y_pred_test, y_test_transformed, thetas)\n",
        "\n",
        "  logging(accuracy_train, accuracy_cv_test, accuracy_test, loss_train, loss_cv_test, loss_test, epochs)"
      ],
      "metadata": {
        "id": "susy0Q4tDitt"
      },
      "execution_count": 57,
      "outputs": []
    },
    {
      "cell_type": "markdown",
      "metadata": {
        "id": "f6AcehUlOrYk"
      },
      "source": [
        "## WandB Logs"
      ]
    },
    {
      "cell_type": "code",
      "execution_count": 58,
      "metadata": {
        "id": "khy2GlNMpF7e"
      },
      "outputs": [],
      "source": [
        "def logging(accuracy_train, accuracy_cv_test, accuracy_test, loss_train, loss_cv_test, loss_test, epochs):\n",
        "    wandb.log({\n",
        "      \"epochs\": epochs,\n",
        "      \"accuracy_train\": accuracy_train,\n",
        "      \"accuracy_cv_test\": accuracy_cv_test,\n",
        "      \"accuracy_test\": accuracy_test,\n",
        "      \"loss_train\": loss_train,\n",
        "      \"loss_cv_test\": loss_cv_test,\n",
        "      \"loss_test\": loss_test})"
      ]
    },
    {
      "cell_type": "markdown",
      "metadata": {
        "id": "L_mAAnrWo2u-"
      },
      "source": [
        "## Train WandB"
      ]
    },
    {
      "cell_type": "code",
      "execution_count": 59,
      "metadata": {
        "id": "7nd-ZYfijIHC"
      },
      "outputs": [],
      "source": [
        "def train():\n",
        "  run = wandb.init(project=\"test-project\", entity=\"deeplearningcs6910\", config = wandb.config, magic=True, reinit = True)\n",
        "  wandb.run.name = 'bs-'+str(wandb.config.batch_size)+'-lr-'+ str(wandb.config.learning_rate)+'-ep-'+str(wandb.config.epochs)+ '-op-'+str(wandb.config.optimizer)+ '-act-'+str(wandb.config.activation)+'-wd-'+str(wandb.config.weight_decay)+'-wi-'+str(wandb.config.wt_init) + '-nhl-'+str(wandb.config.no_hidden_layers)+'-shl1-'+str(wandb.config.size_hidden1)+'-shl2-'+str(wandb.config.size_hidden2)+'-shl3-'+str(wandb.config.size_hidden3)\n",
        "  if(wandb.config.no_hidden_layers >3):\n",
        "    wandb.run.name = wandb.run.name + '-shl4-'+str(wandb.config.size_hidden4)\n",
        "  \n",
        "  if(wandb.config.no_hidden_layers == 5):\n",
        "    wandb.run.name = wandb.run.name + '-shl5-'+str(wandb.config.size_hidden5)\n",
        "\n",
        "  wandb.run.name = wandb.run.name + '-lf-'+ str(wandb.config.loss_function)\n",
        "  \n",
        "  # global batch_size\n",
        "\n",
        "  global learning_rate \n",
        "  global no_hidden_layers\n",
        "  global size_hidden\n",
        "  global optimizer\n",
        "  global epochs\n",
        "  global weight_decay\n",
        "  global batch_size\n",
        "  global activation\n",
        "  global wt_init\n",
        "  global loss_function\n",
        "\n",
        "  batch_size = wandb.config.batch_size \n",
        "  learning_rate = wandb.config.learning_rate \n",
        "  epochs = wandb.config.epochs \n",
        "  optimizer = wandb.config.optimizer \n",
        "  no_hidden_layers = wandb.config.no_hidden_layers \n",
        "  # size_hidden = wandb.config.size_hidden \n",
        "  size_hidden1 = wandb.config.size_hidden1 \n",
        "  size_hidden2 = wandb.config.size_hidden2 \n",
        "  size_hidden3 = wandb.config.size_hidden3 \n",
        "  size_hidden4 = wandb.config.size_hidden4 \n",
        "  size_hidden5 = wandb.config.size_hidden5 \n",
        "  activation = wandb.config.activation \n",
        "  weight_decay = wandb.config.weight_decay\n",
        "  wt_init = wandb.config.wt_init   \n",
        "  loss_function = wandb.config.loss_function\n",
        "\n",
        "#   updating layer sizes\n",
        "  layer_sizes.clear()\n",
        "  layer_sizes.append(784)\n",
        "\n",
        "  layer_sizes.append(size_hidden1)\n",
        "  layer_sizes.append(size_hidden2)\n",
        "  layer_sizes.append(size_hidden3)\n",
        "\n",
        "  if(no_hidden_layers >3):\n",
        "    layer_sizes.append(size_hidden4)\n",
        "  \n",
        "  if(no_hidden_layers == 5):\n",
        "    layer_sizes.append(size_hidden5)\n",
        "\n",
        "  layer_sizes.append(10)\n",
        "\n",
        "  #training model\n",
        "  thetas = model(X_cv_train, y_cv_train_transformed, training_examples_cv) #modelling dataset\n",
        "\n",
        "  #predicting after 1 run\n",
        "  y_pred_cv_test_run = predict(X_cv_test, thetas)\n",
        "  accuracy_cv_test_run = accuracy(y_pred_cv_test_run, y_cv_test_transformed)\n",
        "\n",
        "  global best_accuracy\n",
        "  global best_thetas\n",
        "  if(accuracy_cv_test_run > best_accuracy):\n",
        "    best_accuracy = accuracy_cv_test_run\n",
        "    best_thetas = thetas\n",
        "\n",
        "  run.finish()\n"
      ]
    },
    {
      "cell_type": "code",
      "source": [
        "def generate_conf_matrix(X, y):\n",
        "  y_pred = predict(X, best_thetas)\n",
        "  # wandb_plot_confusion_matrix(y_pred, y)\n",
        "  conf = confusion(y_pred, y)\n",
        "  return conf"
      ],
      "metadata": {
        "id": "tD_jubWmWwfV"
      },
      "execution_count": 76,
      "outputs": []
    },
    {
      "cell_type": "markdown",
      "metadata": {
        "id": "6typ5P42gozi"
      },
      "source": [
        "## Sweep Configs"
      ]
    },
    {
      "cell_type": "markdown",
      "source": [
        "Please comment this section out if you dont want to do multiple runs"
      ],
      "metadata": {
        "id": "pVozOw5x2U09"
      }
    },
    {
      "cell_type": "markdown",
      "source": [
        "Running all the sweeps would be time consuming. Please comment out the sweep you dont want to see or change the count to 1 so that you can see one output."
      ],
      "metadata": {
        "id": "VEAFOc4K2rx6"
      }
    },
    {
      "cell_type": "markdown",
      "source": [
        "### Q4 - everything other than nag and nadam"
      ],
      "metadata": {
        "id": "pVirAYSzXQH5"
      }
    },
    {
      "cell_type": "code",
      "execution_count": 61,
      "metadata": {
        "id": "Wycu64mRgsJZ"
      },
      "outputs": [],
      "source": [
        "sweep_config = {\n",
        "        'method': 'bayes',#'bayes'\n",
        "        \"name\": \"assignement1-Feed Forward Neural Network - Q4\",\n",
        "        'metric':{\n",
        "            'goal': 'maximize',\n",
        "            'name': 'accuracy_cv_test',\n",
        "            'target': 0.96\n",
        "        },\n",
        "        'parameters': {\n",
        "            'epochs': {\n",
        "                'values': [5,10,15]#25,50]\n",
        "            },\n",
        "            'no_hidden_layers':{\n",
        "                'values': [3,4,5]\n",
        "            },\n",
        "            'size_hidden1':{\n",
        "                'values': [32,64,128]\n",
        "            },\n",
        "            'size_hidden2':{\n",
        "                'values': [32,64,128]\n",
        "            },\n",
        "            'size_hidden3':{\n",
        "                'values': [32,64,128]\n",
        "            },\n",
        "            'size_hidden4':{\n",
        "                'values': [32,64,128]\n",
        "            },\n",
        "            'size_hidden5':{\n",
        "                'values': [32,64,128]\n",
        "            },\n",
        "            'learning_rate':{\n",
        "                'values': [0.001,0.0001]\n",
        "            },\n",
        "            'optimizer':{\n",
        "                'values': ['sgd', 'momentum', 'rmsprop','adam']\n",
        "            },\n",
        "            'batch_size':{\n",
        "                'values': [16,32,64,128]\n",
        "            },\n",
        "            'activation':{\n",
        "                'values': ['sigmoid', 'tanh', 'relu']\n",
        "            },\n",
        "            'weight_decay':{\n",
        "                'values': [0,0.05,0.0005,0.5]\n",
        "            },\n",
        "            'wt_init': {\n",
        "                'values': ['random','xavier']\n",
        "            },\n",
        "            'loss_function': {\n",
        "                'values': ['cross_entropy']\n",
        "            }\n",
        "        }\n",
        "    }\n",
        "    \n",
        "sweep_id = wandb.sweep(sweep_config,project ='feedFwdNeuralNwkQ4')\n",
        "wandb.agent(sweep_id, function=train, count  = 40)"
      ]
    },
    {
      "cell_type": "markdown",
      "source": [
        "### Q4 - nag and nadam"
      ],
      "metadata": {
        "id": "bWGZt1LiVpNX"
      }
    },
    {
      "cell_type": "code",
      "source": [
        "sweep_config = {\n",
        "        'method': 'bayes',#'bayes'\n",
        "        \"name\": \"assignement1-Feed Forward Neural Network - Q4\",\n",
        "        'metric':{\n",
        "            'goal': 'maximize',\n",
        "            'name': 'accuracy_cv_test',\n",
        "            'target': 0.96\n",
        "        },\n",
        "        'parameters': {\n",
        "            'epochs': {\n",
        "                'values': [5,10,15]#25,50]\n",
        "            },\n",
        "            'no_hidden_layers':{\n",
        "                'values': [3,4,5]\n",
        "            },\n",
        "            'size_hidden1':{\n",
        "                'values': [32,64,128]\n",
        "            },\n",
        "            'size_hidden2':{\n",
        "                'values': [32,64,128]\n",
        "            },\n",
        "            'size_hidden3':{\n",
        "                'values': [32,64,128]\n",
        "            },\n",
        "            'size_hidden4':{\n",
        "                'values': [32,64,128]\n",
        "            },\n",
        "            'size_hidden5':{\n",
        "                'values': [32,64,128]\n",
        "            },\n",
        "            'learning_rate':{\n",
        "                'values': [0.0000001,0.00000001]\n",
        "            },\n",
        "            'optimizer':{\n",
        "                'values': ['nag','nadam']\n",
        "            },\n",
        "            'batch_size':{\n",
        "                'values': [6000]\n",
        "            },\n",
        "            'activation':{\n",
        "                'values': ['sigmoid', 'tanh', 'relu']\n",
        "            },\n",
        "            'weight_decay':{\n",
        "                'values': [0,0.05,0.0005,0.5]\n",
        "            },\n",
        "            'wt_init': {\n",
        "                'values': ['random', 'xavier']\n",
        "            },\n",
        "              'loss_func': {\n",
        "                'values': ['cross_entropy']\n",
        "            }\n",
        "        }\n",
        "    }\n",
        "    \n",
        "sweep_id = wandb.sweep(sweep_config,project ='feedFwdNeuralNwkFinalFinal')\n",
        "wandb.agent(sweep_id, function=train, count  = 10)"
      ],
      "metadata": {
        "id": "n0KdGsVKVti-"
      },
      "execution_count": 62,
      "outputs": []
    },
    {
      "cell_type": "markdown",
      "source": [
        "### Q7 Confusion matrix"
      ],
      "metadata": {
        "id": "jM1fConzWpdE"
      }
    },
    {
      "cell_type": "markdown",
      "source": [
        "PLEASE USE THIS SWEEP FOR 2 OUTPUTS"
      ],
      "metadata": {
        "id": "6loMjPCU2lKG"
      }
    },
    {
      "cell_type": "code",
      "source": [
        "sweep_config = {\n",
        "        'method': 'bayes',#'bayes'\n",
        "        \"name\": \"assignement1-Feed Forward Neural Network - Q7\",\n",
        "        'metric':{\n",
        "            'goal': 'maximize',\n",
        "            'name': 'accuracy_cv_test',\n",
        "            'target': 0.96\n",
        "        },\n",
        "        'parameters': {\n",
        "            'epochs': {\n",
        "                'values': [10]\n",
        "            },\n",
        "            'no_hidden_layers':{\n",
        "                'values': [4,5]\n",
        "            },\n",
        "            'size_hidden1':{\n",
        "                'values': [128]\n",
        "            },\n",
        "            'size_hidden2':{\n",
        "                'values': [128]\n",
        "            },\n",
        "            'size_hidden3':{\n",
        "                'values': [128]\n",
        "            },\n",
        "            'size_hidden4':{\n",
        "                'values': [64]\n",
        "            },\n",
        "            'size_hidden5':{\n",
        "                'values': [128]\n",
        "            },\n",
        "            'learning_rate':{\n",
        "                'values': [0.001]\n",
        "            },\n",
        "            'optimizer':{\n",
        "                'values': ['adam']\n",
        "            },\n",
        "            'batch_size':{\n",
        "                'values': [128]\n",
        "            },\n",
        "            'activation':{\n",
        "                'values': ['relu']\n",
        "            },\n",
        "            'weight_decay':{\n",
        "                'values': [0.05]\n",
        "            },\n",
        "            'wt_init': {\n",
        "                'values': ['xavier']\n",
        "            },\n",
        "            'loss_function': {\n",
        "                'values': ['cross_entropy']\n",
        "            }\n",
        "        }\n",
        "    }\n",
        "    \n",
        "sweep_id = wandb.sweep(sweep_config,project ='feedFwdNeuralNwkDummy20')\n",
        "wandb.agent(sweep_id, function=train, count  = 2)"
      ],
      "metadata": {
        "id": "kiH7zPgrYkCc"
      },
      "execution_count": null,
      "outputs": []
    },
    {
      "cell_type": "markdown",
      "source": [
        "### Q8 - comparison between cross_entropy and MSE"
      ],
      "metadata": {
        "id": "q90P1bzCtwFA"
      }
    },
    {
      "cell_type": "code",
      "source": [
        "sweep_config = {\n",
        "        'method': 'grid',\n",
        "        \"name\": \"assignement1-Feed Forward Neural Network - Q8\",\n",
        "        'metric':{\n",
        "            'goal': 'maximize',\n",
        "            'name': 'accuracy_cv_test',\n",
        "            'target': 0.96\n",
        "        },\n",
        "        'parameters': {\n",
        "            'epochs': {\n",
        "                'values': [10]\n",
        "            },\n",
        "            'no_hidden_layers':{\n",
        "                'values': [4,5]\n",
        "            },\n",
        "            'size_hidden1':{\n",
        "                'values': [128]\n",
        "            },\n",
        "            'size_hidden2':{\n",
        "                'values': [128]\n",
        "            },\n",
        "            'size_hidden3':{\n",
        "                'values': [128]\n",
        "            },\n",
        "            'size_hidden4':{\n",
        "                'values': [64]\n",
        "            },\n",
        "            'size_hidden5':{\n",
        "                'values': [128]\n",
        "            },\n",
        "            'learning_rate':{\n",
        "                'values': [0.001]\n",
        "            },\n",
        "            'optimizer':{\n",
        "                'values': ['adam']\n",
        "            },\n",
        "            'batch_size':{\n",
        "                'values': [128]\n",
        "            },\n",
        "            'activation':{\n",
        "                'values': ['relu']\n",
        "            },\n",
        "            'weight_decay':{\n",
        "                'values': [0.05]\n",
        "            },\n",
        "            'wt_init': {\n",
        "                'values': ['xavier']\n",
        "            },\n",
        "            'loss_function': {\n",
        "                'values': ['cross_entropy', 'mse']\n",
        "            }\n",
        "        }\n",
        "    }\n",
        "    \n",
        "sweep_id = wandb.sweep(sweep_config,project ='feedFwdNeuralNwkQ8')\n",
        "wandb.agent(sweep_id, function=train, count  = 5)"
      ],
      "metadata": {
        "id": "pSSOAd4Wt-KB"
      },
      "execution_count": 64,
      "outputs": []
    },
    {
      "cell_type": "markdown",
      "source": [
        "# Q7 Generating Confusion matrix"
      ],
      "metadata": {
        "id": "_BaxUgTIn6WY"
      }
    },
    {
      "cell_type": "code",
      "source": [
        "conf_train = generate_conf_matrix(X_cv_train, y_cv_train_transformed)"
      ],
      "metadata": {
        "id": "zK7xVuhQYdlK",
        "colab": {
          "base_uri": "https://localhost:8080/"
        },
        "outputId": "1cd8c5c4-3a90-44a5-dd22-1af670b6bcb9"
      },
      "execution_count": 77,
      "outputs": [
        {
          "output_type": "stream",
          "name": "stdout",
          "text": [
            "Confusion Matrix \n",
            "\n",
            "[[4808    2   58   28    3    2  488    0   20    0]\n",
            " [   8 5315    3   63    6    0   10    0    6    1]\n",
            " [  49    0 4622    6  281    0  410    0   11    0]\n",
            " [ 201   13   96 4508  365    1  197    0   36    0]\n",
            " [   7    2  425   15 4545    1  395    0   10    0]\n",
            " [   0    0    0    0    0 5269    1   79   23   24]\n",
            " [ 592    2  278   30  178    0 4274    1   18    0]\n",
            " [   0    0    0    0    0   79    0 5205   10   79]\n",
            " [   4    0   12    2   14    0   23    2 5382    1]\n",
            " [   0    0    0    0    0   45    0  211    5 5140]]\n"
          ]
        }
      ]
    },
    {
      "cell_type": "code",
      "source": [
        "conf_cv_test = generate_conf_matrix(X_cv_test, y_cv_test_transformed)"
      ],
      "metadata": {
        "id": "UncG2oX_X4sU",
        "colab": {
          "base_uri": "https://localhost:8080/"
        },
        "outputId": "356168b3-5aba-49b3-ed85-af79e54233f3"
      },
      "execution_count": 81,
      "outputs": [
        {
          "output_type": "stream",
          "name": "stdout",
          "text": [
            "Confusion Matrix \n",
            "\n",
            "[[507   1   8   6   0   1  65   0   3   0]\n",
            " [  1 572   2   8   0   0   5   0   0   0]\n",
            " [ 11   0 499   0  47   0  62   0   2   0]\n",
            " [ 24   4  11 486  30   0  21   0   6   1]\n",
            " [  0   0  51   9 485   0  54   0   1   0]\n",
            " [  0   0   0   0   0 570   0  17   7  10]\n",
            " [ 79   0  48   6  27   0 461   0   6   0]\n",
            " [  0   0   0   0   0  10   0 602   2  13]\n",
            " [  2   0   4   2   5   2   5   1 539   0]\n",
            " [  0   0   0   0   0   8   0  29   4 558]]\n"
          ]
        }
      ]
    },
    {
      "cell_type": "code",
      "source": [
        "conf_test = generate_conf_matrix(X_test_flat, y_test_transformed)"
      ],
      "metadata": {
        "id": "8x7DC3hwYLHr",
        "colab": {
          "base_uri": "https://localhost:8080/"
        },
        "outputId": "3c37dd6e-aa45-4001-e4f4-0be8ee0891f9"
      },
      "execution_count": 82,
      "outputs": [
        {
          "output_type": "stream",
          "name": "stdout",
          "text": [
            "Confusion Matrix \n",
            "\n",
            "[[838   1  19  10   4   1 117   0  10   0]\n",
            " [  4 963   0  21   3   0   7   1   1   0]\n",
            " [ 22   0 795   5  77   0  97   0   4   0]\n",
            " [ 33   4  29 812  60   0  52   0  10   0]\n",
            " [  0   0 104   8 790   0  97   0   1   0]\n",
            " [  0   0   0   0   0 944   0  32   6  18]\n",
            " [130   0  68  12  45   0 735   0  10   0]\n",
            " [  0   0   0   0   0  21   0 959   1  19]\n",
            " [  4   0   4   2   6   2   7   5 970   0]\n",
            " [  0   0   0   0   0  12   1  50   0 937]]\n"
          ]
        }
      ]
    },
    {
      "cell_type": "code",
      "source": [
        "def confusion_plot(conf):\n",
        "  ax = sns.heatmap(conf, annot=True, cmap='Blues')\n",
        "\n",
        "  ax.set_title('Confusion Matrix\\n\\n');\n",
        "  ax.set_xlabel('\\nPredicted Values')\n",
        "  ax.set_ylabel('Actual Values ');\n",
        "\n",
        "  ## Ticket labels - List must be in alphabetical order\n",
        "  ax.xaxis.set_ticklabels(['False','True'])\n",
        "  ax.yaxis.set_ticklabels(['False','True'])\n",
        "\n",
        "  ## Display the visualization of the Confusion Matrix.\n",
        "  plt.show()"
      ],
      "metadata": {
        "id": "dvZ3YXqflbOl"
      },
      "execution_count": 86,
      "outputs": []
    },
    {
      "cell_type": "code",
      "source": [
        "confusion_plot(conf_train)\n",
        "confusion_plot(conf_cv_test)\n",
        "confusion_plot(conf_test)"
      ],
      "metadata": {
        "colab": {
          "base_uri": "https://localhost:8080/",
          "height": 977
        },
        "id": "Qkex5FIAmml6",
        "outputId": "94ddea4f-e0ce-4f9a-95b6-963224645dff"
      },
      "execution_count": 87,
      "outputs": [
        {
          "output_type": "display_data",
          "data": {
            "image/png": "[encoded data removed]",
            "text/plain": [
              "<Figure size 432x288 with 2 Axes>"
            ]
          },
          "metadata": {
            "needs_background": "light"
          }
        },
        {
          "output_type": "display_data",
          "data": {
            "image/png": "[encoded data removed]",
            "text/plain": [
              "<Figure size 432x288 with 2 Axes>"
            ]
          },
          "metadata": {
            "needs_background": "light"
          }
        },
        {
          "output_type": "display_data",
          "data": {
            "image/png": "[encoded data removed]",
            "text/plain": [
              "<Figure size 432x288 with 2 Axes>"
            ]
          },
          "metadata": {
            "needs_background": "light"
          }
        }
      ]
    }
  ],
  "metadata": {
    "colab": {
      "collapsed_sections": [
        "Hxchi_JMa1Gv",
        "GpS8DskI8NgB",
        "vkeocN3kFhYa",
        "idWpy5MhHhkZ",
        "KVOsv6YTjLes",
        "AradyvQDj6mk",
        "Ml3R3bkmWF3t",
        "bb6jCOCQiAmP"
      ],
      "name": "Feed_Forward_Neural_Networks.ipynb",
      "provenance": [],
      "toc_visible": true
    },
    "kernelspec": {
      "display_name": "Python 3 (ipykernel)",
      "language": "python",
      "name": "python3"
    },
    "language_info": {
      "codemirror_mode": {
        "name": "ipython",
        "version": 3
      },
      "file_extension": ".py",
      "mimetype": "text/x-python",
      "name": "python",
      "nbconvert_exporter": "python",
      "pygments_lexer": "ipython3",
      "version": "3.9.2"
    }
  },
  "nbformat": 4,
  "nbformat_minor": 0
}