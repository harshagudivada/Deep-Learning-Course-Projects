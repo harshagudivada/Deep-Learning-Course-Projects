{
  "cells": [
    {
      "cell_type": "markdown",
      "metadata": {
        "id": "j02d22S9sBeI"
      },
      "source": [
        "# Feed Forward Neural Networks - Q10 with MNIST data set\n"
      ]
    },
    {
      "cell_type": "markdown",
      "metadata": {
        "id": "LWd1UlMnhT2s"
      },
      "source": [
        "## Importing the libraries"
      ]
    },
    {
      "cell_type": "code",
      "execution_count": 1,
      "metadata": {
        "id": "YvGPUQaHhXfL"
      },
      "outputs": [],
      "source": [
        "import numpy as np\n",
        "import matplotlib.pyplot as plt\n",
        "import pandas as pd\n",
        "from keras.datasets import mnist\n",
        "from sklearn.metrics import confusion_matrix\n",
        "from sklearn.metrics import accuracy_score\n",
        "from sklearn.metrics import log_loss\n",
        "from sklearn.model_selection import train_test_split"
      ]
    },
    {
      "cell_type": "markdown",
      "metadata": {
        "id": "gAhsX_PvNvSa"
      },
      "source": [
        "## WandB"
      ]
    },
    {
      "cell_type": "markdown",
      "source": [
        "Install and login to your wandb account to get the reports"
      ],
      "metadata": {
        "id": "J136gkHv-uNx"
      }
    },
    {
      "cell_type": "code",
      "execution_count": 2,
      "metadata": {
        "id": "DnHJVjljN52B"
      },
      "outputs": [],
      "source": [
        "!pip install wandb -qqq\n",
        "import wandb"
      ]
    },
    {
      "cell_type": "code",
      "execution_count": 3,
      "metadata": {
        "id": "GsK_D8CqN52E",
        "colab": {
          "base_uri": "https://localhost:8080/"
        },
        "outputId": "a0c56315-d6ef-4152-e2fa-7a13a7658f72"
      },
      "outputs": [
        {
          "output_type": "stream",
          "name": "stdout",
          "text": [
            "\u001b[34m\u001b[1mwandb\u001b[0m: Currently logged in as: \u001b[33mdeeplearningcs6910\u001b[0m (use `wandb login --relogin` to force relogin)\n"
          ]
        }
      ],
      "source": [
        "# Log in to your W&B account\n",
        "!wandb login"
      ]
    },
    {
      "cell_type": "markdown",
      "metadata": {
        "id": "K1VMqkGvhc3-"
      },
      "source": [
        "## Importing the dataset"
      ]
    },
    {
      "cell_type": "markdown",
      "source": [
        "Downloading datas from keras as mentioned in Q1"
      ],
      "metadata": {
        "id": "SYaOssk2-0LM"
      }
    },
    {
      "cell_type": "code",
      "execution_count": 4,
      "metadata": {
        "id": "j0D8FgVMvv5s"
      },
      "outputs": [],
      "source": [
        "(X_train, y_train), (X_test, y_test) = mnist.load_data()"
      ]
    },
    {
      "cell_type": "code",
      "execution_count": 5,
      "metadata": {
        "id": "iDNaBH4JzY6g"
      },
      "outputs": [],
      "source": [
        "labels = np.unique(y_train)"
      ]
    },
    {
      "cell_type": "markdown",
      "metadata": {
        "id": "X1YaJXa9dTJ3"
      },
      "source": [
        "## Global variables"
      ]
    },
    {
      "cell_type": "code",
      "execution_count": 6,
      "metadata": {
        "id": "sBviK09igsta"
      },
      "outputs": [],
      "source": [
        "training_examples = X_train.shape[0]\n",
        "test_examples = X_test.shape[0]\n",
        "best_thetas = {}\n",
        "best_accuracy = -1"
      ]
    },
    {
      "cell_type": "code",
      "execution_count": 7,
      "metadata": {
        "id": "-xxk9xaUcvQ9"
      },
      "outputs": [],
      "source": [
        "# loss_function = 'cross_entropy' #1 = cross entropy, 2 = mean squared error loss\n",
        "# learning_rate = 0.0001 #nesterov - 0.0000001  #tanh =  0.0001 #relu = 0.0001 #signmd = 0.001\n",
        "# no_hidden_layers = 1\n",
        "# size_hidden = 128\n",
        "# # layer_sizes = [784,128,10]\n",
        "# optimizer = 6 #{1 = vanilla GD, 2 = ..}\n",
        "# epochs = 20\n",
        "# weight_decay = 0.05\n",
        "# batch_size = 1000\n",
        "# activation = 3 #{1 = sgd, 2 = tanh, 3 = relu}\n",
        "# wt_init = 1 #{1 = random, 2 = xavier}\n",
        "# layer_sizes = []\n",
        "\n"
      ]
    },
    {
      "cell_type": "code",
      "execution_count": 8,
      "metadata": {
        "id": "GiAhSmyZso6M"
      },
      "outputs": [],
      "source": [
        "loss_function = ''\n",
        "learning_rate = ''\n",
        "no_hidden_layers = ''\n",
        "size_hidden1 = -1\n",
        "size_hidden2 = -1\n",
        "size_hidden3 = -1\n",
        "size_hidden4 = -1\n",
        "size_hidden5 = -1\n",
        "optimizer = '' \n",
        "epochs = -1\n",
        "weight_decay = -1\n",
        "batch_size = -1\n",
        "activation = '' #{1 = sgd, 2 = tanh, 3 = relu}\n",
        "wt_init = '' #{1 = random, 2 = xavier}\n",
        "layer_sizes = []"
      ]
    },
    {
      "cell_type": "code",
      "execution_count": 9,
      "metadata": {
        "id": "11SewiRogwWB"
      },
      "outputs": [],
      "source": [
        "#Added by Harsha\n",
        "gamma = 0.9\n",
        "beta = 0.9\n",
        "epsilon = 0.00000001\n",
        "beta1 = 0.9\n",
        "beta2 = 0.99"
      ]
    },
    {
      "cell_type": "code",
      "execution_count": 10,
      "metadata": {
        "id": "SxEj0ZxactRS"
      },
      "outputs": [],
      "source": [
        "#global dictionaries for Optimizers\n",
        "\n",
        "#update dictionaries for momentum gradient descent\n",
        "mgd_w_update = {}\n",
        "mgd_b_update = {}\n",
        "\n",
        "#update dictionaries for Nesterov Accelerated gradient Descent\n",
        "nagd_w_update = {}\n",
        "nagd_b_update = {}\n",
        "\n",
        "#update dictionaries for rmsprop\n",
        "rmsprop_w_vt = {}\n",
        "rmsprop_b_vt = {}\n",
        "\n",
        "#update dictionaries for adam\n",
        "adam_w_mt = {}\n",
        "adam_b_mt = {}\n",
        "adam_w_vt = {}\n",
        "adam_b_vt = {}\n",
        "\n",
        "#update dictionaries for nadam\n",
        "nadam_w_mt = {}\n",
        "nadam_b_mt = {}\n",
        "nadam_w_vt = {}\n",
        "nadam_b_vt = {}"
      ]
    },
    {
      "cell_type": "code",
      "execution_count": 11,
      "metadata": {
        "id": "n7HVoqIti_r_"
      },
      "outputs": [],
      "source": [
        "np.random.seed(1)"
      ]
    },
    {
      "cell_type": "markdown",
      "metadata": {
        "id": "x2vU3DflPX5G"
      },
      "source": [
        "## Flatten Dataset"
      ]
    },
    {
      "cell_type": "markdown",
      "source": [
        "Given data is (tr_ex x 28 x 28) feature matrix. Flattening it to 2 dimension and making the feature matrix (tr_ex x 784)"
      ],
      "metadata": {
        "id": "ShHvRsGc_BxD"
      }
    },
    {
      "cell_type": "markdown",
      "source": [
        "### Train set\n"
      ],
      "metadata": {
        "id": "G1C0oaj_Ppwe"
      }
    },
    {
      "cell_type": "code",
      "execution_count": 12,
      "metadata": {
        "id": "Uue5PcBsPV_6"
      },
      "outputs": [],
      "source": [
        "X_train_flat = X_train.flatten()\n",
        "X_train_flat = X_train_flat.reshape(60000,784)"
      ]
    },
    {
      "cell_type": "markdown",
      "source": [
        "### Test set"
      ],
      "metadata": {
        "id": "XmZxB8C7Pxhv"
      }
    },
    {
      "cell_type": "code",
      "source": [
        "X_test_flat = X_test.flatten()\n",
        "X_test_flat = X_test_flat.reshape(10000,784)"
      ],
      "metadata": {
        "id": "50vLevj_P0LZ"
      },
      "execution_count": 13,
      "outputs": []
    },
    {
      "cell_type": "markdown",
      "metadata": {
        "id": "vkV8qxeQ92hK"
      },
      "source": [
        "## Splitting dataset for cross validation"
      ]
    },
    {
      "cell_type": "markdown",
      "source": [
        "Splitting the training data into training set and the validation set.\\\\\n",
        "Taking 10% training data as cross validation set."
      ],
      "metadata": {
        "id": "WzwglFhy_cOl"
      }
    },
    {
      "cell_type": "code",
      "execution_count": 14,
      "metadata": {
        "id": "F_DR_RuD996J"
      },
      "outputs": [],
      "source": [
        "X_cv_train, X_cv_test, y_cv_train, y_cv_test = train_test_split(X_train_flat, y_train, test_size = 0.1, random_state = 1)"
      ]
    },
    {
      "cell_type": "code",
      "execution_count": 15,
      "metadata": {
        "id": "YiFLuUFCLgEQ"
      },
      "outputs": [],
      "source": [
        "training_examples_cv = X_cv_train.shape[0]"
      ]
    },
    {
      "cell_type": "markdown",
      "source": [
        "## Normalization\n"
      ],
      "metadata": {
        "id": "DpsHfJcEtVwM"
      }
    },
    {
      "cell_type": "markdown",
      "source": [
        "Normalizing feature set to have zero mean and unit variance"
      ],
      "metadata": {
        "id": "_Nw3cIOFARzC"
      }
    },
    {
      "cell_type": "code",
      "source": [
        "X_cv_train = X_cv_train - X_cv_train.mean()\n",
        "X_cv_train = X_cv_train / X_cv_train.std()\n",
        "\n",
        "X_cv_test = X_cv_test - X_cv_test.mean()\n",
        "X_cv_test = X_cv_test / X_cv_test.std()\n",
        "\n",
        "X_test_flat = X_test_flat - X_test_flat.mean()\n",
        "X_test_flat = X_test_flat / X_test_flat.std()"
      ],
      "metadata": {
        "id": "l6jhd5h53yCL"
      },
      "execution_count": 16,
      "outputs": []
    },
    {
      "cell_type": "markdown",
      "metadata": {
        "id": "Hxchi_JMa1Gv"
      },
      "source": [
        "## Transforming Y into One hot vectors"
      ]
    },
    {
      "cell_type": "markdown",
      "source": [
        "Given data is for multi-class classification. \\\\\n",
        "Expressing the output layer as a one hot vector of the 10 output labels possible."
      ],
      "metadata": {
        "id": "7no-HS3oAVV1"
      }
    },
    {
      "cell_type": "code",
      "execution_count": 17,
      "metadata": {
        "id": "M5IowG64a6WJ"
      },
      "outputs": [],
      "source": [
        "def transform(y):\n",
        "  x = np.zeros(shape = (y.shape[0],10))\n",
        "  for i in range(y.shape[0]):\n",
        "    x[i][y[i]] = 1\n",
        "  return x"
      ]
    },
    {
      "cell_type": "code",
      "execution_count": 18,
      "metadata": {
        "id": "i6vqNTXNK40L"
      },
      "outputs": [],
      "source": [
        "y_cv_train_transformed = transform(y_cv_train)"
      ]
    },
    {
      "cell_type": "code",
      "execution_count": 19,
      "metadata": {
        "id": "_3nSWAgRQPqe"
      },
      "outputs": [],
      "source": [
        "y_cv_test_transformed = transform(y_cv_test)"
      ]
    },
    {
      "cell_type": "code",
      "source": [
        "y_test_transformed = transform(y_test)"
      ],
      "metadata": {
        "id": "xQQlkDfxQaxf"
      },
      "execution_count": 20,
      "outputs": []
    },
    {
      "cell_type": "markdown",
      "source": [
        "## ***Visualise data***"
      ],
      "metadata": {
        "id": "MrmPVve4QrWY"
      }
    },
    {
      "cell_type": "markdown",
      "metadata": {
        "id": "GpS8DskI8NgB"
      },
      "source": [
        "### Visualise training data (add title)"
      ]
    },
    {
      "cell_type": "markdown",
      "source": [
        "Visualising training data on python output"
      ],
      "metadata": {
        "id": "4pjkcG7wqWr7"
      }
    },
    {
      "cell_type": "code",
      "execution_count": 21,
      "metadata": {
        "id": "lL7WYuCfxrIq",
        "colab": {
          "base_uri": "https://localhost:8080/",
          "height": 227
        },
        "outputId": "b5185b31-7cc0-41a0-a733-6826ebbac904"
      },
      "outputs": [
        {
          "output_type": "display_data",
          "data": {
            "image/png": "[encoded data removed]",
            "text/plain": [
              "<Figure size 432x288 with 10 Axes>"
            ]
          },
          "metadata": {
            "needs_background": "light"
          }
        }
      ],
      "source": [
        "j = 0\n",
        "image = plt.subplot()\n",
        "for i in range(1000):\n",
        "  if (y_train[i] == j):\n",
        "    plt.subplot(2,5, 1 + j)\n",
        "    plt.imshow(X_train[i], cmap=plt.get_cmap('gray'))\n",
        "    j = j + 1\n",
        "  if(j == 10):\n",
        "    break\n",
        "# show the figure\n",
        "plt.show()"
      ]
    },
    {
      "cell_type": "markdown",
      "source": [
        "Visualising training data on wandb"
      ],
      "metadata": {
        "id": "7Rj1YWSrqc6h"
      }
    },
    {
      "cell_type": "markdown",
      "metadata": {
        "id": "i3GIr0UAlOH_"
      },
      "source": [
        "###Visualise Test data\n"
      ]
    },
    {
      "cell_type": "markdown",
      "source": [
        "Visualising test data on python output"
      ],
      "metadata": {
        "id": "weZW1bt9qe9i"
      }
    },
    {
      "cell_type": "code",
      "execution_count": 22,
      "metadata": {
        "id": "48s__n_WlSnQ",
        "colab": {
          "base_uri": "https://localhost:8080/",
          "height": 227
        },
        "outputId": "852407ce-63db-48e4-b2fc-3e4a61d4e47f"
      },
      "outputs": [
        {
          "output_type": "display_data",
          "data": {
            "image/png": "[encoded data removed]",
            "text/plain": [
              "<Figure size 432x288 with 10 Axes>"
            ]
          },
          "metadata": {
            "needs_background": "light"
          }
        }
      ],
      "source": [
        "j = 0\n",
        "for i in range(1000):\n",
        "  if (y_test[i] == j):\n",
        "    plt.subplot(2,5, 1 + j)\n",
        "    plt.imshow(X_test[i], cmap=plt.get_cmap('gray'))\n",
        "    j = j + 1\n",
        "  if(j == 10):\n",
        "    break\n",
        "# show the figure\n",
        "plt.show()"
      ]
    },
    {
      "cell_type": "markdown",
      "source": [
        "Visualising test data on wandb"
      ],
      "metadata": {
        "id": "bWJR93kUqiHy"
      }
    },
    {
      "cell_type": "markdown",
      "metadata": {
        "id": "vkeocN3kFhYa"
      },
      "source": [
        "## ***Error Functions***"
      ]
    },
    {
      "cell_type": "markdown",
      "metadata": {
        "id": "SKfgWjAz9Y2Y"
      },
      "source": [
        "### Choose Loss function"
      ]
    },
    {
      "cell_type": "code",
      "source": [
        "def choose_loss_func(y_pred, y, thetas):\n",
        "  if (loss_function == 'cross_entropy'):\n",
        "    return cross_entropy(y, y_pred, thetas)\n",
        "  if (loss_function == 'mse'):\n",
        "    return mse(y,y_pred, thetas)"
      ],
      "metadata": {
        "id": "cCJEJM2TCieU"
      },
      "execution_count": 23,
      "outputs": []
    },
    {
      "cell_type": "markdown",
      "metadata": {
        "id": "Ajr-h0osOVLp"
      },
      "source": [
        "### Least Square Error"
      ]
    },
    {
      "cell_type": "code",
      "execution_count": 24,
      "metadata": {
        "id": "z7dhH97tOaAO"
      },
      "outputs": [],
      "source": [
        "def mse(Y, Y_predicted, thetas):\n",
        "  layers = len(thetas)//2\n",
        "  cost = np.sum((Y - Y_predicted)**2) / len(Y) + (weight_decay*0.5 * (np.sum([np.linalg.norm(thetas['W'+str(i)]) for i in range(1, layers+1)])))\n",
        "  return cost"
      ]
    },
    {
      "cell_type": "markdown",
      "metadata": {
        "id": "l41OWJpyFqOY"
      },
      "source": [
        "### Cross Entropy"
      ]
    },
    {
      "cell_type": "code",
      "execution_count": 25,
      "metadata": {
        "id": "_8M3Nb71Fzha"
      },
      "outputs": [],
      "source": [
        "def cross_entropy(Y, Y_predicted, thetas):\n",
        "  layers = len(thetas)//2\n",
        "  cost = log_loss(Y, Y_predicted) + (weight_decay*0.5 * (np.sum([np.linalg.norm(thetas['W'+str(i)]) for i in range(1, layers+1)])))\n",
        "  return cost"
      ]
    },
    {
      "cell_type": "markdown",
      "metadata": {
        "id": "idWpy5MhHhkZ"
      },
      "source": [
        "## ***Activation Functions***"
      ]
    },
    {
      "cell_type": "markdown",
      "metadata": {
        "id": "zDPdbP8r2ok1"
      },
      "source": [
        "### Choose Activation"
      ]
    },
    {
      "cell_type": "code",
      "execution_count": 26,
      "metadata": {
        "id": "50aU8o4O2sMC"
      },
      "outputs": [],
      "source": [
        "def choose_activation(X):\n",
        "  if (activation == 'sigmoid'):\n",
        "    return sigmoid(X)\n",
        "  if (activation == 'tanh'):\n",
        "    return tanh(X)\n",
        "  if (activation == 'relu'):\n",
        "    return relu(X)"
      ]
    },
    {
      "cell_type": "markdown",
      "metadata": {
        "id": "gHp4sVScT3Zf"
      },
      "source": [
        "### Sigmoid Function"
      ]
    },
    {
      "cell_type": "markdown",
      "source": [
        "$sigmoid(x) = \\frac{1}{1+e^{-x}}$"
      ],
      "metadata": {
        "id": "UfHpYLwIqvG6"
      }
    },
    {
      "cell_type": "code",
      "execution_count": 27,
      "metadata": {
        "id": "yNrpBLd7T8do"
      },
      "outputs": [],
      "source": [
        "def sigmoid(X):\n",
        "  return 1/(1+np.exp(-X))"
      ]
    },
    {
      "cell_type": "markdown",
      "metadata": {
        "id": "BTTpl6O4H843"
      },
      "source": [
        "### Tanh Function"
      ]
    },
    {
      "cell_type": "markdown",
      "metadata": {
        "id": "NAM2O1PaIXHS"
      },
      "source": [
        "$tanh (x) = \\frac{e^x – e^{-x}}{e^x + e^{-x}}$\n",
        "\n",
        "\n"
      ]
    },
    {
      "cell_type": "code",
      "execution_count": 28,
      "metadata": {
        "id": "j1gIrYMbIAUv"
      },
      "outputs": [],
      "source": [
        "def tanh(X):\n",
        "  return (np.exp(X) - np.exp(-X))/ (np.exp(X) + np.exp(-X)) #np.tanh(X)"
      ]
    },
    {
      "cell_type": "markdown",
      "metadata": {
        "id": "Aey4z5txWMqN"
      },
      "source": [
        "### ReLU Function"
      ]
    },
    {
      "cell_type": "markdown",
      "metadata": {
        "id": "UaKCSOVkW4hu"
      },
      "source": [
        "relu(x) = max(0,x)"
      ]
    },
    {
      "cell_type": "code",
      "execution_count": 29,
      "metadata": {
        "id": "JmROgvb_WQde"
      },
      "outputs": [],
      "source": [
        "def relu(X):\n",
        "  return np.maximum(0,X)"
      ]
    },
    {
      "cell_type": "markdown",
      "metadata": {
        "id": "ru-Rt2fHXKbr"
      },
      "source": [
        "### Softmax function"
      ]
    },
    {
      "cell_type": "markdown",
      "metadata": {
        "id": "jACpqApEi8cG"
      },
      "source": [
        "$softmax(x) = \\frac{e^x}{\\sum_i e^{x_i}}$"
      ]
    },
    {
      "cell_type": "code",
      "execution_count": 30,
      "metadata": {
        "id": "XLvFb7j1Xctr"
      },
      "outputs": [],
      "source": [
        "def softmax(X):\n",
        "  return np.exp(X) / np.sum(np.exp(X), axis=0)"
      ]
    },
    {
      "cell_type": "markdown",
      "metadata": {
        "id": "KVOsv6YTjLes"
      },
      "source": [
        "## ***Derivatives of Activations***"
      ]
    },
    {
      "cell_type": "markdown",
      "metadata": {
        "id": "TrchfuqDGYmm"
      },
      "source": [
        "### Choose derivative of activation"
      ]
    },
    {
      "cell_type": "code",
      "execution_count": 31,
      "metadata": {
        "id": "ytMSDzSFGcVn"
      },
      "outputs": [],
      "source": [
        "def choose_der_activation(X):\n",
        "  if (activation == 'sigmoid'):\n",
        "    return der_sigmoid(X)\n",
        "  if (activation == 'tanh'):\n",
        "    return der_tanh(X)\n",
        "  if (activation == 'relu'):\n",
        "    return der_relu(X)"
      ]
    },
    {
      "cell_type": "markdown",
      "metadata": {
        "id": "8mJBOoCLjn3F"
      },
      "source": [
        "### Sigmoid derivative"
      ]
    },
    {
      "cell_type": "markdown",
      "source": [
        "f(x) = sigmoid(x) \\\\\n",
        "f'(x) = sigmoid(x) * (1 - sigmoid(x))"
      ],
      "metadata": {
        "id": "LEazBh2grcCd"
      }
    },
    {
      "cell_type": "code",
      "execution_count": 32,
      "metadata": {
        "id": "PfvxLxNgjmbW"
      },
      "outputs": [],
      "source": [
        "def der_sigmoid(X):\n",
        "  return np.multiply(sigmoid(X), (1.0 - sigmoid(X)))"
      ]
    },
    {
      "cell_type": "markdown",
      "metadata": {
        "id": "FOyoUmwyjszD"
      },
      "source": [
        "### Tanh derivative"
      ]
    },
    {
      "cell_type": "markdown",
      "source": [
        "f(x) = tanh(x) \\\\\n",
        "f'(x) = $1 - tanh^2(x) $"
      ],
      "metadata": {
        "id": "K5AafoKzrrpR"
      }
    },
    {
      "cell_type": "code",
      "execution_count": 33,
      "metadata": {
        "id": "qbw9iqEcjwP0"
      },
      "outputs": [],
      "source": [
        "def der_tanh(X):\n",
        "  return 1 - np.multiply(tanh(X), tanh(X))"
      ]
    },
    {
      "cell_type": "markdown",
      "metadata": {
        "id": "2bqIuoiyjxYF"
      },
      "source": [
        "### ReLU derivative"
      ]
    },
    {
      "cell_type": "markdown",
      "source": [
        "f(x) = relu(x) \\\\\n",
        "f'(x) = 1 if x>=0 \\\\\n",
        "      = 0 otherwise"
      ],
      "metadata": {
        "id": "IU6aWTuSr4W5"
      }
    },
    {
      "cell_type": "code",
      "execution_count": 34,
      "metadata": {
        "id": "xPnXpNizj0RF"
      },
      "outputs": [],
      "source": [
        "def der_relu(X):\n",
        "  return np.where(X >=0, 1, 0)"
      ]
    },
    {
      "cell_type": "markdown",
      "metadata": {
        "id": "AradyvQDj6mk"
      },
      "source": [
        "## ***Q3 - Optimizers***"
      ]
    },
    {
      "cell_type": "markdown",
      "metadata": {
        "id": "Ge0M8piJcPrs"
      },
      "source": [
        "### Reset global dictionaries"
      ]
    },
    {
      "cell_type": "code",
      "execution_count": 35,
      "metadata": {
        "id": "owQXIMpocTPi"
      },
      "outputs": [],
      "source": [
        "def reset_optimizer_update_dictionaries():\n",
        "    global mgd_w_update\n",
        "    global mgd_b_update\n",
        "    \n",
        "    global nagd_w_update\n",
        "    global nagd_b_update\n",
        "    \n",
        "    global rmsprop_w_vt\n",
        "    global rmsprop_b_vt\n",
        "    \n",
        "    global adam_w_mt\n",
        "    global adam_b_mt\n",
        "    global adam_w_vt\n",
        "    global adam_b_vt\n",
        "    \n",
        "    global nadam_w_mt\n",
        "    global nadam_b_mt\n",
        "    global nadam_w_vt\n",
        "    global nadam_b_vt\n",
        "    \n",
        "    mgd_w_update = {}\n",
        "    mgd_b_update = {}\n",
        "    \n",
        "    nagd_w_update = {}\n",
        "    nagd_b_update = {}\n",
        "    \n",
        "    rmsprop_w_vt = {}\n",
        "    rmsprop_b_vt = {}\n",
        "    \n",
        "    adam_w_mt = {}\n",
        "    adam_b_mt = {}\n",
        "    adam_w_vt = {}\n",
        "    adam_b_vt = {}\n",
        "    \n",
        "    nadam_w_mt = {}\n",
        "    nadam_b_mt = {}\n",
        "    nadam_w_vt = {}\n",
        "    nadam_b_vt = {}"
      ]
    },
    {
      "cell_type": "markdown",
      "metadata": {
        "id": "02FdPzksXKjr"
      },
      "source": [
        "### Vanilla Gradient Descent (Used for SGD as well)"
      ]
    },
    {
      "cell_type": "markdown",
      "source": [
        "Update rule: \\\\\n",
        "$θ = θ - η * ∇ θ$"
      ],
      "metadata": {
        "id": "gKG2TCh7scOD"
      }
    },
    {
      "cell_type": "code",
      "execution_count": 36,
      "metadata": {
        "id": "usIZokPNaanj"
      },
      "outputs": [],
      "source": [
        "def gradient_descent(thetas, grads): #takes parameters, gradients and learning rate as input and returns updated parameters\n",
        "    layers = len(thetas)//2\n",
        "    thetas_updated = {}\n",
        "    for i in range(1,layers+1):\n",
        "        thetas_updated['W' + str(i)] = thetas['W' + str(i)] - learning_rate * grads['W' + str(i)]\n",
        "        thetas_updated['B' + str(i)] = thetas['B' + str(i)] - learning_rate * grads['B' + str(i)]\n",
        "    return thetas_updated"
      ]
    },
    {
      "cell_type": "markdown",
      "metadata": {
        "id": "vLm48rAA1NeT"
      },
      "source": [
        "### Momentum based Gradient Descent"
      ]
    },
    {
      "cell_type": "markdown",
      "source": [
        "Update Rule: \\\\\n",
        "![image.png](data:image/png;base64,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)"
      ],
      "metadata": {
        "id": "-IpsSktUgA7j"
      }
    },
    {
      "cell_type": "code",
      "execution_count": 37,
      "metadata": {
        "id": "Q-EP-S8O1TR7"
      },
      "outputs": [],
      "source": [
        "def momentum_gradient_descent(thetas, grads, epoch_counter, step_counter):\n",
        "  global mgd_w_update  \n",
        "  global mgd_b_update\n",
        "    \n",
        "  layers = len(thetas)//2\n",
        "  thetas_updated = {}\n",
        "    \n",
        "\n",
        "  if(epoch_counter == 0 and step_counter == 0):\n",
        "    for i in range(1,layers+1):\n",
        "      thetas_updated['W' + str(i)] = thetas['W' + str(i)] - learning_rate * grads['W' + str(i)]\n",
        "      mgd_w_update[i] = learning_rate * grads['W' + str(i)]\n",
        "      thetas_updated['B' + str(i)] = thetas['B' + str(i)] - learning_rate * grads['B' + str(i)]\n",
        "      mgd_b_update[i] = learning_rate * grads['B' + str(i)]\n",
        "  else:\n",
        "    for i in range(1,layers+1):\n",
        "       thetas_updated['W' + str(i)] = thetas['W' + str(i)] - ((gamma * mgd_w_update[i] )+(learning_rate * grads['W' + str(i)]))\n",
        "       mgd_w_update[i] = (gamma * mgd_w_update[i] )+(learning_rate * grads['W' + str(i)])\n",
        "       thetas_updated['B' + str(i)] = thetas['B' + str(i)] - ((gamma * mgd_b_update[i] )+(learning_rate * grads['B' + str(i)]))\n",
        "       mgd_b_update[i] = (gamma * mgd_b_update[i] )+(learning_rate * grads['B' + str(i)])\n",
        "  \n",
        "  return thetas_updated\n",
        "\n"
      ]
    },
    {
      "cell_type": "markdown",
      "metadata": {
        "id": "6ibBvYFz1DEq"
      },
      "source": [
        "### Nesterov Accelerated Gradient Descent"
      ]
    },
    {
      "cell_type": "markdown",
      "source": [
        "Update Rule: \\\\\n",
        "\n",
        "![image.png](data:image/png;base64,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)"
      ],
      "metadata": {
        "id": "aSDtCxJigWCP"
      }
    },
    {
      "cell_type": "code",
      "execution_count": 38,
      "metadata": {
        "id": "PRE5fDxr1L0O"
      },
      "outputs": [],
      "source": [
        "def nesterov_accelerated_gradient_descent(thetas, grads, epoch_counter, step_counter, X, Y):\n",
        "    \n",
        "  global nagd_w_update\n",
        "  global nagd_b_update\n",
        "\n",
        "  layers = len(thetas)//2\n",
        "  thetas_updated = {}\n",
        "  thetas_look_ahead = {}\n",
        "\n",
        "  if(epoch_counter != 0 or step_counter != 0):\n",
        "    for i in range(1,layers+1):\n",
        "      thetas_look_ahead['W' + str(i)] = thetas['W' + str(i)] - ((gamma * nagd_w_update[i] )) \n",
        "      thetas_look_ahead['B' + str(i)] = thetas['B' + str(i)] - ((gamma * nagd_b_update[i] ))\n",
        "    values_step = forward_propagation(X.T, thetas_look_ahead)\n",
        "    grads = backward_propagation(thetas_look_ahead, values_step, X.T, Y.T)\n",
        "    for i in range(1,layers+1):\n",
        "      nagd_w_update[i] = (gamma * nagd_w_update[i] )+(learning_rate * grads['W' + str(i)])\n",
        "      thetas_updated['W' + str(i)] = thetas['W' + str(i)] - nagd_w_update[i]\n",
        "      nagd_b_update[i] = (gamma * nagd_b_update[i] )+(learning_rate * grads['B' + str(i)])\n",
        "      thetas_updated['B' + str(i)] = thetas['B' + str(i)] - nagd_b_update[i]\n",
        "\n",
        "  if(epoch_counter == 0 and step_counter == 0):\n",
        "    for i in range(1,layers+1):\n",
        "      nagd_w_update[i] = learning_rate * grads['W' + str(i)]\n",
        "      thetas_updated['W' + str(i)] = thetas['W' + str(i)] - nagd_w_update[i]\n",
        "      nagd_b_update[i] = learning_rate * grads['B' + str(i)]    \n",
        "      thetas_updated['B' + str(i)] = thetas['B' + str(i)] - nagd_b_update[i]\n",
        "  \n",
        "  return thetas_updated\n"
      ]
    },
    {
      "cell_type": "markdown",
      "metadata": {
        "id": "E6Ah-Qg_1Uft"
      },
      "source": [
        "### RMSProp "
      ]
    },
    {
      "cell_type": "markdown",
      "source": [
        "Update rule: \\\\\n",
        "\n",
        "![image.png](data:image/png;base64,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)"
      ],
      "metadata": {
        "id": "m__ANEqXhOa8"
      }
    },
    {
      "cell_type": "code",
      "execution_count": 39,
      "metadata": {
        "id": "lsPfId4J1X4j"
      },
      "outputs": [],
      "source": [
        "def rmsprop(thetas, grads, epoch_counter, step_counter):\n",
        "  global rmsprop_w_vt\n",
        "  global rmsprop_b_vt\n",
        "\n",
        "  layers = len(thetas)//2\n",
        "  thetas_updated = {}\n",
        "\n",
        "  if(epoch_counter != 0 or step_counter != 0):\n",
        "    for i in range(1,layers+1):\n",
        "      rmsprop_w_vt[i] = beta * rmsprop_w_vt[i] + (1-beta) * np.power(grads['W' + str(i)],2)\n",
        "      rmsprop_b_vt[i] = beta * rmsprop_b_vt[i] + (1-beta) * np.power(grads['B' + str(i)],2)\n",
        "      w = 1/np.power(rmsprop_w_vt[i]+epsilon,0.5)\n",
        "      b = 1/np.power(rmsprop_b_vt[i]+epsilon,0.5)\n",
        "      thetas_updated['W' + str(i)] = thetas['W' + str(i)] - learning_rate * w * grads['W' + str(i)]\n",
        "      thetas_updated['B' + str(i)] = thetas['B' + str(i)] - learning_rate * b * grads['B' + str(i)]\n",
        "  else:\n",
        "    for i in range(1,layers+1):\n",
        "      rmsprop_w_vt[i] =  (1-beta) *  np.power(grads['W' + str(i)],2)\n",
        "      rmsprop_b_vt[i] = (1-beta) * np.power(grads['B' + str(i)],2)\n",
        "      w = 1/np.power(rmsprop_w_vt[i]+epsilon,0.5)\n",
        "      b = 1/np.power(rmsprop_b_vt[i]+epsilon,0.5)\n",
        "      thetas_updated['W' + str(i)] = thetas['W' + str(i)] - learning_rate * w * grads['W' + str(i)]\n",
        "      thetas_updated['B' + str(i)] = thetas['B' + str(i)] - learning_rate * b * grads['B' + str(i)]\n",
        "  \n",
        "  return thetas_updated\n",
        "\n"
      ]
    },
    {
      "cell_type": "markdown",
      "metadata": {
        "id": "jgKdGMnL1Yfa"
      },
      "source": [
        "### Adam"
      ]
    },
    {
      "cell_type": "markdown",
      "source": [
        "Update rules: \\\\\n",
        "\n",
        "![image.png](data:image/png;base64,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)"
      ],
      "metadata": {
        "id": "iUZmKTXdhu0Y"
      }
    },
    {
      "cell_type": "code",
      "execution_count": 40,
      "metadata": {
        "id": "x9EvhtcO1cX2"
      },
      "outputs": [],
      "source": [
        "def adam(thetas, grads, epoch_counter, step_counter, steps):\n",
        "\n",
        "  global adam_w_mt\n",
        "  global adam_b_mt\n",
        "  global adam_w_vt\n",
        "  global adam_b_vt\n",
        "\n",
        "\n",
        "  layers = len(thetas)//2\n",
        "  thetas_updated = {}\n",
        "\n",
        "  if(epoch_counter != 0 or step_counter != 0):\n",
        "    for i in range(1,layers+1):\n",
        "      adam_w_mt[i] = beta1 * adam_w_mt[i] + (1-beta1) * grads['W' + str(i)]\n",
        "      adam_b_mt[i] = beta1 * adam_b_mt[i] + (1-beta1) * grads['B' + str(i)]\n",
        "      adam_w_vt[i] = beta2 * adam_w_vt[i] + (1-beta2) * np.power(grads['W' + str(i)],2)\n",
        "      adam_b_vt[i] = beta2 * adam_b_vt[i] + (1-beta2) * np.power(grads['B' + str(i)],2)\n",
        "      wmt_hat = adam_w_mt[i]/(1-np.power(beta1,(epoch_counter*steps)+step_counter+1))\n",
        "      wvt_hat = adam_w_vt[i]/(1-np.power(beta2,(epoch_counter*steps)+step_counter+1))\n",
        "      bmt_hat = adam_b_mt[i]/(1-np.power(beta1,(epoch_counter*steps)+step_counter+1))\n",
        "      bvt_hat = adam_b_vt[i]/(1-np.power(beta2,(epoch_counter*steps)+step_counter+1))\n",
        "      thetas_updated['W' + str(i)] = thetas['W' + str(i)] - (learning_rate *(1/np.sqrt(wvt_hat+epsilon))* wmt_hat)\n",
        "      thetas_updated['B' + str(i)] = thetas['B' + str(i)] - (learning_rate *(1/np.sqrt(bvt_hat+epsilon))* bmt_hat)\n",
        "  else:\n",
        "    for i in range(1,layers+1):\n",
        "      adam_w_mt[i]=  (1-beta1) * grads['W' + str(i)]\n",
        "      adam_b_mt[i] = (1-beta1) * grads['B' + str(i)]\n",
        "      adam_w_vt[i]=  (1-beta2) * np.power(grads['W' + str(i)],2)\n",
        "      adam_b_vt[i] = (1-beta2) * np.power(grads['B' + str(i)],2)\n",
        "      wmt_hat = adam_w_mt[i]/(1-np.power(beta1,(epoch_counter*steps)+step_counter+1))\n",
        "      wvt_hat = adam_w_vt[i]/(1-np.power(beta2,(epoch_counter*steps)+step_counter+1))\n",
        "      bmt_hat = adam_b_mt[i]/(1-np.power(beta1,(epoch_counter*steps)+step_counter+1))\n",
        "      bvt_hat = adam_b_vt[i]/(1-np.power(beta2,(epoch_counter*steps)+step_counter+1))\n",
        "      thetas_updated['W' + str(i)] = thetas['W' + str(i)] - (learning_rate *(1/np.sqrt(wvt_hat+epsilon))* wmt_hat)\n",
        "      thetas_updated['B' + str(i)] = thetas['B' + str(i)] - (learning_rate *(1/np.sqrt(bvt_hat+epsilon))* bmt_hat)\n",
        "\n",
        "  return thetas_updated\n",
        "\n"
      ]
    },
    {
      "cell_type": "markdown",
      "metadata": {
        "id": "54snmkHy1dOC"
      },
      "source": [
        "### Nadam"
      ]
    },
    {
      "cell_type": "code",
      "execution_count": 41,
      "metadata": {
        "id": "_9b5egCv1g0s"
      },
      "outputs": [],
      "source": [
        "def nadam(thetas, grads, epoch_counter, step_counter, steps, X, Y):\n",
        "\n",
        "  global nadam_w_mt\n",
        "  global nadam_b_mt\n",
        "  global nadam_w_vt\n",
        "  global nadam_b_vt\n",
        "    \n",
        "  layers = len(thetas)//2\n",
        "  thetas_updated = {}\n",
        "  thetas_look_ahead = {}\n",
        "\n",
        "  if(epoch_counter != 0 or step_counter != 0):\n",
        "    for i in range(1,layers+1):\n",
        "      nadam_w_mt[i] = beta1 * nadam_w_mt[i]\n",
        "      nadam_b_mt[i] = beta1 * nadam_b_mt[i]\n",
        "      nadam_w_vt[i] = beta2 * nadam_w_vt[i]\n",
        "      nadam_b_vt[i] = beta2 * nadam_b_vt[i]\n",
        "      wmt_hat = nadam_w_mt[i]/(1-np.power(beta1,(epoch_counter*steps)+step_counter+1))\n",
        "      wvt_hat = nadam_w_vt[i]/(1-np.power(beta2,(epoch_counter*steps)+step_counter+1))\n",
        "      bmt_hat = nadam_b_mt[i]/(1-np.power(beta1,(epoch_counter*steps)+step_counter+1))\n",
        "      bvt_hat = nadam_b_vt[i]/(1-np.power(beta2,(epoch_counter*steps)+step_counter+1))\n",
        "      thetas_look_ahead['W' + str(i)] = thetas['W' + str(i)] - (learning_rate *(1/np.sqrt(wvt_hat+epsilon))* wmt_hat)\n",
        "      thetas_look_ahead['B' + str(i)] = thetas['B' + str(i)] - (learning_rate *(1/np.sqrt(bvt_hat+epsilon))* bmt_hat)\n",
        "    values_step = forward_propagation(X.T, thetas_look_ahead)\n",
        "    grads = backward_propagation(thetas_look_ahead, values_step, X.T, Y.T)\n",
        "    for i in range(1,layers+1):\n",
        "      nadam_w_mt[i] += (1-beta1) * grads['W' + str(i)]\n",
        "      nadam_b_mt[i] += (1-beta1) * grads['B' + str(i)]\n",
        "      nadam_w_vt[i] += (1-beta2) * np.power(grads['W' + str(i)],2)\n",
        "      nadam_b_vt[i] += (1-beta2) * np.power(grads['B' + str(i)],2)\n",
        "      wmt_hat = nadam_w_mt[i]/(1-np.power(beta1,(epoch_counter*steps)+step_counter+1))\n",
        "      wvt_hat = nadam_w_vt[i]/(1-np.power(beta2,(epoch_counter*steps)+step_counter+1))\n",
        "      bmt_hat = nadam_b_mt[i]/(1-np.power(beta1,(epoch_counter*steps)+step_counter+1))\n",
        "      bvt_hat = nadam_b_vt[i]/(1-np.power(beta2,(epoch_counter*steps)+step_counter+1))\n",
        "      thetas_updated['W' + str(i)] = thetas['W' + str(i)] - (learning_rate *(1/np.sqrt(wvt_hat+epsilon))* wmt_hat)\n",
        "      thetas_updated['B' + str(i)] = thetas['B' + str(i)] - (learning_rate *(1/np.sqrt(bvt_hat+epsilon))* bmt_hat)\n",
        "  else:\n",
        "    for i in range(1,layers+1):\n",
        "      nadam_w_mt[i]=  (1-beta1) * grads['W' + str(i)]\n",
        "      nadam_b_mt[i] = (1-beta1) * grads['B' + str(i)]\n",
        "      nadam_w_vt[i]=  (1-beta2) * np.power(grads['W' + str(i)],2)\n",
        "      nadam_b_vt[i] = (1-beta2) * np.power(grads['B' + str(i)],2)\n",
        "      wmt_hat = nadam_w_mt[i]/(1-np.power(beta1,(epoch_counter*steps)+step_counter+1))\n",
        "      wvt_hat = nadam_w_vt[i]/(1-np.power(beta2,(epoch_counter*steps)+step_counter+1))\n",
        "      bmt_hat = nadam_b_mt[i]/(1-np.power(beta1,(epoch_counter*steps)+step_counter+1))\n",
        "      bvt_hat = nadam_b_vt[i]/(1-np.power(beta2,(epoch_counter*steps)+step_counter+1))\n",
        "      thetas_updated['W' + str(i)] = thetas['W' + str(i)] - (learning_rate *(1/np.sqrt(wvt_hat+epsilon))* wmt_hat)\n",
        "      thetas_updated['B' + str(i)] = thetas['B' + str(i)] - (learning_rate *(1/np.sqrt(bvt_hat+epsilon))* bmt_hat)\n",
        "\n",
        "  return thetas_updated"
      ]
    },
    {
      "cell_type": "markdown",
      "metadata": {
        "id": "Ml3R3bkmWF3t"
      },
      "source": [
        "## ***Initialize parameters***"
      ]
    },
    {
      "cell_type": "markdown",
      "metadata": {
        "id": "ilENNcos1zXK"
      },
      "source": [
        "### Random Weight Initialization"
      ]
    },
    {
      "cell_type": "markdown",
      "source": [
        "Initializing the weights with random weights"
      ],
      "metadata": {
        "id": "s_Y-NSzJs3iS"
      }
    },
    {
      "cell_type": "code",
      "execution_count": 42,
      "metadata": {
        "id": "h2KktagiWJ7W"
      },
      "outputs": [],
      "source": [
        "def init():\n",
        "  thetas = {}\n",
        "  for i in range (1, len(layer_sizes)):\n",
        "    thetas['W'+ str(i)] = np.random.rand(layer_sizes[i], layer_sizes[i-1]) - 0.5\n",
        "    thetas['B'+ str(i)] = np.random.rand(layer_sizes[i], 1) - 0.5\n",
        "  return thetas"
      ]
    },
    {
      "cell_type": "markdown",
      "metadata": {
        "id": "F4eU6XX02D-S"
      },
      "source": [
        "### Xavier Weight Initialization"
      ]
    },
    {
      "cell_type": "markdown",
      "metadata": {
        "id": "kUNJNC6PN8G4"
      },
      "source": [
        "The goal of Xavier Initialization is to initialize the weights such that the variance of the activations are the same across every layer. This constant variance helps prevent the gradient from exploding or vanishing. \\\\\n",
        "$W^l_{i,j} = \\eta (0, \\frac {1} {n^{l - 1}})$"
      ]
    },
    {
      "cell_type": "code",
      "execution_count": 43,
      "metadata": {
        "id": "M4lMbPKd2KBJ"
      },
      "outputs": [],
      "source": [
        "def xavier_init():\n",
        "  thetas = {}\n",
        "\n",
        "  for i in range (1, len(layer_sizes)):\n",
        "    boundary = np.sqrt(6/(layer_sizes[i] + layer_sizes[i-1]))\n",
        "\n",
        "    thetas['W'+ str(i)] = np.random.uniform(low = -boundary, high = boundary, size = (layer_sizes[i], layer_sizes[i-1]))\n",
        "    thetas['B'+ str(i)] = np.random.randn(layer_sizes[i], 1)*0.01\n",
        "  return thetas"
      ]
    },
    {
      "cell_type": "markdown",
      "metadata": {
        "id": "bb6jCOCQiAmP"
      },
      "source": [
        "## ***Building a neural network on the Training set***"
      ]
    },
    {
      "cell_type": "markdown",
      "metadata": {
        "id": "m_fHd34N2NZS"
      },
      "source": [
        "### Choose Initialization"
      ]
    },
    {
      "cell_type": "code",
      "execution_count": 44,
      "metadata": {
        "id": "3mMCXL2j2MYC"
      },
      "outputs": [],
      "source": [
        "def choose_init():\n",
        "  if (wt_init == 'random'):\n",
        "    return init()\n",
        "  if (wt_init == 'xavier'):\n",
        "    return xavier_init()"
      ]
    },
    {
      "cell_type": "markdown",
      "metadata": {
        "id": "IPGgng6pXHOb"
      },
      "source": [
        "### ***Q2 - Forward propagation***"
      ]
    },
    {
      "cell_type": "code",
      "execution_count": 45,
      "metadata": {
        "id": "CcMvGGYPXS4G"
      },
      "outputs": [],
      "source": [
        "def forward_propagation(X, thetas):\n",
        "    layers = len(thetas)//2\n",
        "    values = {} #dictionary containining the numpy arrays of activations of all layers\n",
        "    for i in range(1, layers+1):\n",
        "        if i==1:\n",
        "            values['Z' + str(i)] = np.dot(thetas['W' + str(i)], X) + thetas['B' + str(i)]\n",
        "            values['A' + str(i)] = choose_activation(values['Z' + str(i)])\n",
        "        else:\n",
        "            values['Z' + str(i)] = np.dot(thetas['W' + str(i)], values['A' + str(i-1)]) + thetas['B' + str(i)]\n",
        "            if i==layers:\n",
        "                values['A' + str(i)] = softmax(values['Z' + str(i)])\n",
        "            else:\n",
        "                values['A' + str(i)] = choose_activation(values['Z' + str(i)])\n",
        "    return values"
      ]
    },
    {
      "cell_type": "markdown",
      "metadata": {
        "id": "NzgvVWczXIhD"
      },
      "source": [
        "### Compute cost"
      ]
    },
    {
      "cell_type": "code",
      "execution_count": 46,
      "metadata": {
        "id": "3z0mdn84ZPMk"
      },
      "outputs": [],
      "source": [
        "def compute_cost(values, Y, thetas): #takes true values and dictionary having activations of all layers as input and returns cost\n",
        "    layers = len(values)//2\n",
        "    Y_pred = values['A' + str(layers)]\n",
        "    # cost = 1/(2*len(Y)) * np.sum(np.square(Y_pred - Y))\n",
        "    cost = choose_loss_func(Y_pred, Y, thetas)\n",
        "    return cost"
      ]
    },
    {
      "cell_type": "markdown",
      "source": [
        "### ***Q3 - Backward Propagation Implementation***\n",
        "### Choose dZ for Backprop"
      ],
      "metadata": {
        "id": "vdfPbSzpC8Uz"
      }
    },
    {
      "cell_type": "code",
      "execution_count": 47,
      "metadata": {
        "id": "DoLXTrhH9dSQ"
      },
      "outputs": [],
      "source": [
        "def choose_dZ(m, y_pred, y):\n",
        "  if (loss_function == 'cross_entropy'):\n",
        "    return (y_pred - y)\n",
        "  if (loss_function == 'mse'):\n",
        "    return (y_pred - y) * (y_pred) * (1-y_pred)"
      ]
    },
    {
      "cell_type": "markdown",
      "metadata": {
        "id": "WsSKq24ZXJQT"
      },
      "source": [
        "### Back propagation"
      ]
    },
    {
      "cell_type": "code",
      "execution_count": 48,
      "metadata": {
        "id": "7IeUJmnoZ0z7"
      },
      "outputs": [],
      "source": [
        "def backward_propagation(thetas, values, X, Y): #takes parameters, activations, training set as input and returns gradients wrt parameters\n",
        "    layers = len(thetas)//2\n",
        "    m = len(Y)\n",
        "    grads = {}\n",
        "    for i in range(layers,0,-1):\n",
        "        if i==layers:\n",
        "            dZ = choose_dZ(m, values['A' + str(i)], Y)\n",
        "        else:\n",
        "            dA = np.dot(thetas['W' + str(i+1)].T, dZ)\n",
        "            dZ = np.multiply(dA, choose_der_activation(values['Z' + str(i)])) \n",
        "        if i==1:\n",
        "            grads['W' + str(i)] = np.dot(dZ, X.T) + weight_decay * thetas['W' + str(i)]\n",
        "            grads['B' + str(i)] = np.sum(dZ, axis=1, keepdims=True) \n",
        "        else:\n",
        "            grads['W' + str(i)] = np.dot(dZ,values['A' + str(i-1)].T) + weight_decay * thetas['W' + str(i)]\n",
        "            grads['B' + str(i)] = np.sum(dZ, axis=1, keepdims=True)\n",
        "    return grads"
      ]
    },
    {
      "cell_type": "markdown",
      "metadata": {
        "id": "EAMl0qpf64zO"
      },
      "source": [
        "### Choose GD"
      ]
    },
    {
      "cell_type": "code",
      "execution_count": 49,
      "metadata": {
        "id": "nEzmsaSL68RO"
      },
      "outputs": [],
      "source": [
        "def choose_gd(thetas, grads, epoch_counter, step_counter, X, Y, steps):\n",
        "  if (optimizer == 'sgd'):\n",
        "    return gradient_descent(thetas, grads)\n",
        "  if(optimizer == 'momentum'):\n",
        "    return momentum_gradient_descent(thetas, grads, epoch_counter, step_counter)\n",
        "  if (optimizer == 'nag'):\n",
        "    return nesterov_accelerated_gradient_descent(thetas, grads, epoch_counter, step_counter, X, Y)\n",
        "  if(optimizer == 'rmsprop'):\n",
        "    return rmsprop(thetas, grads, epoch_counter, step_counter)\n",
        "  if(optimizer == 'adam'):\n",
        "    return adam(thetas, grads, epoch_counter, step_counter, steps)\n",
        "  if(optimizer == 'nadam'):\n",
        "    return nadam(thetas, grads, epoch_counter, step_counter, steps, X, Y)"
      ]
    },
    {
      "cell_type": "markdown",
      "metadata": {
        "id": "Neoa-MiNbGq_"
      },
      "source": [
        "### Neural Network model "
      ]
    },
    {
      "cell_type": "code",
      "execution_count": 50,
      "metadata": {
        "id": "l3vl54cZbRZA"
      },
      "outputs": [],
      "source": [
        "def model(X, Y, training_examples): #trains the model\n",
        "    thetas = choose_init()\n",
        "\n",
        "    steps = (training_examples//batch_size)\n",
        "    if(training_examples % batch_size != 0):\n",
        "      steps = steps+1\n",
        "    reset_optimizer_update_dictionaries()\n",
        "    for i in range(epochs):\n",
        "      for j in range(steps):\n",
        "        X_step = X[j*batch_size : j*batch_size + batch_size]\n",
        "        Y_step = Y[j*batch_size : j*batch_size + batch_size]\n",
        "        values_step = forward_propagation(X_step.T, thetas)\n",
        "        grads = backward_propagation(thetas, values_step, X_step.T, Y_step.T)\n",
        "        thetas = choose_gd(thetas, grads, i, j, X, Y, steps)\n",
        "        cost = compute_cost(values_step, Y_step.T, thetas)\n",
        "        # print(i, cost)\n",
        "\n",
        "      evaluate_perf(thetas, i)      \n",
        "\n",
        "    return thetas"
      ]
    },
    {
      "cell_type": "markdown",
      "metadata": {
        "id": "Qnn1JngpUhf8"
      },
      "source": [
        "## Predicting the results"
      ]
    },
    {
      "cell_type": "code",
      "execution_count": 51,
      "metadata": {
        "id": "cI_ZOYIQUmqf"
      },
      "outputs": [],
      "source": [
        "def predict(X, thetas):  #predict on new array X given learnt parameters\n",
        "    values = forward_propagation(X.T, thetas)\n",
        "    predictions = values['A' + str(len(values)//2)].T\n",
        "    return predictions"
      ]
    },
    {
      "cell_type": "markdown",
      "source": [
        "## Accuracy"
      ],
      "metadata": {
        "id": "nAUVY9YDUfm0"
      }
    },
    {
      "cell_type": "code",
      "source": [
        "def accuracy(y_pred, y):\n",
        "  y_pred=np.argmax(y_pred, axis=1)\n",
        "  y = np.argmax(y, axis=1)\n",
        "  accuracy = accuracy_score(y, y_pred)\n",
        "  return accuracy"
      ],
      "metadata": {
        "id": "SaO_pj0VUhip"
      },
      "execution_count": 52,
      "outputs": []
    },
    {
      "cell_type": "markdown",
      "source": [
        "## Evaluate Performance"
      ],
      "metadata": {
        "id": "gasohPf5DeSd"
      }
    },
    {
      "cell_type": "code",
      "source": [
        "def evaluate_perf(thetas, epochs):\n",
        "  y_pred_train = predict(X_cv_train, thetas)\n",
        "  y_pred_cv_test = predict(X_cv_test, thetas)\n",
        "  y_pred_test = predict(X_test_flat, thetas)\n",
        "\n",
        "  accuracy_train = accuracy(y_pred_train, y_cv_train_transformed) \n",
        "  accuracy_cv_test = accuracy(y_pred_cv_test, y_cv_test_transformed)\n",
        "  accuracy_test = accuracy(y_pred_test, y_test_transformed)\n",
        "\n",
        "  loss_train = choose_loss_func(y_pred_train, y_cv_train_transformed, thetas)\n",
        "  loss_cv_test = choose_loss_func(y_pred_cv_test, y_cv_test_transformed, thetas)\n",
        "  loss_test = choose_loss_func(y_pred_test, y_test_transformed, thetas)\n",
        "\n",
        "  logging(accuracy_train, accuracy_cv_test, accuracy_test, loss_train, loss_cv_test, loss_test, epochs)"
      ],
      "metadata": {
        "id": "susy0Q4tDitt"
      },
      "execution_count": 53,
      "outputs": []
    },
    {
      "cell_type": "markdown",
      "metadata": {
        "id": "f6AcehUlOrYk"
      },
      "source": [
        "## WandB Logs"
      ]
    },
    {
      "cell_type": "code",
      "execution_count": 54,
      "metadata": {
        "id": "khy2GlNMpF7e"
      },
      "outputs": [],
      "source": [
        "def logging(accuracy_train, accuracy_cv_test, accuracy_test, loss_train, loss_cv_test, loss_test, epochs):\n",
        "    wandb.log({\n",
        "      \"epochs\": epochs,\n",
        "      \"accuracy_train\": accuracy_train,\n",
        "      \"accuracy_cv_test\": accuracy_cv_test,\n",
        "      \"accuracy_test\": accuracy_test,\n",
        "      \"loss_train\": loss_train,\n",
        "      \"loss_cv_test\": loss_cv_test,\n",
        "      \"loss_test\": loss_test})"
      ]
    },
    {
      "cell_type": "markdown",
      "metadata": {
        "id": "L_mAAnrWo2u-"
      },
      "source": [
        "## Train WandB"
      ]
    },
    {
      "cell_type": "code",
      "execution_count": 55,
      "metadata": {
        "id": "7nd-ZYfijIHC"
      },
      "outputs": [],
      "source": [
        "def train():\n",
        "  run = wandb.init(project=\"test-project\", entity=\"deeplearningcs6910\", config = wandb.config, magic=True, reinit = True)\n",
        "  wandb.run.name = 'bs-'+str(wandb.config.batch_size)+'-lr-'+ str(wandb.config.learning_rate)+'-ep-'+str(wandb.config.epochs)+ '-op-'+str(wandb.config.optimizer)+ '-act-'+str(wandb.config.activation)+'-wd-'+str(wandb.config.weight_decay)+'-wi-'+str(wandb.config.wt_init) + '-nhl-'+str(wandb.config.no_hidden_layers)+'-shl1-'+str(wandb.config.size_hidden1)+'-shl2-'+str(wandb.config.size_hidden2)+'-shl3-'+str(wandb.config.size_hidden3)\n",
        "  if(wandb.config.no_hidden_layers >3):\n",
        "    wandb.run.name = wandb.run.name + '-shl4-'+str(wandb.config.size_hidden4)\n",
        "  \n",
        "  if(wandb.config.no_hidden_layers == 5):\n",
        "    wandb.run.name = wandb.run.name + '-shl5-'+str(wandb.config.size_hidden5)\n",
        "\n",
        "  wandb.run.name = wandb.run.name + '-lf-'+ str(wandb.config.loss_function)\n",
        "  \n",
        "  # global batch_size\n",
        "\n",
        "  global learning_rate \n",
        "  global no_hidden_layers\n",
        "  global size_hidden\n",
        "  global optimizer\n",
        "  global epochs\n",
        "  global weight_decay\n",
        "  global batch_size\n",
        "  global activation\n",
        "  global wt_init\n",
        "  global loss_function\n",
        "\n",
        "  batch_size = wandb.config.batch_size \n",
        "  learning_rate = wandb.config.learning_rate \n",
        "  epochs = wandb.config.epochs \n",
        "  optimizer = wandb.config.optimizer \n",
        "  no_hidden_layers = wandb.config.no_hidden_layers \n",
        "  # size_hidden = wandb.config.size_hidden \n",
        "  size_hidden1 = wandb.config.size_hidden1 \n",
        "  size_hidden2 = wandb.config.size_hidden2 \n",
        "  size_hidden3 = wandb.config.size_hidden3 \n",
        "  size_hidden4 = wandb.config.size_hidden4 \n",
        "  size_hidden5 = wandb.config.size_hidden5 \n",
        "  activation = wandb.config.activation \n",
        "  weight_decay = wandb.config.weight_decay\n",
        "  wt_init = wandb.config.wt_init   \n",
        "  loss_function = wandb.config.loss_function\n",
        "\n",
        "#   updating layer sizes\n",
        "  layer_sizes.clear()\n",
        "  layer_sizes.append(784)\n",
        "\n",
        "  layer_sizes.append(size_hidden1)\n",
        "  layer_sizes.append(size_hidden2)\n",
        "  layer_sizes.append(size_hidden3)\n",
        "\n",
        "  if(no_hidden_layers >3):\n",
        "    layer_sizes.append(size_hidden4)\n",
        "  \n",
        "  if(no_hidden_layers == 5):\n",
        "    layer_sizes.append(size_hidden5)\n",
        "\n",
        "  layer_sizes.append(10)\n",
        "\n",
        "  #training model\n",
        "  thetas = model(X_cv_train, y_cv_train_transformed, training_examples_cv) #modelling dataset\n",
        "\n",
        "  run.finish()\n"
      ]
    },
    {
      "cell_type": "markdown",
      "metadata": {
        "id": "6typ5P42gozi"
      },
      "source": [
        "## Sweep Configs"
      ]
    },
    {
      "cell_type": "markdown",
      "source": [
        "### Q10 - best hyper para on MNIST dataset"
      ],
      "metadata": {
        "id": "q90P1bzCtwFA"
      }
    },
    {
      "cell_type": "code",
      "source": [
        "sweep_config = {\n",
        "        'method': 'bayes',\n",
        "        \"name\": \"assignement1-Feed Forward Neural Network - Q10\",\n",
        "        'metric':{\n",
        "            'goal': 'maximize',\n",
        "            'name': 'accuracy_cv_test',\n",
        "            'target': 1\n",
        "        },\n",
        "        'parameters': {\n",
        "            'epochs': {\n",
        "                'values': [5,10]\n",
        "            },\n",
        "            'no_hidden_layers':{\n",
        "                'values': [4]\n",
        "            },\n",
        "            'size_hidden1':{\n",
        "                'values': [128]\n",
        "            },\n",
        "            'size_hidden2':{\n",
        "                'values': [128]\n",
        "            },\n",
        "            'size_hidden3':{\n",
        "                'values': [128]\n",
        "            },\n",
        "            'size_hidden4':{\n",
        "                'values': [64]\n",
        "            },\n",
        "            'size_hidden5':{\n",
        "                'values': [128]\n",
        "            },\n",
        "            'learning_rate':{\n",
        "                'values': [0.001]\n",
        "            },\n",
        "            'optimizer':{\n",
        "                'values': ['momentum','adam']\n",
        "            },\n",
        "            'batch_size':{\n",
        "                'values': [64, 128]\n",
        "            },\n",
        "            'activation':{\n",
        "                'values': ['relu']\n",
        "            },\n",
        "            'weight_decay':{\n",
        "                'values': [0.05]\n",
        "            },\n",
        "            'wt_init': {\n",
        "                'values': ['xavier']\n",
        "            },\n",
        "            'loss_function': {\n",
        "                'values': ['cross_entropy']\n",
        "            }\n",
        "        }\n",
        "    }\n",
        "    \n",
        "sweep_id = wandb.sweep(sweep_config,project ='feedFwdNeuralNwkQ10')\n",
        "wandb.agent(sweep_id, function=train, count  = 10)"
      ],
      "metadata": {
        "id": "pSSOAd4Wt-KB",
        "colab": {
          "base_uri": "https://localhost:8080/",
          "height": 1000,
          "referenced_widgets": [
            "d92602a40dcc4dfdac6acd53eb972a15",
            "189f765a2b234441b3814ac8ec4e596f",
            "df3a8b7c8a1c415d841258f43bb94bf1",
            "d94fd5516128431799861ccd93b24611",
            "f84249905cdb41ee92f3235330f843fc",
            "84085ce2bb3448acb0d36c7fc9497020",
            "0fefd9ae330c443e9f9d67312ef705d6",
            "18e6439f06d24353aa98c5cc83e6550f",
            "7a33f66b17d1464f81eabe6285e57af8",
            "57cb179b97f24543846b92192c46fa9a",
            "ab5124f6d09a4546a4f9a26f2e07fadb",
            "596c41d00ec140e5ac905a1ca9181b12",
            "a95cd10703b342b3b9e60bcf5851bbc5",
            "9dcc57b54ef74eb6bdf56c0ce2ebc34a",
            "aab06d3edf9446b0a48b19d77e79cb53",
            "d092b1b7d58745259428cea725c24ddb",
            "778058934421424f99cda846efd3d029",
            "c499f1a571854cdc9c5e2179d9820706",
            "6e099c0eaed24b18af75e352f64b564a",
            "4b76699bd7974dfa89ef42a35810594f",
            "2f11001052b64478bd5abf3c9e992499",
            "84d9e0cf0701420d82a176ee6dd737f5",
            "e8f7f878661e4dc99466142677d9fc41",
            "40c7179fc0564e2e84ac61088ed7e22d",
            "943162e3e8f4400b811e0841292940b6",
            "35f4bb8a599947209613529e3aadb1c8",
            "1292f37a04104d64891db2d23260e36d",
            "1cbb58533663430596449e9a4145bfe3",
            "ddd5f8f1ee3f4053a2d96194d040cdf1",
            "ca0c4ff8268a4c84b10e12d6b022fdd7",
            "7eccd7d7951743e4bb89b21e7cffe1d4",
            "6fd5f3b95cd048bd9857cd5aa9d66ed3",
            "34e8af71afb943778908a5b7752a15d9",
            "30131d366cfb4f41a6e93a3af7da54ec",
            "23a346a05a0649ec888d5ca828982e22",
            "75d94b8c72ae47adb9ed69e9e7d8dc48",
            "54f7c4c7c8314cf78d8be4a621519a46",
            "d38b9290a4b14595919329c240a05a3d",
            "9a6428f96785446e822e207c5bc27ace",
            "41a6b2aaddae4775bf01a465ea47ce27",
            "c7b689ef772d4c39a53fd0452ea6f11f",
            "4d2d586d153b4a8fb8ac9a9690c6c51a",
            "9d72349fde0a4c5a91e70156a053ad7b",
            "49370e4618bf4f94b243e3451d899141",
            "40732b6a1caf45a194fe0b6f6e4c0512",
            "ba8c30a39c5840638a37bf4fa6d29f2b",
            "150f66a97fc045799bf8e1aaafebc2c8",
            "389db3d4163f4eb8a57ccabc43af0d7a",
            "442c21cda69f48089446522888bc5ccd",
            "b39ad5b996474c6ca12d75a55fc390aa",
            "68bbeaedd0ba4f03832f9e172471d83b",
            "2f7f8a34b7604f5a8f0223accd72b61d",
            "36bc76eec84b4941ab4e09f2488d3dd8",
            "4f9aadead595400484f29c62dfd970f0",
            "c356460657f245bbb2f98ba20f18e24c",
            "b7e190da09074f5aa53aa2a98ea4b110",
            "fef3546adc1346ce874fac6563564517",
            "f8f517cf50224e65a300f088318facbf",
            "18dc41a2cc2c4ec0a91fa36789ca091b",
            "c882e90721714590877ce8563fca13f3",
            "04264ab6e7834b5eb72f3c5ae308cfe1",
            "0d20ca817e4e4f1bb095efcacbb83588",
            "feed63fec32e4327987a17c8e5fb19ce",
            "a815b7200e9940aa8cbbe4497068cf31",
            "be138938f54246d98276ac92744bb01c",
            "a4e7d3f5e42c45e48b6e07691bce5e9a",
            "46582e5e6dd04e8abfcfd3b85a409f80",
            "fb6264c5410e4d82b5fdfa2c8c83b8cb",
            "c2bfd4c31bf44d57bc4d1cb889cb0b47",
            "3aec73da215c4b68895bf84677037912",
            "7758da312ae34511921690821a857f10",
            "46514811710049a6bc6c3a1cc0583047",
            "8e42927a940b49babc293bbc8da93411",
            "f1d3d28d9b734f07ab03fb4c678e53c2",
            "2e0a356906b745d2b6fc141873d6b690",
            "180b60ea13504328ba8bbd0a09083bef",
            "3eb3357c125e4eab925f2bd8905ba9f0",
            "62298c8de8714b4db5846d00344a8279",
            "53f367b6dc5f485f97f89655c6ab49c9",
            "62cdf527e0d9414a8834679d72a55c0c",
            "cc07e4045f304ccea8a562665281a664",
            "a835bbd33e834dd4af1b83f556b87bed",
            "db9d26729d144208b7d4a61329fda715",
            "ff9b11b46ed64af9aa37be3bd21d377c",
            "ae3c74e9a77247d29c39f1b910e84255",
            "9144e3081dec40478c7bdb276bf38df4",
            "f853f1abc2cf49dd933ad2dce9382109",
            "e2050d1330d847229df58c5092ee266d"
          ]
        },
        "outputId": "7faf98c9-06e3-4e2d-93ff-88cf6a6bc979"
      },
      "execution_count": 56,
      "outputs": [
        {
          "output_type": "stream",
          "name": "stdout",
          "text": [
            "Create sweep with ID: 6b9xwa7k\n",
            "Sweep URL: https://wandb.ai/deeplearningcs6910/feedFwdNeuralNwkQ10/sweeps/6b9xwa7k\n"
          ]
        },
        {
          "output_type": "stream",
          "name": "stderr",
          "text": [
            "\u001b[34m\u001b[1mwandb\u001b[0m: Agent Starting Run: z94f7gi6 with config:\n",
            "\u001b[34m\u001b[1mwandb\u001b[0m: \tactivation: relu\n",
            "\u001b[34m\u001b[1mwandb\u001b[0m: \tbatch_size: 64\n",
            "\u001b[34m\u001b[1mwandb\u001b[0m: \tepochs: 10\n",
            "\u001b[34m\u001b[1mwandb\u001b[0m: \tlearning_rate: 0.001\n",
            "\u001b[34m\u001b[1mwandb\u001b[0m: \tloss_function: cross_entropy\n",
            "\u001b[34m\u001b[1mwandb\u001b[0m: \tno_hidden_layers: 4\n",
            "\u001b[34m\u001b[1mwandb\u001b[0m: \toptimizer: adam\n",
            "\u001b[34m\u001b[1mwandb\u001b[0m: \tsize_hidden1: 128\n",
            "\u001b[34m\u001b[1mwandb\u001b[0m: \tsize_hidden2: 128\n",
            "\u001b[34m\u001b[1mwandb\u001b[0m: \tsize_hidden3: 128\n",
            "\u001b[34m\u001b[1mwandb\u001b[0m: \tsize_hidden4: 64\n",
            "\u001b[34m\u001b[1mwandb\u001b[0m: \tsize_hidden5: 128\n",
            "\u001b[34m\u001b[1mwandb\u001b[0m: \tweight_decay: 0.05\n",
            "\u001b[34m\u001b[1mwandb\u001b[0m: \twt_init: xavier\n",
            "\u001b[34m\u001b[1mwandb\u001b[0m: Currently logged in as: \u001b[33mdeeplearningcs6910\u001b[0m (use `wandb login --relogin` to force relogin)\n",
            "\u001b[34m\u001b[1mwandb\u001b[0m: \u001b[33mWARNING\u001b[0m Ignored wandb.init() arg project when running a sweep.\n",
            "\u001b[34m\u001b[1mwandb\u001b[0m: \u001b[33mWARNING\u001b[0m Ignored wandb.init() arg entity when running a sweep.\n"
          ]
        },
        {
          "output_type": "display_data",
          "data": {
            "text/html": [
              "\n",
              "                    Syncing run <strong><a href=\"https://wandb.ai/deeplearningcs6910/feedFwdNeuralNwkQ10/runs/z94f7gi6\" target=\"_blank\">rural-sweep-1</a></strong> to <a href=\"https://wandb.ai/deeplearningcs6910/feedFwdNeuralNwkQ10\" target=\"_blank\">Weights & Biases</a> (<a href=\"https://docs.wandb.com/integrations/jupyter.html\" target=\"_blank\">docs</a>).<br/>\n",
              "Sweep page: <a href=\"https://wandb.ai/deeplearningcs6910/feedFwdNeuralNwkQ10/sweeps/6b9xwa7k\" target=\"_blank\">https://wandb.ai/deeplearningcs6910/feedFwdNeuralNwkQ10/sweeps/6b9xwa7k</a><br/>\n",
              "\n",
              "                "
            ],
            "text/plain": [
              "<IPython.core.display.HTML object>"
            ]
          },
          "metadata": {}
        },
        {
          "output_type": "stream",
          "name": "stderr",
          "text": [
            "\u001b[34m\u001b[1mwandb\u001b[0m: \u001b[33mWARNING\u001b[0m Ignored wandb.init() arg project when running a sweep.\n",
            "\u001b[34m\u001b[1mwandb\u001b[0m: \u001b[33mWARNING\u001b[0m Ignored wandb.init() arg entity when running a sweep.\n"
          ]
        },
        {
          "output_type": "display_data",
          "data": {
            "text/html": [
              "Finishing last run (ID:z94f7gi6) before initializing another..."
            ],
            "text/plain": [
              "<IPython.core.display.HTML object>"
            ]
          },
          "metadata": {}
        },
        {
          "output_type": "display_data",
          "data": {
            "text/html": [
              "<br/>Waiting for W&B process to finish, PID 1537... <strong style=\"color:green\">(success).</strong>"
            ],
            "text/plain": [
              "<IPython.core.display.HTML object>"
            ]
          },
          "metadata": {}
        },
        {
          "output_type": "display_data",
          "data": {
            "application/vnd.jupyter.widget-view+json": {
              "model_id": "d92602a40dcc4dfdac6acd53eb972a15",
              "version_minor": 0,
              "version_major": 2
            },
            "text/plain": [
              "VBox(children=(Label(value=' 0.00MB of 0.00MB uploaded (0.00MB deduped)\\r'), FloatProgress(value=1.0, max=1.0)…"
            ]
          },
          "metadata": {}
        },
        {
          "output_type": "display_data",
          "data": {
            "text/html": [
              "<style>\n",
              "    table.wandb td:nth-child(1) { padding: 0 10px; text-align: right }\n",
              "    .wandb-row { display: flex; flex-direction: row; flex-wrap: wrap; width: 100% }\n",
              "    .wandb-col { display: flex; flex-direction: column; flex-basis: 100%; flex: 1; padding: 10px; }\n",
              "    </style>\n",
              "<div class=\"wandb-row\"><div class=\"wandb-col\">\n",
              "</div><div class=\"wandb-col\">\n",
              "</div></div>\n",
              "Synced 5 W&B file(s), 0 media file(s), 0 artifact file(s) and 0 other file(s)\n",
              "<br/>Synced <strong style=\"color:#cdcd00\">rural-sweep-1</strong>: <a href=\"https://wandb.ai/deeplearningcs6910/feedFwdNeuralNwkQ10/runs/z94f7gi6\" target=\"_blank\">https://wandb.ai/deeplearningcs6910/feedFwdNeuralNwkQ10/runs/z94f7gi6</a><br/>\n",
              "Find logs at: <code>./wandb/run-20220225_122003-z94f7gi6/logs</code><br/>\n"
            ],
            "text/plain": [
              "<IPython.core.display.HTML object>"
            ]
          },
          "metadata": {}
        },
        {
          "output_type": "display_data",
          "data": {
            "text/html": [
              "Successfully finished last run (ID:z94f7gi6). Initializing new run:<br/>"
            ],
            "text/plain": [
              "<IPython.core.display.HTML object>"
            ]
          },
          "metadata": {}
        },
        {
          "output_type": "display_data",
          "data": {
            "text/html": [
              "\n",
              "                    Syncing run <strong><a href=\"https://wandb.ai/deeplearningcs6910/feedFwdNeuralNwkQ10/runs/z94f7gi6\" target=\"_blank\">rural-sweep-1</a></strong> to <a href=\"https://wandb.ai/deeplearningcs6910/feedFwdNeuralNwkQ10\" target=\"_blank\">Weights & Biases</a> (<a href=\"https://docs.wandb.com/integrations/jupyter.html\" target=\"_blank\">docs</a>).<br/>\n",
              "Sweep page: <a href=\"https://wandb.ai/deeplearningcs6910/feedFwdNeuralNwkQ10/sweeps/6b9xwa7k\" target=\"_blank\">https://wandb.ai/deeplearningcs6910/feedFwdNeuralNwkQ10/sweeps/6b9xwa7k</a><br/>\n",
              "\n",
              "                "
            ],
            "text/plain": [
              "<IPython.core.display.HTML object>"
            ]
          },
          "metadata": {}
        },
        {
          "output_type": "display_data",
          "data": {
            "text/html": [
              "<br/>Waiting for W&B process to finish, PID 1573... <strong style=\"color:green\">(success).</strong>"
            ],
            "text/plain": [
              "<IPython.core.display.HTML object>"
            ]
          },
          "metadata": {}
        },
        {
          "output_type": "display_data",
          "data": {
            "application/vnd.jupyter.widget-view+json": {
              "model_id": "7a33f66b17d1464f81eabe6285e57af8",
              "version_minor": 0,
              "version_major": 2
            },
            "text/plain": [
              "VBox(children=(Label(value=' 0.00MB of 0.00MB uploaded (0.00MB deduped)\\r'), FloatProgress(value=1.0, max=1.0)…"
            ]
          },
          "metadata": {}
        },
        {
          "output_type": "display_data",
          "data": {
            "text/html": [
              "<style>\n",
              "    table.wandb td:nth-child(1) { padding: 0 10px; text-align: right }\n",
              "    .wandb-row { display: flex; flex-direction: row; flex-wrap: wrap; width: 100% }\n",
              "    .wandb-col { display: flex; flex-direction: column; flex-basis: 100%; flex: 1; padding: 10px; }\n",
              "    </style>\n",
              "<div class=\"wandb-row\"><div class=\"wandb-col\">\n",
              "<h3>Run history:</h3><br/><table class=\"wandb\"><tr><td>accuracy_cv_test</td><td>▁▅▆▅▅▆▆▇▇█</td></tr><tr><td>accuracy_test</td><td>▁▆▇▇▆▇█▇▇█</td></tr><tr><td>accuracy_train</td><td>▁▅▆▇▆█▇███</td></tr><tr><td>epochs</td><td>▁▂▃▃▄▅▆▆▇█</td></tr><tr><td>loss_cv_test</td><td>█▅▄▄▃▂▂▂▁▁</td></tr><tr><td>loss_test</td><td>█▅▄▃▃▂▂▂▁▁</td></tr><tr><td>loss_train</td><td>█▅▄▃▃▂▂▂▁▁</td></tr></table><br/></div><div class=\"wandb-col\">\n",
              "<h3>Run summary:</h3><br/><table class=\"wandb\"><tr><td>accuracy_cv_test</td><td>0.97517</td></tr><tr><td>accuracy_test</td><td>0.9761</td></tr><tr><td>accuracy_train</td><td>0.9872</td></tr><tr><td>epochs</td><td>9</td></tr><tr><td>loss_cv_test</td><td>0.86121</td></tr><tr><td>loss_test</td><td>0.85163</td></tr><tr><td>loss_train</td><td>0.81357</td></tr></table>\n",
              "</div></div>\n",
              "Synced 4 W&B file(s), 0 media file(s), 0 artifact file(s) and 0 other file(s)\n",
              "<br/>Synced <strong style=\"color:#cdcd00\">rural-sweep-1</strong>: <a href=\"https://wandb.ai/deeplearningcs6910/feedFwdNeuralNwkQ10/runs/z94f7gi6\" target=\"_blank\">https://wandb.ai/deeplearningcs6910/feedFwdNeuralNwkQ10/runs/z94f7gi6</a><br/>\n",
              "Find logs at: <code>./wandb/run-20220225_122012-z94f7gi6/logs</code><br/>\n"
            ],
            "text/plain": [
              "<IPython.core.display.HTML object>"
            ]
          },
          "metadata": {}
        },
        {
          "output_type": "stream",
          "name": "stderr",
          "text": [
            "\u001b[34m\u001b[1mwandb\u001b[0m: Agent Starting Run: txxt63pb with config:\n",
            "\u001b[34m\u001b[1mwandb\u001b[0m: \tactivation: relu\n",
            "\u001b[34m\u001b[1mwandb\u001b[0m: \tbatch_size: 64\n",
            "\u001b[34m\u001b[1mwandb\u001b[0m: \tepochs: 10\n",
            "\u001b[34m\u001b[1mwandb\u001b[0m: \tlearning_rate: 0.001\n",
            "\u001b[34m\u001b[1mwandb\u001b[0m: \tloss_function: cross_entropy\n",
            "\u001b[34m\u001b[1mwandb\u001b[0m: \tno_hidden_layers: 4\n",
            "\u001b[34m\u001b[1mwandb\u001b[0m: \toptimizer: adam\n",
            "\u001b[34m\u001b[1mwandb\u001b[0m: \tsize_hidden1: 128\n",
            "\u001b[34m\u001b[1mwandb\u001b[0m: \tsize_hidden2: 128\n",
            "\u001b[34m\u001b[1mwandb\u001b[0m: \tsize_hidden3: 128\n",
            "\u001b[34m\u001b[1mwandb\u001b[0m: \tsize_hidden4: 64\n",
            "\u001b[34m\u001b[1mwandb\u001b[0m: \tsize_hidden5: 128\n",
            "\u001b[34m\u001b[1mwandb\u001b[0m: \tweight_decay: 0.05\n",
            "\u001b[34m\u001b[1mwandb\u001b[0m: \twt_init: xavier\n",
            "\u001b[34m\u001b[1mwandb\u001b[0m: \u001b[33mWARNING\u001b[0m Ignored wandb.init() arg project when running a sweep.\n",
            "\u001b[34m\u001b[1mwandb\u001b[0m: \u001b[33mWARNING\u001b[0m Ignored wandb.init() arg entity when running a sweep.\n"
          ]
        },
        {
          "output_type": "display_data",
          "data": {
            "text/html": [
              "\n",
              "                    Syncing run <strong><a href=\"https://wandb.ai/deeplearningcs6910/feedFwdNeuralNwkQ10/runs/txxt63pb\" target=\"_blank\">driven-sweep-2</a></strong> to <a href=\"https://wandb.ai/deeplearningcs6910/feedFwdNeuralNwkQ10\" target=\"_blank\">Weights & Biases</a> (<a href=\"https://docs.wandb.com/integrations/jupyter.html\" target=\"_blank\">docs</a>).<br/>\n",
              "Sweep page: <a href=\"https://wandb.ai/deeplearningcs6910/feedFwdNeuralNwkQ10/sweeps/6b9xwa7k\" target=\"_blank\">https://wandb.ai/deeplearningcs6910/feedFwdNeuralNwkQ10/sweeps/6b9xwa7k</a><br/>\n",
              "\n",
              "                "
            ],
            "text/plain": [
              "<IPython.core.display.HTML object>"
            ]
          },
          "metadata": {}
        },
        {
          "output_type": "display_data",
          "data": {
            "text/html": [
              "<br/>Waiting for W&B process to finish, PID 1611... <strong style=\"color:green\">(success).</strong>"
            ],
            "text/plain": [
              "<IPython.core.display.HTML object>"
            ]
          },
          "metadata": {}
        },
        {
          "output_type": "display_data",
          "data": {
            "application/vnd.jupyter.widget-view+json": {
              "model_id": "778058934421424f99cda846efd3d029",
              "version_minor": 0,
              "version_major": 2
            },
            "text/plain": [
              "VBox(children=(Label(value=' 0.00MB of 0.00MB uploaded (0.00MB deduped)\\r'), FloatProgress(value=1.0, max=1.0)…"
            ]
          },
          "metadata": {}
        },
        {
          "output_type": "display_data",
          "data": {
            "text/html": [
              "<style>\n",
              "    table.wandb td:nth-child(1) { padding: 0 10px; text-align: right }\n",
              "    .wandb-row { display: flex; flex-direction: row; flex-wrap: wrap; width: 100% }\n",
              "    .wandb-col { display: flex; flex-direction: column; flex-basis: 100%; flex: 1; padding: 10px; }\n",
              "    </style>\n",
              "<div class=\"wandb-row\"><div class=\"wandb-col\">\n",
              "<h3>Run history:</h3><br/><table class=\"wandb\"><tr><td>accuracy_cv_test</td><td>▁▃▇█▇▆██▇█</td></tr><tr><td>accuracy_test</td><td>▁▄█▇█▆███▇</td></tr><tr><td>accuracy_train</td><td>▁▄▇▇▇▆▇██▇</td></tr><tr><td>epochs</td><td>▁▂▃▃▄▅▆▆▇█</td></tr><tr><td>loss_cv_test</td><td>█▆▄▃▂▂▂▁▁▁</td></tr><tr><td>loss_test</td><td>█▆▄▃▂▂▂▁▁▁</td></tr><tr><td>loss_train</td><td>█▆▄▃▂▂▂▁▁▁</td></tr></table><br/></div><div class=\"wandb-col\">\n",
              "<h3>Run summary:</h3><br/><table class=\"wandb\"><tr><td>accuracy_cv_test</td><td>0.97133</td></tr><tr><td>accuracy_test</td><td>0.9716</td></tr><tr><td>accuracy_train</td><td>0.98257</td></tr><tr><td>epochs</td><td>9</td></tr><tr><td>loss_cv_test</td><td>0.89245</td></tr><tr><td>loss_test</td><td>0.87865</td></tr><tr><td>loss_train</td><td>0.83223</td></tr></table>\n",
              "</div></div>\n",
              "Synced 4 W&B file(s), 0 media file(s), 0 artifact file(s) and 0 other file(s)\n",
              "<br/>Synced <strong style=\"color:#cdcd00\">driven-sweep-2</strong>: <a href=\"https://wandb.ai/deeplearningcs6910/feedFwdNeuralNwkQ10/runs/txxt63pb\" target=\"_blank\">https://wandb.ai/deeplearningcs6910/feedFwdNeuralNwkQ10/runs/txxt63pb</a><br/>\n",
              "Find logs at: <code>./wandb/run-20220225_122248-txxt63pb/logs</code><br/>\n"
            ],
            "text/plain": [
              "<IPython.core.display.HTML object>"
            ]
          },
          "metadata": {}
        },
        {
          "output_type": "stream",
          "name": "stderr",
          "text": [
            "\u001b[34m\u001b[1mwandb\u001b[0m: Agent Starting Run: 04508dkg with config:\n",
            "\u001b[34m\u001b[1mwandb\u001b[0m: \tactivation: relu\n",
            "\u001b[34m\u001b[1mwandb\u001b[0m: \tbatch_size: 64\n",
            "\u001b[34m\u001b[1mwandb\u001b[0m: \tepochs: 10\n",
            "\u001b[34m\u001b[1mwandb\u001b[0m: \tlearning_rate: 0.001\n",
            "\u001b[34m\u001b[1mwandb\u001b[0m: \tloss_function: cross_entropy\n",
            "\u001b[34m\u001b[1mwandb\u001b[0m: \tno_hidden_layers: 4\n",
            "\u001b[34m\u001b[1mwandb\u001b[0m: \toptimizer: momentum\n",
            "\u001b[34m\u001b[1mwandb\u001b[0m: \tsize_hidden1: 128\n",
            "\u001b[34m\u001b[1mwandb\u001b[0m: \tsize_hidden2: 128\n",
            "\u001b[34m\u001b[1mwandb\u001b[0m: \tsize_hidden3: 128\n",
            "\u001b[34m\u001b[1mwandb\u001b[0m: \tsize_hidden4: 64\n",
            "\u001b[34m\u001b[1mwandb\u001b[0m: \tsize_hidden5: 128\n",
            "\u001b[34m\u001b[1mwandb\u001b[0m: \tweight_decay: 0.05\n",
            "\u001b[34m\u001b[1mwandb\u001b[0m: \twt_init: xavier\n",
            "\u001b[34m\u001b[1mwandb\u001b[0m: \u001b[33mWARNING\u001b[0m Ignored wandb.init() arg project when running a sweep.\n",
            "\u001b[34m\u001b[1mwandb\u001b[0m: \u001b[33mWARNING\u001b[0m Ignored wandb.init() arg entity when running a sweep.\n"
          ]
        },
        {
          "output_type": "display_data",
          "data": {
            "text/html": [
              "\n",
              "                    Syncing run <strong><a href=\"https://wandb.ai/deeplearningcs6910/feedFwdNeuralNwkQ10/runs/04508dkg\" target=\"_blank\">expert-sweep-3</a></strong> to <a href=\"https://wandb.ai/deeplearningcs6910/feedFwdNeuralNwkQ10\" target=\"_blank\">Weights & Biases</a> (<a href=\"https://docs.wandb.com/integrations/jupyter.html\" target=\"_blank\">docs</a>).<br/>\n",
              "Sweep page: <a href=\"https://wandb.ai/deeplearningcs6910/feedFwdNeuralNwkQ10/sweeps/6b9xwa7k\" target=\"_blank\">https://wandb.ai/deeplearningcs6910/feedFwdNeuralNwkQ10/sweeps/6b9xwa7k</a><br/>\n",
              "\n",
              "                "
            ],
            "text/plain": [
              "<IPython.core.display.HTML object>"
            ]
          },
          "metadata": {}
        },
        {
          "output_type": "display_data",
          "data": {
            "text/html": [
              "<br/>Waiting for W&B process to finish, PID 1651... <strong style=\"color:green\">(success).</strong>"
            ],
            "text/plain": [
              "<IPython.core.display.HTML object>"
            ]
          },
          "metadata": {}
        },
        {
          "output_type": "display_data",
          "data": {
            "application/vnd.jupyter.widget-view+json": {
              "model_id": "943162e3e8f4400b811e0841292940b6",
              "version_minor": 0,
              "version_major": 2
            },
            "text/plain": [
              "VBox(children=(Label(value=' 0.00MB of 0.00MB uploaded (0.00MB deduped)\\r'), FloatProgress(value=1.0, max=1.0)…"
            ]
          },
          "metadata": {}
        },
        {
          "output_type": "display_data",
          "data": {
            "text/html": [
              "<style>\n",
              "    table.wandb td:nth-child(1) { padding: 0 10px; text-align: right }\n",
              "    .wandb-row { display: flex; flex-direction: row; flex-wrap: wrap; width: 100% }\n",
              "    .wandb-col { display: flex; flex-direction: column; flex-basis: 100%; flex: 1; padding: 10px; }\n",
              "    </style>\n",
              "<div class=\"wandb-row\"><div class=\"wandb-col\">\n",
              "<h3>Run history:</h3><br/><table class=\"wandb\"><tr><td>accuracy_cv_test</td><td>▁▆▇▇▆██▇▇▇</td></tr><tr><td>accuracy_test</td><td>▁▆▇▇▆███▇▇</td></tr><tr><td>accuracy_train</td><td>▁▆▇▇▇██▇▇▇</td></tr><tr><td>epochs</td><td>▁▂▃▃▄▅▆▆▇█</td></tr><tr><td>loss_cv_test</td><td>█▄▃▂▂▁▁▁▁▁</td></tr><tr><td>loss_test</td><td>█▄▃▂▂▁▁▁▁▁</td></tr><tr><td>loss_train</td><td>█▄▃▂▂▁▁▁▁▁</td></tr></table><br/></div><div class=\"wandb-col\">\n",
              "<h3>Run summary:</h3><br/><table class=\"wandb\"><tr><td>accuracy_cv_test</td><td>0.9585</td></tr><tr><td>accuracy_test</td><td>0.966</td></tr><tr><td>accuracy_train</td><td>0.97337</td></tr><tr><td>epochs</td><td>9</td></tr><tr><td>loss_cv_test</td><td>1.04582</td></tr><tr><td>loss_test</td><td>1.01861</td></tr><tr><td>loss_train</td><td>0.98663</td></tr></table>\n",
              "</div></div>\n",
              "Synced 4 W&B file(s), 0 media file(s), 0 artifact file(s) and 0 other file(s)\n",
              "<br/>Synced <strong style=\"color:#cdcd00\">expert-sweep-3</strong>: <a href=\"https://wandb.ai/deeplearningcs6910/feedFwdNeuralNwkQ10/runs/04508dkg\" target=\"_blank\">https://wandb.ai/deeplearningcs6910/feedFwdNeuralNwkQ10/runs/04508dkg</a><br/>\n",
              "Find logs at: <code>./wandb/run-20220225_122516-04508dkg/logs</code><br/>\n"
            ],
            "text/plain": [
              "<IPython.core.display.HTML object>"
            ]
          },
          "metadata": {}
        },
        {
          "output_type": "stream",
          "name": "stderr",
          "text": [
            "\u001b[34m\u001b[1mwandb\u001b[0m: Agent Starting Run: cz9n9al1 with config:\n",
            "\u001b[34m\u001b[1mwandb\u001b[0m: \tactivation: relu\n",
            "\u001b[34m\u001b[1mwandb\u001b[0m: \tbatch_size: 64\n",
            "\u001b[34m\u001b[1mwandb\u001b[0m: \tepochs: 5\n",
            "\u001b[34m\u001b[1mwandb\u001b[0m: \tlearning_rate: 0.001\n",
            "\u001b[34m\u001b[1mwandb\u001b[0m: \tloss_function: cross_entropy\n",
            "\u001b[34m\u001b[1mwandb\u001b[0m: \tno_hidden_layers: 4\n",
            "\u001b[34m\u001b[1mwandb\u001b[0m: \toptimizer: adam\n",
            "\u001b[34m\u001b[1mwandb\u001b[0m: \tsize_hidden1: 128\n",
            "\u001b[34m\u001b[1mwandb\u001b[0m: \tsize_hidden2: 128\n",
            "\u001b[34m\u001b[1mwandb\u001b[0m: \tsize_hidden3: 128\n",
            "\u001b[34m\u001b[1mwandb\u001b[0m: \tsize_hidden4: 64\n",
            "\u001b[34m\u001b[1mwandb\u001b[0m: \tsize_hidden5: 128\n",
            "\u001b[34m\u001b[1mwandb\u001b[0m: \tweight_decay: 0.05\n",
            "\u001b[34m\u001b[1mwandb\u001b[0m: \twt_init: xavier\n",
            "\u001b[34m\u001b[1mwandb\u001b[0m: \u001b[33mWARNING\u001b[0m Ignored wandb.init() arg project when running a sweep.\n",
            "\u001b[34m\u001b[1mwandb\u001b[0m: \u001b[33mWARNING\u001b[0m Ignored wandb.init() arg entity when running a sweep.\n"
          ]
        },
        {
          "output_type": "display_data",
          "data": {
            "text/html": [
              "\n",
              "                    Syncing run <strong><a href=\"https://wandb.ai/deeplearningcs6910/feedFwdNeuralNwkQ10/runs/cz9n9al1\" target=\"_blank\">fast-sweep-4</a></strong> to <a href=\"https://wandb.ai/deeplearningcs6910/feedFwdNeuralNwkQ10\" target=\"_blank\">Weights & Biases</a> (<a href=\"https://docs.wandb.com/integrations/jupyter.html\" target=\"_blank\">docs</a>).<br/>\n",
              "Sweep page: <a href=\"https://wandb.ai/deeplearningcs6910/feedFwdNeuralNwkQ10/sweeps/6b9xwa7k\" target=\"_blank\">https://wandb.ai/deeplearningcs6910/feedFwdNeuralNwkQ10/sweeps/6b9xwa7k</a><br/>\n",
              "\n",
              "                "
            ],
            "text/plain": [
              "<IPython.core.display.HTML object>"
            ]
          },
          "metadata": {}
        },
        {
          "output_type": "display_data",
          "data": {
            "text/html": [
              "<br/>Waiting for W&B process to finish, PID 1689... <strong style=\"color:green\">(success).</strong>"
            ],
            "text/plain": [
              "<IPython.core.display.HTML object>"
            ]
          },
          "metadata": {}
        },
        {
          "output_type": "display_data",
          "data": {
            "application/vnd.jupyter.widget-view+json": {
              "model_id": "34e8af71afb943778908a5b7752a15d9",
              "version_minor": 0,
              "version_major": 2
            },
            "text/plain": [
              "VBox(children=(Label(value=' 0.00MB of 0.00MB uploaded (0.00MB deduped)\\r'), FloatProgress(value=1.0, max=1.0)…"
            ]
          },
          "metadata": {}
        },
        {
          "output_type": "display_data",
          "data": {
            "text/html": [
              "<style>\n",
              "    table.wandb td:nth-child(1) { padding: 0 10px; text-align: right }\n",
              "    .wandb-row { display: flex; flex-direction: row; flex-wrap: wrap; width: 100% }\n",
              "    .wandb-col { display: flex; flex-direction: column; flex-basis: 100%; flex: 1; padding: 10px; }\n",
              "    </style>\n",
              "<div class=\"wandb-row\"><div class=\"wandb-col\">\n",
              "<h3>Run history:</h3><br/><table class=\"wandb\"><tr><td>accuracy_cv_test</td><td>▁▇█▇█</td></tr><tr><td>accuracy_test</td><td>▁▇▇██</td></tr><tr><td>accuracy_train</td><td>▁▆▇██</td></tr><tr><td>epochs</td><td>▁▃▅▆█</td></tr><tr><td>loss_cv_test</td><td>█▄▃▂▁</td></tr><tr><td>loss_test</td><td>█▄▃▂▁</td></tr><tr><td>loss_train</td><td>█▄▃▂▁</td></tr></table><br/></div><div class=\"wandb-col\">\n",
              "<h3>Run summary:</h3><br/><table class=\"wandb\"><tr><td>accuracy_cv_test</td><td>0.968</td></tr><tr><td>accuracy_test</td><td>0.9731</td></tr><tr><td>accuracy_train</td><td>0.98357</td></tr><tr><td>epochs</td><td>4</td></tr><tr><td>loss_cv_test</td><td>0.9623</td></tr><tr><td>loss_test</td><td>0.93695</td></tr><tr><td>loss_train</td><td>0.90124</td></tr></table>\n",
              "</div></div>\n",
              "Synced 4 W&B file(s), 0 media file(s), 0 artifact file(s) and 0 other file(s)\n",
              "<br/>Synced <strong style=\"color:#cdcd00\">fast-sweep-4</strong>: <a href=\"https://wandb.ai/deeplearningcs6910/feedFwdNeuralNwkQ10/runs/cz9n9al1\" target=\"_blank\">https://wandb.ai/deeplearningcs6910/feedFwdNeuralNwkQ10/runs/cz9n9al1</a><br/>\n",
              "Find logs at: <code>./wandb/run-20220225_122658-cz9n9al1/logs</code><br/>\n"
            ],
            "text/plain": [
              "<IPython.core.display.HTML object>"
            ]
          },
          "metadata": {}
        },
        {
          "output_type": "stream",
          "name": "stderr",
          "text": [
            "\u001b[34m\u001b[1mwandb\u001b[0m: Agent Starting Run: gbu70a6r with config:\n",
            "\u001b[34m\u001b[1mwandb\u001b[0m: \tactivation: relu\n",
            "\u001b[34m\u001b[1mwandb\u001b[0m: \tbatch_size: 64\n",
            "\u001b[34m\u001b[1mwandb\u001b[0m: \tepochs: 10\n",
            "\u001b[34m\u001b[1mwandb\u001b[0m: \tlearning_rate: 0.001\n",
            "\u001b[34m\u001b[1mwandb\u001b[0m: \tloss_function: cross_entropy\n",
            "\u001b[34m\u001b[1mwandb\u001b[0m: \tno_hidden_layers: 4\n",
            "\u001b[34m\u001b[1mwandb\u001b[0m: \toptimizer: adam\n",
            "\u001b[34m\u001b[1mwandb\u001b[0m: \tsize_hidden1: 128\n",
            "\u001b[34m\u001b[1mwandb\u001b[0m: \tsize_hidden2: 128\n",
            "\u001b[34m\u001b[1mwandb\u001b[0m: \tsize_hidden3: 128\n",
            "\u001b[34m\u001b[1mwandb\u001b[0m: \tsize_hidden4: 64\n",
            "\u001b[34m\u001b[1mwandb\u001b[0m: \tsize_hidden5: 128\n",
            "\u001b[34m\u001b[1mwandb\u001b[0m: \tweight_decay: 0.05\n",
            "\u001b[34m\u001b[1mwandb\u001b[0m: \twt_init: xavier\n",
            "\u001b[34m\u001b[1mwandb\u001b[0m: \u001b[33mWARNING\u001b[0m Ignored wandb.init() arg project when running a sweep.\n",
            "\u001b[34m\u001b[1mwandb\u001b[0m: \u001b[33mWARNING\u001b[0m Ignored wandb.init() arg entity when running a sweep.\n"
          ]
        },
        {
          "output_type": "display_data",
          "data": {
            "text/html": [
              "\n",
              "                    Syncing run <strong><a href=\"https://wandb.ai/deeplearningcs6910/feedFwdNeuralNwkQ10/runs/gbu70a6r\" target=\"_blank\">deft-sweep-5</a></strong> to <a href=\"https://wandb.ai/deeplearningcs6910/feedFwdNeuralNwkQ10\" target=\"_blank\">Weights & Biases</a> (<a href=\"https://docs.wandb.com/integrations/jupyter.html\" target=\"_blank\">docs</a>).<br/>\n",
              "Sweep page: <a href=\"https://wandb.ai/deeplearningcs6910/feedFwdNeuralNwkQ10/sweeps/6b9xwa7k\" target=\"_blank\">https://wandb.ai/deeplearningcs6910/feedFwdNeuralNwkQ10/sweeps/6b9xwa7k</a><br/>\n",
              "\n",
              "                "
            ],
            "text/plain": [
              "<IPython.core.display.HTML object>"
            ]
          },
          "metadata": {}
        },
        {
          "output_type": "display_data",
          "data": {
            "text/html": [
              "<br/>Waiting for W&B process to finish, PID 1727... <strong style=\"color:green\">(success).</strong>"
            ],
            "text/plain": [
              "<IPython.core.display.HTML object>"
            ]
          },
          "metadata": {}
        },
        {
          "output_type": "display_data",
          "data": {
            "application/vnd.jupyter.widget-view+json": {
              "model_id": "c7b689ef772d4c39a53fd0452ea6f11f",
              "version_minor": 0,
              "version_major": 2
            },
            "text/plain": [
              "VBox(children=(Label(value=' 0.00MB of 0.00MB uploaded (0.00MB deduped)\\r'), FloatProgress(value=1.0, max=1.0)…"
            ]
          },
          "metadata": {}
        },
        {
          "output_type": "display_data",
          "data": {
            "text/html": [
              "<style>\n",
              "    table.wandb td:nth-child(1) { padding: 0 10px; text-align: right }\n",
              "    .wandb-row { display: flex; flex-direction: row; flex-wrap: wrap; width: 100% }\n",
              "    .wandb-col { display: flex; flex-direction: column; flex-basis: 100%; flex: 1; padding: 10px; }\n",
              "    </style>\n",
              "<div class=\"wandb-row\"><div class=\"wandb-col\">\n",
              "<h3>Run history:</h3><br/><table class=\"wandb\"><tr><td>accuracy_cv_test</td><td>▁▅▇▇▇▇▆█▇▆</td></tr><tr><td>accuracy_test</td><td>▁▅█▇▆█▇█▇▇</td></tr><tr><td>accuracy_train</td><td>▁▅▇▇▆█▇███</td></tr><tr><td>epochs</td><td>▁▂▃▃▄▅▆▆▇█</td></tr><tr><td>loss_cv_test</td><td>█▆▄▃▃▂▂▁▁▁</td></tr><tr><td>loss_test</td><td>█▆▄▃▃▂▂▁▁▁</td></tr><tr><td>loss_train</td><td>█▆▄▃▃▂▂▁▁▁</td></tr></table><br/></div><div class=\"wandb-col\">\n",
              "<h3>Run summary:</h3><br/><table class=\"wandb\"><tr><td>accuracy_cv_test</td><td>0.96683</td></tr><tr><td>accuracy_test</td><td>0.9724</td></tr><tr><td>accuracy_train</td><td>0.98591</td></tr><tr><td>epochs</td><td>9</td></tr><tr><td>loss_cv_test</td><td>0.88357</td></tr><tr><td>loss_test</td><td>0.86607</td></tr><tr><td>loss_train</td><td>0.82045</td></tr></table>\n",
              "</div></div>\n",
              "Synced 4 W&B file(s), 0 media file(s), 0 artifact file(s) and 0 other file(s)\n",
              "<br/>Synced <strong style=\"color:#cdcd00\">deft-sweep-5</strong>: <a href=\"https://wandb.ai/deeplearningcs6910/feedFwdNeuralNwkQ10/runs/gbu70a6r\" target=\"_blank\">https://wandb.ai/deeplearningcs6910/feedFwdNeuralNwkQ10/runs/gbu70a6r</a><br/>\n",
              "Find logs at: <code>./wandb/run-20220225_122820-gbu70a6r/logs</code><br/>\n"
            ],
            "text/plain": [
              "<IPython.core.display.HTML object>"
            ]
          },
          "metadata": {}
        },
        {
          "output_type": "stream",
          "name": "stderr",
          "text": [
            "\u001b[34m\u001b[1mwandb\u001b[0m: Agent Starting Run: u3nf1hdx with config:\n",
            "\u001b[34m\u001b[1mwandb\u001b[0m: \tactivation: relu\n",
            "\u001b[34m\u001b[1mwandb\u001b[0m: \tbatch_size: 64\n",
            "\u001b[34m\u001b[1mwandb\u001b[0m: \tepochs: 5\n",
            "\u001b[34m\u001b[1mwandb\u001b[0m: \tlearning_rate: 0.001\n",
            "\u001b[34m\u001b[1mwandb\u001b[0m: \tloss_function: cross_entropy\n",
            "\u001b[34m\u001b[1mwandb\u001b[0m: \tno_hidden_layers: 4\n",
            "\u001b[34m\u001b[1mwandb\u001b[0m: \toptimizer: adam\n",
            "\u001b[34m\u001b[1mwandb\u001b[0m: \tsize_hidden1: 128\n",
            "\u001b[34m\u001b[1mwandb\u001b[0m: \tsize_hidden2: 128\n",
            "\u001b[34m\u001b[1mwandb\u001b[0m: \tsize_hidden3: 128\n",
            "\u001b[34m\u001b[1mwandb\u001b[0m: \tsize_hidden4: 64\n",
            "\u001b[34m\u001b[1mwandb\u001b[0m: \tsize_hidden5: 128\n",
            "\u001b[34m\u001b[1mwandb\u001b[0m: \tweight_decay: 0.05\n",
            "\u001b[34m\u001b[1mwandb\u001b[0m: \twt_init: xavier\n",
            "\u001b[34m\u001b[1mwandb\u001b[0m: \u001b[33mWARNING\u001b[0m Ignored wandb.init() arg project when running a sweep.\n",
            "\u001b[34m\u001b[1mwandb\u001b[0m: \u001b[33mWARNING\u001b[0m Ignored wandb.init() arg entity when running a sweep.\n"
          ]
        },
        {
          "output_type": "display_data",
          "data": {
            "text/html": [
              "\n",
              "                    Syncing run <strong><a href=\"https://wandb.ai/deeplearningcs6910/feedFwdNeuralNwkQ10/runs/u3nf1hdx\" target=\"_blank\">electric-sweep-6</a></strong> to <a href=\"https://wandb.ai/deeplearningcs6910/feedFwdNeuralNwkQ10\" target=\"_blank\">Weights & Biases</a> (<a href=\"https://docs.wandb.com/integrations/jupyter.html\" target=\"_blank\">docs</a>).<br/>\n",
              "Sweep page: <a href=\"https://wandb.ai/deeplearningcs6910/feedFwdNeuralNwkQ10/sweeps/6b9xwa7k\" target=\"_blank\">https://wandb.ai/deeplearningcs6910/feedFwdNeuralNwkQ10/sweeps/6b9xwa7k</a><br/>\n",
              "\n",
              "                "
            ],
            "text/plain": [
              "<IPython.core.display.HTML object>"
            ]
          },
          "metadata": {}
        },
        {
          "output_type": "display_data",
          "data": {
            "text/html": [
              "<br/>Waiting for W&B process to finish, PID 1765... <strong style=\"color:green\">(success).</strong>"
            ],
            "text/plain": [
              "<IPython.core.display.HTML object>"
            ]
          },
          "metadata": {}
        },
        {
          "output_type": "display_data",
          "data": {
            "application/vnd.jupyter.widget-view+json": {
              "model_id": "442c21cda69f48089446522888bc5ccd",
              "version_minor": 0,
              "version_major": 2
            },
            "text/plain": [
              "VBox(children=(Label(value=' 0.00MB of 0.00MB uploaded (0.00MB deduped)\\r'), FloatProgress(value=1.0, max=1.0)…"
            ]
          },
          "metadata": {}
        },
        {
          "output_type": "display_data",
          "data": {
            "text/html": [
              "<style>\n",
              "    table.wandb td:nth-child(1) { padding: 0 10px; text-align: right }\n",
              "    .wandb-row { display: flex; flex-direction: row; flex-wrap: wrap; width: 100% }\n",
              "    .wandb-col { display: flex; flex-direction: column; flex-basis: 100%; flex: 1; padding: 10px; }\n",
              "    </style>\n",
              "<div class=\"wandb-row\"><div class=\"wandb-col\">\n",
              "<h3>Run history:</h3><br/><table class=\"wandb\"><tr><td>accuracy_cv_test</td><td>▁▇███</td></tr><tr><td>accuracy_test</td><td>▁▆▇██</td></tr><tr><td>accuracy_train</td><td>▁▆▇▇█</td></tr><tr><td>epochs</td><td>▁▃▅▆█</td></tr><tr><td>loss_cv_test</td><td>█▄▃▂▁</td></tr><tr><td>loss_test</td><td>█▅▃▂▁</td></tr><tr><td>loss_train</td><td>█▅▃▂▁</td></tr></table><br/></div><div class=\"wandb-col\">\n",
              "<h3>Run summary:</h3><br/><table class=\"wandb\"><tr><td>accuracy_cv_test</td><td>0.96583</td></tr><tr><td>accuracy_test</td><td>0.9699</td></tr><tr><td>accuracy_train</td><td>0.98165</td></tr><tr><td>epochs</td><td>4</td></tr><tr><td>loss_cv_test</td><td>0.96802</td></tr><tr><td>loss_test</td><td>0.94521</td></tr><tr><td>loss_train</td><td>0.90805</td></tr></table>\n",
              "</div></div>\n",
              "Synced 4 W&B file(s), 0 media file(s), 0 artifact file(s) and 0 other file(s)\n",
              "<br/>Synced <strong style=\"color:#cdcd00\">electric-sweep-6</strong>: <a href=\"https://wandb.ai/deeplearningcs6910/feedFwdNeuralNwkQ10/runs/u3nf1hdx\" target=\"_blank\">https://wandb.ai/deeplearningcs6910/feedFwdNeuralNwkQ10/runs/u3nf1hdx</a><br/>\n",
              "Find logs at: <code>./wandb/run-20220225_123048-u3nf1hdx/logs</code><br/>\n"
            ],
            "text/plain": [
              "<IPython.core.display.HTML object>"
            ]
          },
          "metadata": {}
        },
        {
          "output_type": "stream",
          "name": "stderr",
          "text": [
            "\u001b[34m\u001b[1mwandb\u001b[0m: Agent Starting Run: t6ulha6s with config:\n",
            "\u001b[34m\u001b[1mwandb\u001b[0m: \tactivation: relu\n",
            "\u001b[34m\u001b[1mwandb\u001b[0m: \tbatch_size: 128\n",
            "\u001b[34m\u001b[1mwandb\u001b[0m: \tepochs: 10\n",
            "\u001b[34m\u001b[1mwandb\u001b[0m: \tlearning_rate: 0.001\n",
            "\u001b[34m\u001b[1mwandb\u001b[0m: \tloss_function: cross_entropy\n",
            "\u001b[34m\u001b[1mwandb\u001b[0m: \tno_hidden_layers: 4\n",
            "\u001b[34m\u001b[1mwandb\u001b[0m: \toptimizer: momentum\n",
            "\u001b[34m\u001b[1mwandb\u001b[0m: \tsize_hidden1: 128\n",
            "\u001b[34m\u001b[1mwandb\u001b[0m: \tsize_hidden2: 128\n",
            "\u001b[34m\u001b[1mwandb\u001b[0m: \tsize_hidden3: 128\n",
            "\u001b[34m\u001b[1mwandb\u001b[0m: \tsize_hidden4: 64\n",
            "\u001b[34m\u001b[1mwandb\u001b[0m: \tsize_hidden5: 128\n",
            "\u001b[34m\u001b[1mwandb\u001b[0m: \tweight_decay: 0.05\n",
            "\u001b[34m\u001b[1mwandb\u001b[0m: \twt_init: xavier\n",
            "\u001b[34m\u001b[1mwandb\u001b[0m: \u001b[33mWARNING\u001b[0m Ignored wandb.init() arg project when running a sweep.\n",
            "\u001b[34m\u001b[1mwandb\u001b[0m: \u001b[33mWARNING\u001b[0m Ignored wandb.init() arg entity when running a sweep.\n"
          ]
        },
        {
          "output_type": "display_data",
          "data": {
            "text/html": [
              "\n",
              "                    Syncing run <strong><a href=\"https://wandb.ai/deeplearningcs6910/feedFwdNeuralNwkQ10/runs/t6ulha6s\" target=\"_blank\">dandy-sweep-7</a></strong> to <a href=\"https://wandb.ai/deeplearningcs6910/feedFwdNeuralNwkQ10\" target=\"_blank\">Weights & Biases</a> (<a href=\"https://docs.wandb.com/integrations/jupyter.html\" target=\"_blank\">docs</a>).<br/>\n",
              "Sweep page: <a href=\"https://wandb.ai/deeplearningcs6910/feedFwdNeuralNwkQ10/sweeps/6b9xwa7k\" target=\"_blank\">https://wandb.ai/deeplearningcs6910/feedFwdNeuralNwkQ10/sweeps/6b9xwa7k</a><br/>\n",
              "\n",
              "                "
            ],
            "text/plain": [
              "<IPython.core.display.HTML object>"
            ]
          },
          "metadata": {}
        },
        {
          "output_type": "display_data",
          "data": {
            "text/html": [
              "<br/>Waiting for W&B process to finish, PID 1803... <strong style=\"color:green\">(success).</strong>"
            ],
            "text/plain": [
              "<IPython.core.display.HTML object>"
            ]
          },
          "metadata": {}
        },
        {
          "output_type": "display_data",
          "data": {
            "application/vnd.jupyter.widget-view+json": {
              "model_id": "fef3546adc1346ce874fac6563564517",
              "version_minor": 0,
              "version_major": 2
            },
            "text/plain": [
              "VBox(children=(Label(value=' 0.00MB of 0.00MB uploaded (0.00MB deduped)\\r'), FloatProgress(value=1.0, max=1.0)…"
            ]
          },
          "metadata": {}
        },
        {
          "output_type": "display_data",
          "data": {
            "text/html": [
              "<style>\n",
              "    table.wandb td:nth-child(1) { padding: 0 10px; text-align: right }\n",
              "    .wandb-row { display: flex; flex-direction: row; flex-wrap: wrap; width: 100% }\n",
              "    .wandb-col { display: flex; flex-direction: column; flex-basis: 100%; flex: 1; padding: 10px; }\n",
              "    </style>\n",
              "<div class=\"wandb-row\"><div class=\"wandb-col\">\n",
              "<h3>Run history:</h3><br/><table class=\"wandb\"><tr><td>accuracy_cv_test</td><td>▂▁▄▆▇█▃▇▄▅</td></tr><tr><td>accuracy_test</td><td>▃▁▄▆██▄█▅▆</td></tr><tr><td>accuracy_train</td><td>▁▁▄▅▇█▄█▆▆</td></tr><tr><td>epochs</td><td>▁▂▃▃▄▅▆▆▇█</td></tr><tr><td>loss_cv_test</td><td>█▆▄▃▂▁▂▁▂▁</td></tr><tr><td>loss_test</td><td>█▆▄▃▂▁▂▁▁▁</td></tr><tr><td>loss_train</td><td>█▆▄▃▂▁▂▁▁▁</td></tr></table><br/></div><div class=\"wandb-col\">\n",
              "<h3>Run summary:</h3><br/><table class=\"wandb\"><tr><td>accuracy_cv_test</td><td>0.95683</td></tr><tr><td>accuracy_test</td><td>0.9629</td></tr><tr><td>accuracy_train</td><td>0.97144</td></tr><tr><td>epochs</td><td>9</td></tr><tr><td>loss_cv_test</td><td>1.28529</td></tr><tr><td>loss_test</td><td>1.26605</td></tr><tr><td>loss_train</td><td>1.2268</td></tr></table>\n",
              "</div></div>\n",
              "Synced 4 W&B file(s), 0 media file(s), 0 artifact file(s) and 0 other file(s)\n",
              "<br/>Synced <strong style=\"color:#cdcd00\">dandy-sweep-7</strong>: <a href=\"https://wandb.ai/deeplearningcs6910/feedFwdNeuralNwkQ10/runs/t6ulha6s\" target=\"_blank\">https://wandb.ai/deeplearningcs6910/feedFwdNeuralNwkQ10/runs/t6ulha6s</a><br/>\n",
              "Find logs at: <code>./wandb/run-20220225_123209-t6ulha6s/logs</code><br/>\n"
            ],
            "text/plain": [
              "<IPython.core.display.HTML object>"
            ]
          },
          "metadata": {}
        },
        {
          "output_type": "stream",
          "name": "stderr",
          "text": [
            "\u001b[34m\u001b[1mwandb\u001b[0m: Agent Starting Run: x4zzyrxd with config:\n",
            "\u001b[34m\u001b[1mwandb\u001b[0m: \tactivation: relu\n",
            "\u001b[34m\u001b[1mwandb\u001b[0m: \tbatch_size: 64\n",
            "\u001b[34m\u001b[1mwandb\u001b[0m: \tepochs: 5\n",
            "\u001b[34m\u001b[1mwandb\u001b[0m: \tlearning_rate: 0.001\n",
            "\u001b[34m\u001b[1mwandb\u001b[0m: \tloss_function: cross_entropy\n",
            "\u001b[34m\u001b[1mwandb\u001b[0m: \tno_hidden_layers: 4\n",
            "\u001b[34m\u001b[1mwandb\u001b[0m: \toptimizer: adam\n",
            "\u001b[34m\u001b[1mwandb\u001b[0m: \tsize_hidden1: 128\n",
            "\u001b[34m\u001b[1mwandb\u001b[0m: \tsize_hidden2: 128\n",
            "\u001b[34m\u001b[1mwandb\u001b[0m: \tsize_hidden3: 128\n",
            "\u001b[34m\u001b[1mwandb\u001b[0m: \tsize_hidden4: 64\n",
            "\u001b[34m\u001b[1mwandb\u001b[0m: \tsize_hidden5: 128\n",
            "\u001b[34m\u001b[1mwandb\u001b[0m: \tweight_decay: 0.05\n",
            "\u001b[34m\u001b[1mwandb\u001b[0m: \twt_init: xavier\n",
            "\u001b[34m\u001b[1mwandb\u001b[0m: \u001b[33mWARNING\u001b[0m Ignored wandb.init() arg project when running a sweep.\n",
            "\u001b[34m\u001b[1mwandb\u001b[0m: \u001b[33mWARNING\u001b[0m Ignored wandb.init() arg entity when running a sweep.\n"
          ]
        },
        {
          "output_type": "display_data",
          "data": {
            "text/html": [
              "\n",
              "                    Syncing run <strong><a href=\"https://wandb.ai/deeplearningcs6910/feedFwdNeuralNwkQ10/runs/x4zzyrxd\" target=\"_blank\">generous-sweep-8</a></strong> to <a href=\"https://wandb.ai/deeplearningcs6910/feedFwdNeuralNwkQ10\" target=\"_blank\">Weights & Biases</a> (<a href=\"https://docs.wandb.com/integrations/jupyter.html\" target=\"_blank\">docs</a>).<br/>\n",
              "Sweep page: <a href=\"https://wandb.ai/deeplearningcs6910/feedFwdNeuralNwkQ10/sweeps/6b9xwa7k\" target=\"_blank\">https://wandb.ai/deeplearningcs6910/feedFwdNeuralNwkQ10/sweeps/6b9xwa7k</a><br/>\n",
              "\n",
              "                "
            ],
            "text/plain": [
              "<IPython.core.display.HTML object>"
            ]
          },
          "metadata": {}
        },
        {
          "output_type": "display_data",
          "data": {
            "text/html": [
              "<br/>Waiting for W&B process to finish, PID 1841... <strong style=\"color:green\">(success).</strong>"
            ],
            "text/plain": [
              "<IPython.core.display.HTML object>"
            ]
          },
          "metadata": {}
        },
        {
          "output_type": "display_data",
          "data": {
            "application/vnd.jupyter.widget-view+json": {
              "model_id": "be138938f54246d98276ac92744bb01c",
              "version_minor": 0,
              "version_major": 2
            },
            "text/plain": [
              "VBox(children=(Label(value=' 0.00MB of 0.00MB uploaded (0.00MB deduped)\\r'), FloatProgress(value=1.0, max=1.0)…"
            ]
          },
          "metadata": {}
        },
        {
          "output_type": "display_data",
          "data": {
            "text/html": [
              "<style>\n",
              "    table.wandb td:nth-child(1) { padding: 0 10px; text-align: right }\n",
              "    .wandb-row { display: flex; flex-direction: row; flex-wrap: wrap; width: 100% }\n",
              "    .wandb-col { display: flex; flex-direction: column; flex-basis: 100%; flex: 1; padding: 10px; }\n",
              "    </style>\n",
              "<div class=\"wandb-row\"><div class=\"wandb-col\">\n",
              "<h3>Run history:</h3><br/><table class=\"wandb\"><tr><td>accuracy_cv_test</td><td>▁▄▇▆█</td></tr><tr><td>accuracy_test</td><td>▁▄█▇█</td></tr><tr><td>accuracy_train</td><td>▁▄▇▇█</td></tr><tr><td>epochs</td><td>▁▃▅▆█</td></tr><tr><td>loss_cv_test</td><td>█▅▃▂▁</td></tr><tr><td>loss_test</td><td>█▅▃▂▁</td></tr><tr><td>loss_train</td><td>█▅▃▂▁</td></tr></table><br/></div><div class=\"wandb-col\">\n",
              "<h3>Run summary:</h3><br/><table class=\"wandb\"><tr><td>accuracy_cv_test</td><td>0.96667</td></tr><tr><td>accuracy_test</td><td>0.9726</td></tr><tr><td>accuracy_train</td><td>0.9817</td></tr><tr><td>epochs</td><td>4</td></tr><tr><td>loss_cv_test</td><td>0.96794</td></tr><tr><td>loss_test</td><td>0.9402</td></tr><tr><td>loss_train</td><td>0.90368</td></tr></table>\n",
              "</div></div>\n",
              "Synced 4 W&B file(s), 0 media file(s), 0 artifact file(s) and 0 other file(s)\n",
              "<br/>Synced <strong style=\"color:#cdcd00\">generous-sweep-8</strong>: <a href=\"https://wandb.ai/deeplearningcs6910/feedFwdNeuralNwkQ10/runs/x4zzyrxd\" target=\"_blank\">https://wandb.ai/deeplearningcs6910/feedFwdNeuralNwkQ10/runs/x4zzyrxd</a><br/>\n",
              "Find logs at: <code>./wandb/run-20220225_123332-x4zzyrxd/logs</code><br/>\n"
            ],
            "text/plain": [
              "<IPython.core.display.HTML object>"
            ]
          },
          "metadata": {}
        },
        {
          "output_type": "stream",
          "name": "stderr",
          "text": [
            "\u001b[34m\u001b[1mwandb\u001b[0m: Agent Starting Run: nlnm4jn3 with config:\n",
            "\u001b[34m\u001b[1mwandb\u001b[0m: \tactivation: relu\n",
            "\u001b[34m\u001b[1mwandb\u001b[0m: \tbatch_size: 64\n",
            "\u001b[34m\u001b[1mwandb\u001b[0m: \tepochs: 10\n",
            "\u001b[34m\u001b[1mwandb\u001b[0m: \tlearning_rate: 0.001\n",
            "\u001b[34m\u001b[1mwandb\u001b[0m: \tloss_function: cross_entropy\n",
            "\u001b[34m\u001b[1mwandb\u001b[0m: \tno_hidden_layers: 4\n",
            "\u001b[34m\u001b[1mwandb\u001b[0m: \toptimizer: adam\n",
            "\u001b[34m\u001b[1mwandb\u001b[0m: \tsize_hidden1: 128\n",
            "\u001b[34m\u001b[1mwandb\u001b[0m: \tsize_hidden2: 128\n",
            "\u001b[34m\u001b[1mwandb\u001b[0m: \tsize_hidden3: 128\n",
            "\u001b[34m\u001b[1mwandb\u001b[0m: \tsize_hidden4: 64\n",
            "\u001b[34m\u001b[1mwandb\u001b[0m: \tsize_hidden5: 128\n",
            "\u001b[34m\u001b[1mwandb\u001b[0m: \tweight_decay: 0.05\n",
            "\u001b[34m\u001b[1mwandb\u001b[0m: \twt_init: xavier\n",
            "\u001b[34m\u001b[1mwandb\u001b[0m: \u001b[33mWARNING\u001b[0m Ignored wandb.init() arg project when running a sweep.\n",
            "\u001b[34m\u001b[1mwandb\u001b[0m: \u001b[33mWARNING\u001b[0m Ignored wandb.init() arg entity when running a sweep.\n"
          ]
        },
        {
          "output_type": "display_data",
          "data": {
            "text/html": [
              "\n",
              "                    Syncing run <strong><a href=\"https://wandb.ai/deeplearningcs6910/feedFwdNeuralNwkQ10/runs/nlnm4jn3\" target=\"_blank\">distinctive-sweep-9</a></strong> to <a href=\"https://wandb.ai/deeplearningcs6910/feedFwdNeuralNwkQ10\" target=\"_blank\">Weights & Biases</a> (<a href=\"https://docs.wandb.com/integrations/jupyter.html\" target=\"_blank\">docs</a>).<br/>\n",
              "Sweep page: <a href=\"https://wandb.ai/deeplearningcs6910/feedFwdNeuralNwkQ10/sweeps/6b9xwa7k\" target=\"_blank\">https://wandb.ai/deeplearningcs6910/feedFwdNeuralNwkQ10/sweeps/6b9xwa7k</a><br/>\n",
              "\n",
              "                "
            ],
            "text/plain": [
              "<IPython.core.display.HTML object>"
            ]
          },
          "metadata": {}
        },
        {
          "output_type": "display_data",
          "data": {
            "text/html": [
              "<br/>Waiting for W&B process to finish, PID 1879... <strong style=\"color:green\">(success).</strong>"
            ],
            "text/plain": [
              "<IPython.core.display.HTML object>"
            ]
          },
          "metadata": {}
        },
        {
          "output_type": "display_data",
          "data": {
            "application/vnd.jupyter.widget-view+json": {
              "model_id": "8e42927a940b49babc293bbc8da93411",
              "version_minor": 0,
              "version_major": 2
            },
            "text/plain": [
              "VBox(children=(Label(value=' 0.00MB of 0.00MB uploaded (0.00MB deduped)\\r'), FloatProgress(value=1.0, max=1.0)…"
            ]
          },
          "metadata": {}
        },
        {
          "output_type": "display_data",
          "data": {
            "text/html": [
              "<style>\n",
              "    table.wandb td:nth-child(1) { padding: 0 10px; text-align: right }\n",
              "    .wandb-row { display: flex; flex-direction: row; flex-wrap: wrap; width: 100% }\n",
              "    .wandb-col { display: flex; flex-direction: column; flex-basis: 100%; flex: 1; padding: 10px; }\n",
              "    </style>\n",
              "<div class=\"wandb-row\"><div class=\"wandb-col\">\n",
              "<h3>Run history:</h3><br/><table class=\"wandb\"><tr><td>accuracy_cv_test</td><td>▁▅▆▇▇▆▆▇▆█</td></tr><tr><td>accuracy_test</td><td>▁▆▇█▇█▆▇▇█</td></tr><tr><td>accuracy_train</td><td>▁▆▇▇▇▇▆█▇█</td></tr><tr><td>epochs</td><td>▁▂▃▃▄▅▆▆▇█</td></tr><tr><td>loss_cv_test</td><td>█▅▄▃▂▂▂▂▁▁</td></tr><tr><td>loss_test</td><td>█▅▄▃▂▂▂▁▁▁</td></tr><tr><td>loss_train</td><td>█▅▄▃▂▂▂▁▁▁</td></tr></table><br/></div><div class=\"wandb-col\">\n",
              "<h3>Run summary:</h3><br/><table class=\"wandb\"><tr><td>accuracy_cv_test</td><td>0.97283</td></tr><tr><td>accuracy_test</td><td>0.9733</td></tr><tr><td>accuracy_train</td><td>0.98522</td></tr><tr><td>epochs</td><td>9</td></tr><tr><td>loss_cv_test</td><td>0.88191</td></tr><tr><td>loss_test</td><td>0.87095</td></tr><tr><td>loss_train</td><td>0.82385</td></tr></table>\n",
              "</div></div>\n",
              "Synced 4 W&B file(s), 0 media file(s), 0 artifact file(s) and 0 other file(s)\n",
              "<br/>Synced <strong style=\"color:#cdcd00\">distinctive-sweep-9</strong>: <a href=\"https://wandb.ai/deeplearningcs6910/feedFwdNeuralNwkQ10/runs/nlnm4jn3\" target=\"_blank\">https://wandb.ai/deeplearningcs6910/feedFwdNeuralNwkQ10/runs/nlnm4jn3</a><br/>\n",
              "Find logs at: <code>./wandb/run-20220225_123454-nlnm4jn3/logs</code><br/>\n"
            ],
            "text/plain": [
              "<IPython.core.display.HTML object>"
            ]
          },
          "metadata": {}
        },
        {
          "output_type": "stream",
          "name": "stderr",
          "text": [
            "\u001b[34m\u001b[1mwandb\u001b[0m: Agent Starting Run: cbz2r016 with config:\n",
            "\u001b[34m\u001b[1mwandb\u001b[0m: \tactivation: relu\n",
            "\u001b[34m\u001b[1mwandb\u001b[0m: \tbatch_size: 64\n",
            "\u001b[34m\u001b[1mwandb\u001b[0m: \tepochs: 5\n",
            "\u001b[34m\u001b[1mwandb\u001b[0m: \tlearning_rate: 0.001\n",
            "\u001b[34m\u001b[1mwandb\u001b[0m: \tloss_function: cross_entropy\n",
            "\u001b[34m\u001b[1mwandb\u001b[0m: \tno_hidden_layers: 4\n",
            "\u001b[34m\u001b[1mwandb\u001b[0m: \toptimizer: momentum\n",
            "\u001b[34m\u001b[1mwandb\u001b[0m: \tsize_hidden1: 128\n",
            "\u001b[34m\u001b[1mwandb\u001b[0m: \tsize_hidden2: 128\n",
            "\u001b[34m\u001b[1mwandb\u001b[0m: \tsize_hidden3: 128\n",
            "\u001b[34m\u001b[1mwandb\u001b[0m: \tsize_hidden4: 64\n",
            "\u001b[34m\u001b[1mwandb\u001b[0m: \tsize_hidden5: 128\n",
            "\u001b[34m\u001b[1mwandb\u001b[0m: \tweight_decay: 0.05\n",
            "\u001b[34m\u001b[1mwandb\u001b[0m: \twt_init: xavier\n",
            "\u001b[34m\u001b[1mwandb\u001b[0m: \u001b[33mWARNING\u001b[0m Ignored wandb.init() arg project when running a sweep.\n",
            "\u001b[34m\u001b[1mwandb\u001b[0m: \u001b[33mWARNING\u001b[0m Ignored wandb.init() arg entity when running a sweep.\n"
          ]
        },
        {
          "output_type": "display_data",
          "data": {
            "text/html": [
              "\n",
              "                    Syncing run <strong><a href=\"https://wandb.ai/deeplearningcs6910/feedFwdNeuralNwkQ10/runs/cbz2r016\" target=\"_blank\">laced-sweep-10</a></strong> to <a href=\"https://wandb.ai/deeplearningcs6910/feedFwdNeuralNwkQ10\" target=\"_blank\">Weights & Biases</a> (<a href=\"https://docs.wandb.com/integrations/jupyter.html\" target=\"_blank\">docs</a>).<br/>\n",
              "Sweep page: <a href=\"https://wandb.ai/deeplearningcs6910/feedFwdNeuralNwkQ10/sweeps/6b9xwa7k\" target=\"_blank\">https://wandb.ai/deeplearningcs6910/feedFwdNeuralNwkQ10/sweeps/6b9xwa7k</a><br/>\n",
              "\n",
              "                "
            ],
            "text/plain": [
              "<IPython.core.display.HTML object>"
            ]
          },
          "metadata": {}
        },
        {
          "output_type": "display_data",
          "data": {
            "text/html": [
              "<br/>Waiting for W&B process to finish, PID 1917... <strong style=\"color:green\">(success).</strong>"
            ],
            "text/plain": [
              "<IPython.core.display.HTML object>"
            ]
          },
          "metadata": {}
        },
        {
          "output_type": "display_data",
          "data": {
            "application/vnd.jupyter.widget-view+json": {
              "model_id": "cc07e4045f304ccea8a562665281a664",
              "version_minor": 0,
              "version_major": 2
            },
            "text/plain": [
              "VBox(children=(Label(value=' 0.00MB of 0.00MB uploaded (0.00MB deduped)\\r'), FloatProgress(value=1.0, max=1.0)…"
            ]
          },
          "metadata": {}
        },
        {
          "output_type": "display_data",
          "data": {
            "text/html": [
              "<style>\n",
              "    table.wandb td:nth-child(1) { padding: 0 10px; text-align: right }\n",
              "    .wandb-row { display: flex; flex-direction: row; flex-wrap: wrap; width: 100% }\n",
              "    .wandb-col { display: flex; flex-direction: column; flex-basis: 100%; flex: 1; padding: 10px; }\n",
              "    </style>\n",
              "<div class=\"wandb-row\"><div class=\"wandb-col\">\n",
              "<h3>Run history:</h3><br/><table class=\"wandb\"><tr><td>accuracy_cv_test</td><td>▁▅▇█▆</td></tr><tr><td>accuracy_test</td><td>▁▄██▆</td></tr><tr><td>accuracy_train</td><td>▁▅██▆</td></tr><tr><td>epochs</td><td>▁▃▅▆█</td></tr><tr><td>loss_cv_test</td><td>█▄▂▁▁</td></tr><tr><td>loss_test</td><td>█▄▂▁▂</td></tr><tr><td>loss_train</td><td>█▄▂▁▁</td></tr></table><br/></div><div class=\"wandb-col\">\n",
              "<h3>Run summary:</h3><br/><table class=\"wandb\"><tr><td>accuracy_cv_test</td><td>0.9515</td></tr><tr><td>accuracy_test</td><td>0.9537</td></tr><tr><td>accuracy_train</td><td>0.96237</td></tr><tr><td>epochs</td><td>4</td></tr><tr><td>loss_cv_test</td><td>1.0865</td></tr><tr><td>loss_test</td><td>1.07852</td></tr><tr><td>loss_train</td><td>1.03208</td></tr></table>\n",
              "</div></div>\n",
              "Synced 4 W&B file(s), 0 media file(s), 0 artifact file(s) and 0 other file(s)\n",
              "<br/>Synced <strong style=\"color:#cdcd00\">laced-sweep-10</strong>: <a href=\"https://wandb.ai/deeplearningcs6910/feedFwdNeuralNwkQ10/runs/cbz2r016\" target=\"_blank\">https://wandb.ai/deeplearningcs6910/feedFwdNeuralNwkQ10/runs/cbz2r016</a><br/>\n",
              "Find logs at: <code>./wandb/run-20220225_123722-cbz2r016/logs</code><br/>\n"
            ],
            "text/plain": [
              "<IPython.core.display.HTML object>"
            ]
          },
          "metadata": {}
        }
      ]
    }
  ],
  "metadata": {
    "colab": {
      "collapsed_sections": [
        "Hxchi_JMa1Gv",
        "GpS8DskI8NgB",
        "vkeocN3kFhYa",
        "idWpy5MhHhkZ",
        "KVOsv6YTjLes",
        "Ml3R3bkmWF3t",
        "bb6jCOCQiAmP"
      ],
      "name": "Q10.ipynb",
      "provenance": [],
      "toc_visible": true
    },
    "kernelspec": {
      "display_name": "Python 3 (ipykernel)",
      "language": "python",
      "name": "python3"
    },
    "language_info": {
      "codemirror_mode": {
        "name": "ipython",
        "version": 3
      },
      "file_extension": ".py",
      "mimetype": "text/x-python",
      "name": "python",
      "nbconvert_exporter": "python",
      "pygments_lexer": "ipython3",
      "version": "3.9.2"
    },
    "widgets": {
      "application/vnd.jupyter.widget-state+json": {
        "d92602a40dcc4dfdac6acd53eb972a15": {
          "model_module": "@jupyter-widgets/controls",
          "model_name": "VBoxModel",
          "model_module_version": "1.5.0",
          "state": {
            "_view_name": "VBoxView",
            "_dom_classes": [],
            "_model_name": "VBoxModel",
            "_view_module": "@jupyter-widgets/controls",
            "_model_module_version": "1.5.0",
            "_view_count": null,
            "_view_module_version": "1.5.0",
            "box_style": "",
            "layout": "IPY_MODEL_189f765a2b234441b3814ac8ec4e596f",
            "_model_module": "@jupyter-widgets/controls",
            "children": [
              "IPY_MODEL_df3a8b7c8a1c415d841258f43bb94bf1",
              "IPY_MODEL_d94fd5516128431799861ccd93b24611"
            ]
          }
        },
        "189f765a2b234441b3814ac8ec4e596f": {
          "model_module": "@jupyter-widgets/base",
          "model_name": "LayoutModel",
          "model_module_version": "1.2.0",
          "state": {
            "_view_name": "LayoutView",
            "grid_template_rows": null,
            "right": null,
            "justify_content": null,
            "_view_module": "@jupyter-widgets/base",
            "overflow": null,
            "_model_module_version": "1.2.0",
            "_view_count": null,
            "flex_flow": null,
            "width": null,
            "min_width": null,
            "border": null,
            "align_items": null,
            "bottom": null,
            "_model_module": "@jupyter-widgets/base",
            "top": null,
            "grid_column": null,
            "overflow_y": null,
            "overflow_x": null,
            "grid_auto_flow": null,
            "grid_area": null,
            "grid_template_columns": null,
            "flex": null,
            "_model_name": "LayoutModel",
            "justify_items": null,
            "grid_row": null,
            "max_height": null,
            "align_content": null,
            "visibility": null,
            "align_self": null,
            "height": null,
            "min_height": null,
            "padding": null,
            "grid_auto_rows": null,
            "grid_gap": null,
            "max_width": null,
            "order": null,
            "_view_module_version": "1.2.0",
            "grid_template_areas": null,
            "object_position": null,
            "object_fit": null,
            "grid_auto_columns": null,
            "margin": null,
            "display": null,
            "left": null
          }
        },
        "df3a8b7c8a1c415d841258f43bb94bf1": {
          "model_module": "@jupyter-widgets/controls",
          "model_name": "LabelModel",
          "model_module_version": "1.5.0",
          "state": {
            "_view_name": "LabelView",
            "style": "IPY_MODEL_f84249905cdb41ee92f3235330f843fc",
            "_dom_classes": [],
            "description": "",
            "_model_name": "LabelModel",
            "placeholder": "​",
            "_view_module": "@jupyter-widgets/controls",
            "_model_module_version": "1.5.0",
            "value": " 0.01MB of 0.01MB uploaded (0.00MB deduped)\r",
            "_view_count": null,
            "_view_module_version": "1.5.0",
            "description_tooltip": null,
            "_model_module": "@jupyter-widgets/controls",
            "layout": "IPY_MODEL_84085ce2bb3448acb0d36c7fc9497020"
          }
        },
        "d94fd5516128431799861ccd93b24611": {
          "model_module": "@jupyter-widgets/controls",
          "model_name": "FloatProgressModel",
          "model_module_version": "1.5.0",
          "state": {
            "_view_name": "ProgressView",
            "style": "IPY_MODEL_0fefd9ae330c443e9f9d67312ef705d6",
            "_dom_classes": [],
            "description": "",
            "_model_name": "FloatProgressModel",
            "bar_style": "",
            "max": 1,
            "_view_module": "@jupyter-widgets/controls",
            "_model_module_version": "1.5.0",
            "value": 1,
            "_view_count": null,
            "_view_module_version": "1.5.0",
            "orientation": "horizontal",
            "min": 0,
            "description_tooltip": null,
            "_model_module": "@jupyter-widgets/controls",
            "layout": "IPY_MODEL_18e6439f06d24353aa98c5cc83e6550f"
          }
        },
        "f84249905cdb41ee92f3235330f843fc": {
          "model_module": "@jupyter-widgets/controls",
          "model_name": "DescriptionStyleModel",
          "model_module_version": "1.5.0",
          "state": {
            "_view_name": "StyleView",
            "_model_name": "DescriptionStyleModel",
            "description_width": "",
            "_view_module": "@jupyter-widgets/base",
            "_model_module_version": "1.5.0",
            "_view_count": null,
            "_view_module_version": "1.2.0",
            "_model_module": "@jupyter-widgets/controls"
          }
        },
        "84085ce2bb3448acb0d36c7fc9497020": {
          "model_module": "@jupyter-widgets/base",
          "model_name": "LayoutModel",
          "model_module_version": "1.2.0",
          "state": {
            "_view_name": "LayoutView",
            "grid_template_rows": null,
            "right": null,
            "justify_content": null,
            "_view_module": "@jupyter-widgets/base",
            "overflow": null,
            "_model_module_version": "1.2.0",
            "_view_count": null,
            "flex_flow": null,
            "width": null,
            "min_width": null,
            "border": null,
            "align_items": null,
            "bottom": null,
            "_model_module": "@jupyter-widgets/base",
            "top": null,
            "grid_column": null,
            "overflow_y": null,
            "overflow_x": null,
            "grid_auto_flow": null,
            "grid_area": null,
            "grid_template_columns": null,
            "flex": null,
            "_model_name": "LayoutModel",
            "justify_items": null,
            "grid_row": null,
            "max_height": null,
            "align_content": null,
            "visibility": null,
            "align_self": null,
            "height": null,
            "min_height": null,
            "padding": null,
            "grid_auto_rows": null,
            "grid_gap": null,
            "max_width": null,
            "order": null,
            "_view_module_version": "1.2.0",
            "grid_template_areas": null,
            "object_position": null,
            "object_fit": null,
            "grid_auto_columns": null,
            "margin": null,
            "display": null,
            "left": null
          }
        },
        "0fefd9ae330c443e9f9d67312ef705d6": {
          "model_module": "@jupyter-widgets/controls",
          "model_name": "ProgressStyleModel",
          "model_module_version": "1.5.0",
          "state": {
            "_view_name": "StyleView",
            "_model_name": "ProgressStyleModel",
            "description_width": "",
            "_view_module": "@jupyter-widgets/base",
            "_model_module_version": "1.5.0",
            "_view_count": null,
            "_view_module_version": "1.2.0",
            "bar_color": null,
            "_model_module": "@jupyter-widgets/controls"
          }
        },
        "18e6439f06d24353aa98c5cc83e6550f": {
          "model_module": "@jupyter-widgets/base",
          "model_name": "LayoutModel",
          "model_module_version": "1.2.0",
          "state": {
            "_view_name": "LayoutView",
            "grid_template_rows": null,
            "right": null,
            "justify_content": null,
            "_view_module": "@jupyter-widgets/base",
            "overflow": null,
            "_model_module_version": "1.2.0",
            "_view_count": null,
            "flex_flow": null,
            "width": null,
            "min_width": null,
            "border": null,
            "align_items": null,
            "bottom": null,
            "_model_module": "@jupyter-widgets/base",
            "top": null,
            "grid_column": null,
            "overflow_y": null,
            "overflow_x": null,
            "grid_auto_flow": null,
            "grid_area": null,
            "grid_template_columns": null,
            "flex": null,
            "_model_name": "LayoutModel",
            "justify_items": null,
            "grid_row": null,
            "max_height": null,
            "align_content": null,
            "visibility": null,
            "align_self": null,
            "height": null,
            "min_height": null,
            "padding": null,
            "grid_auto_rows": null,
            "grid_gap": null,
            "max_width": null,
            "order": null,
            "_view_module_version": "1.2.0",
            "grid_template_areas": null,
            "object_position": null,
            "object_fit": null,
            "grid_auto_columns": null,
            "margin": null,
            "display": null,
            "left": null
          }
        },
        "7a33f66b17d1464f81eabe6285e57af8": {
          "model_module": "@jupyter-widgets/controls",
          "model_name": "VBoxModel",
          "model_module_version": "1.5.0",
          "state": {
            "_view_name": "VBoxView",
            "_dom_classes": [],
            "_model_name": "VBoxModel",
            "_view_module": "@jupyter-widgets/controls",
            "_model_module_version": "1.5.0",
            "_view_count": null,
            "_view_module_version": "1.5.0",
            "box_style": "",
            "layout": "IPY_MODEL_57cb179b97f24543846b92192c46fa9a",
            "_model_module": "@jupyter-widgets/controls",
            "children": [
              "IPY_MODEL_ab5124f6d09a4546a4f9a26f2e07fadb",
              "IPY_MODEL_596c41d00ec140e5ac905a1ca9181b12"
            ]
          }
        },
        "57cb179b97f24543846b92192c46fa9a": {
          "model_module": "@jupyter-widgets/base",
          "model_name": "LayoutModel",
          "model_module_version": "1.2.0",
          "state": {
            "_view_name": "LayoutView",
            "grid_template_rows": null,
            "right": null,
            "justify_content": null,
            "_view_module": "@jupyter-widgets/base",
            "overflow": null,
            "_model_module_version": "1.2.0",
            "_view_count": null,
            "flex_flow": null,
            "width": null,
            "min_width": null,
            "border": null,
            "align_items": null,
            "bottom": null,
            "_model_module": "@jupyter-widgets/base",
            "top": null,
            "grid_column": null,
            "overflow_y": null,
            "overflow_x": null,
            "grid_auto_flow": null,
            "grid_area": null,
            "grid_template_columns": null,
            "flex": null,
            "_model_name": "LayoutModel",
            "justify_items": null,
            "grid_row": null,
            "max_height": null,
            "align_content": null,
            "visibility": null,
            "align_self": null,
            "height": null,
            "min_height": null,
            "padding": null,
            "grid_auto_rows": null,
            "grid_gap": null,
            "max_width": null,
            "order": null,
            "_view_module_version": "1.2.0",
            "grid_template_areas": null,
            "object_position": null,
            "object_fit": null,
            "grid_auto_columns": null,
            "margin": null,
            "display": null,
            "left": null
          }
        },
        "ab5124f6d09a4546a4f9a26f2e07fadb": {
          "model_module": "@jupyter-widgets/controls",
          "model_name": "LabelModel",
          "model_module_version": "1.5.0",
          "state": {
            "_view_name": "LabelView",
            "style": "IPY_MODEL_a95cd10703b342b3b9e60bcf5851bbc5",
            "_dom_classes": [],
            "description": "",
            "_model_name": "LabelModel",
            "placeholder": "​",
            "_view_module": "@jupyter-widgets/controls",
            "_model_module_version": "1.5.0",
            "value": " 0.01MB of 0.01MB uploaded (0.00MB deduped)\r",
            "_view_count": null,
            "_view_module_version": "1.5.0",
            "description_tooltip": null,
            "_model_module": "@jupyter-widgets/controls",
            "layout": "IPY_MODEL_9dcc57b54ef74eb6bdf56c0ce2ebc34a"
          }
        },
        "596c41d00ec140e5ac905a1ca9181b12": {
          "model_module": "@jupyter-widgets/controls",
          "model_name": "FloatProgressModel",
          "model_module_version": "1.5.0",
          "state": {
            "_view_name": "ProgressView",
            "style": "IPY_MODEL_aab06d3edf9446b0a48b19d77e79cb53",
            "_dom_classes": [],
            "description": "",
            "_model_name": "FloatProgressModel",
            "bar_style": "",
            "max": 1,
            "_view_module": "@jupyter-widgets/controls",
            "_model_module_version": "1.5.0",
            "value": 1,
            "_view_count": null,
            "_view_module_version": "1.5.0",
            "orientation": "horizontal",
            "min": 0,
            "description_tooltip": null,
            "_model_module": "@jupyter-widgets/controls",
            "layout": "IPY_MODEL_d092b1b7d58745259428cea725c24ddb"
          }
        },
        "a95cd10703b342b3b9e60bcf5851bbc5": {
          "model_module": "@jupyter-widgets/controls",
          "model_name": "DescriptionStyleModel",
          "model_module_version": "1.5.0",
          "state": {
            "_view_name": "StyleView",
            "_model_name": "DescriptionStyleModel",
            "description_width": "",
            "_view_module": "@jupyter-widgets/base",
            "_model_module_version": "1.5.0",
            "_view_count": null,
            "_view_module_version": "1.2.0",
            "_model_module": "@jupyter-widgets/controls"
          }
        },
        "9dcc57b54ef74eb6bdf56c0ce2ebc34a": {
          "model_module": "@jupyter-widgets/base",
          "model_name": "LayoutModel",
          "model_module_version": "1.2.0",
          "state": {
            "_view_name": "LayoutView",
            "grid_template_rows": null,
            "right": null,
            "justify_content": null,
            "_view_module": "@jupyter-widgets/base",
            "overflow": null,
            "_model_module_version": "1.2.0",
            "_view_count": null,
            "flex_flow": null,
            "width": null,
            "min_width": null,
            "border": null,
            "align_items": null,
            "bottom": null,
            "_model_module": "@jupyter-widgets/base",
            "top": null,
            "grid_column": null,
            "overflow_y": null,
            "overflow_x": null,
            "grid_auto_flow": null,
            "grid_area": null,
            "grid_template_columns": null,
            "flex": null,
            "_model_name": "LayoutModel",
            "justify_items": null,
            "grid_row": null,
            "max_height": null,
            "align_content": null,
            "visibility": null,
            "align_self": null,
            "height": null,
            "min_height": null,
            "padding": null,
            "grid_auto_rows": null,
            "grid_gap": null,
            "max_width": null,
            "order": null,
            "_view_module_version": "1.2.0",
            "grid_template_areas": null,
            "object_position": null,
            "object_fit": null,
            "grid_auto_columns": null,
            "margin": null,
            "display": null,
            "left": null
          }
        },
        "aab06d3edf9446b0a48b19d77e79cb53": {
          "model_module": "@jupyter-widgets/controls",
          "model_name": "ProgressStyleModel",
          "model_module_version": "1.5.0",
          "state": {
            "_view_name": "StyleView",
            "_model_name": "ProgressStyleModel",
            "description_width": "",
            "_view_module": "@jupyter-widgets/base",
            "_model_module_version": "1.5.0",
            "_view_count": null,
            "_view_module_version": "1.2.0",
            "bar_color": null,
            "_model_module": "@jupyter-widgets/controls"
          }
        },
        "d092b1b7d58745259428cea725c24ddb": {
          "model_module": "@jupyter-widgets/base",
          "model_name": "LayoutModel",
          "model_module_version": "1.2.0",
          "state": {
            "_view_name": "LayoutView",
            "grid_template_rows": null,
            "right": null,
            "justify_content": null,
            "_view_module": "@jupyter-widgets/base",
            "overflow": null,
            "_model_module_version": "1.2.0",
            "_view_count": null,
            "flex_flow": null,
            "width": null,
            "min_width": null,
            "border": null,
            "align_items": null,
            "bottom": null,
            "_model_module": "@jupyter-widgets/base",
            "top": null,
            "grid_column": null,
            "overflow_y": null,
            "overflow_x": null,
            "grid_auto_flow": null,
            "grid_area": null,
            "grid_template_columns": null,
            "flex": null,
            "_model_name": "LayoutModel",
            "justify_items": null,
            "grid_row": null,
            "max_height": null,
            "align_content": null,
            "visibility": null,
            "align_self": null,
            "height": null,
            "min_height": null,
            "padding": null,
            "grid_auto_rows": null,
            "grid_gap": null,
            "max_width": null,
            "order": null,
            "_view_module_version": "1.2.0",
            "grid_template_areas": null,
            "object_position": null,
            "object_fit": null,
            "grid_auto_columns": null,
            "margin": null,
            "display": null,
            "left": null
          }
        },
        "778058934421424f99cda846efd3d029": {
          "model_module": "@jupyter-widgets/controls",
          "model_name": "VBoxModel",
          "model_module_version": "1.5.0",
          "state": {
            "_view_name": "VBoxView",
            "_dom_classes": [],
            "_model_name": "VBoxModel",
            "_view_module": "@jupyter-widgets/controls",
            "_model_module_version": "1.5.0",
            "_view_count": null,
            "_view_module_version": "1.5.0",
            "box_style": "",
            "layout": "IPY_MODEL_c499f1a571854cdc9c5e2179d9820706",
            "_model_module": "@jupyter-widgets/controls",
            "children": [
              "IPY_MODEL_6e099c0eaed24b18af75e352f64b564a",
              "IPY_MODEL_4b76699bd7974dfa89ef42a35810594f"
            ]
          }
        },
        "c499f1a571854cdc9c5e2179d9820706": {
          "model_module": "@jupyter-widgets/base",
          "model_name": "LayoutModel",
          "model_module_version": "1.2.0",
          "state": {
            "_view_name": "LayoutView",
            "grid_template_rows": null,
            "right": null,
            "justify_content": null,
            "_view_module": "@jupyter-widgets/base",
            "overflow": null,
            "_model_module_version": "1.2.0",
            "_view_count": null,
            "flex_flow": null,
            "width": null,
            "min_width": null,
            "border": null,
            "align_items": null,
            "bottom": null,
            "_model_module": "@jupyter-widgets/base",
            "top": null,
            "grid_column": null,
            "overflow_y": null,
            "overflow_x": null,
            "grid_auto_flow": null,
            "grid_area": null,
            "grid_template_columns": null,
            "flex": null,
            "_model_name": "LayoutModel",
            "justify_items": null,
            "grid_row": null,
            "max_height": null,
            "align_content": null,
            "visibility": null,
            "align_self": null,
            "height": null,
            "min_height": null,
            "padding": null,
            "grid_auto_rows": null,
            "grid_gap": null,
            "max_width": null,
            "order": null,
            "_view_module_version": "1.2.0",
            "grid_template_areas": null,
            "object_position": null,
            "object_fit": null,
            "grid_auto_columns": null,
            "margin": null,
            "display": null,
            "left": null
          }
        },
        "6e099c0eaed24b18af75e352f64b564a": {
          "model_module": "@jupyter-widgets/controls",
          "model_name": "LabelModel",
          "model_module_version": "1.5.0",
          "state": {
            "_view_name": "LabelView",
            "style": "IPY_MODEL_2f11001052b64478bd5abf3c9e992499",
            "_dom_classes": [],
            "description": "",
            "_model_name": "LabelModel",
            "placeholder": "​",
            "_view_module": "@jupyter-widgets/controls",
            "_model_module_version": "1.5.0",
            "value": " 0.01MB of 0.01MB uploaded (0.00MB deduped)\r",
            "_view_count": null,
            "_view_module_version": "1.5.0",
            "description_tooltip": null,
            "_model_module": "@jupyter-widgets/controls",
            "layout": "IPY_MODEL_84d9e0cf0701420d82a176ee6dd737f5"
          }
        },
        "4b76699bd7974dfa89ef42a35810594f": {
          "model_module": "@jupyter-widgets/controls",
          "model_name": "FloatProgressModel",
          "model_module_version": "1.5.0",
          "state": {
            "_view_name": "ProgressView",
            "style": "IPY_MODEL_e8f7f878661e4dc99466142677d9fc41",
            "_dom_classes": [],
            "description": "",
            "_model_name": "FloatProgressModel",
            "bar_style": "",
            "max": 1,
            "_view_module": "@jupyter-widgets/controls",
            "_model_module_version": "1.5.0",
            "value": 1,
            "_view_count": null,
            "_view_module_version": "1.5.0",
            "orientation": "horizontal",
            "min": 0,
            "description_tooltip": null,
            "_model_module": "@jupyter-widgets/controls",
            "layout": "IPY_MODEL_40c7179fc0564e2e84ac61088ed7e22d"
          }
        },
        "2f11001052b64478bd5abf3c9e992499": {
          "model_module": "@jupyter-widgets/controls",
          "model_name": "DescriptionStyleModel",
          "model_module_version": "1.5.0",
          "state": {
            "_view_name": "StyleView",
            "_model_name": "DescriptionStyleModel",
            "description_width": "",
            "_view_module": "@jupyter-widgets/base",
            "_model_module_version": "1.5.0",
            "_view_count": null,
            "_view_module_version": "1.2.0",
            "_model_module": "@jupyter-widgets/controls"
          }
        },
        "84d9e0cf0701420d82a176ee6dd737f5": {
          "model_module": "@jupyter-widgets/base",
          "model_name": "LayoutModel",
          "model_module_version": "1.2.0",
          "state": {
            "_view_name": "LayoutView",
            "grid_template_rows": null,
            "right": null,
            "justify_content": null,
            "_view_module": "@jupyter-widgets/base",
            "overflow": null,
            "_model_module_version": "1.2.0",
            "_view_count": null,
            "flex_flow": null,
            "width": null,
            "min_width": null,
            "border": null,
            "align_items": null,
            "bottom": null,
            "_model_module": "@jupyter-widgets/base",
            "top": null,
            "grid_column": null,
            "overflow_y": null,
            "overflow_x": null,
            "grid_auto_flow": null,
            "grid_area": null,
            "grid_template_columns": null,
            "flex": null,
            "_model_name": "LayoutModel",
            "justify_items": null,
            "grid_row": null,
            "max_height": null,
            "align_content": null,
            "visibility": null,
            "align_self": null,
            "height": null,
            "min_height": null,
            "padding": null,
            "grid_auto_rows": null,
            "grid_gap": null,
            "max_width": null,
            "order": null,
            "_view_module_version": "1.2.0",
            "grid_template_areas": null,
            "object_position": null,
            "object_fit": null,
            "grid_auto_columns": null,
            "margin": null,
            "display": null,
            "left": null
          }
        },
        "e8f7f878661e4dc99466142677d9fc41": {
          "model_module": "@jupyter-widgets/controls",
          "model_name": "ProgressStyleModel",
          "model_module_version": "1.5.0",
          "state": {
            "_view_name": "StyleView",
            "_model_name": "ProgressStyleModel",
            "description_width": "",
            "_view_module": "@jupyter-widgets/base",
            "_model_module_version": "1.5.0",
            "_view_count": null,
            "_view_module_version": "1.2.0",
            "bar_color": null,
            "_model_module": "@jupyter-widgets/controls"
          }
        },
        "40c7179fc0564e2e84ac61088ed7e22d": {
          "model_module": "@jupyter-widgets/base",
          "model_name": "LayoutModel",
          "model_module_version": "1.2.0",
          "state": {
            "_view_name": "LayoutView",
            "grid_template_rows": null,
            "right": null,
            "justify_content": null,
            "_view_module": "@jupyter-widgets/base",
            "overflow": null,
            "_model_module_version": "1.2.0",
            "_view_count": null,
            "flex_flow": null,
            "width": null,
            "min_width": null,
            "border": null,
            "align_items": null,
            "bottom": null,
            "_model_module": "@jupyter-widgets/base",
            "top": null,
            "grid_column": null,
            "overflow_y": null,
            "overflow_x": null,
            "grid_auto_flow": null,
            "grid_area": null,
            "grid_template_columns": null,
            "flex": null,
            "_model_name": "LayoutModel",
            "justify_items": null,
            "grid_row": null,
            "max_height": null,
            "align_content": null,
            "visibility": null,
            "align_self": null,
            "height": null,
            "min_height": null,
            "padding": null,
            "grid_auto_rows": null,
            "grid_gap": null,
            "max_width": null,
            "order": null,
            "_view_module_version": "1.2.0",
            "grid_template_areas": null,
            "object_position": null,
            "object_fit": null,
            "grid_auto_columns": null,
            "margin": null,
            "display": null,
            "left": null
          }
        },
        "943162e3e8f4400b811e0841292940b6": {
          "model_module": "@jupyter-widgets/controls",
          "model_name": "VBoxModel",
          "model_module_version": "1.5.0",
          "state": {
            "_view_name": "VBoxView",
            "_dom_classes": [],
            "_model_name": "VBoxModel",
            "_view_module": "@jupyter-widgets/controls",
            "_model_module_version": "1.5.0",
            "_view_count": null,
            "_view_module_version": "1.5.0",
            "box_style": "",
            "layout": "IPY_MODEL_35f4bb8a599947209613529e3aadb1c8",
            "_model_module": "@jupyter-widgets/controls",
            "children": [
              "IPY_MODEL_1292f37a04104d64891db2d23260e36d",
              "IPY_MODEL_1cbb58533663430596449e9a4145bfe3"
            ]
          }
        },
        "35f4bb8a599947209613529e3aadb1c8": {
          "model_module": "@jupyter-widgets/base",
          "model_name": "LayoutModel",
          "model_module_version": "1.2.0",
          "state": {
            "_view_name": "LayoutView",
            "grid_template_rows": null,
            "right": null,
            "justify_content": null,
            "_view_module": "@jupyter-widgets/base",
            "overflow": null,
            "_model_module_version": "1.2.0",
            "_view_count": null,
            "flex_flow": null,
            "width": null,
            "min_width": null,
            "border": null,
            "align_items": null,
            "bottom": null,
            "_model_module": "@jupyter-widgets/base",
            "top": null,
            "grid_column": null,
            "overflow_y": null,
            "overflow_x": null,
            "grid_auto_flow": null,
            "grid_area": null,
            "grid_template_columns": null,
            "flex": null,
            "_model_name": "LayoutModel",
            "justify_items": null,
            "grid_row": null,
            "max_height": null,
            "align_content": null,
            "visibility": null,
            "align_self": null,
            "height": null,
            "min_height": null,
            "padding": null,
            "grid_auto_rows": null,
            "grid_gap": null,
            "max_width": null,
            "order": null,
            "_view_module_version": "1.2.0",
            "grid_template_areas": null,
            "object_position": null,
            "object_fit": null,
            "grid_auto_columns": null,
            "margin": null,
            "display": null,
            "left": null
          }
        },
        "1292f37a04104d64891db2d23260e36d": {
          "model_module": "@jupyter-widgets/controls",
          "model_name": "LabelModel",
          "model_module_version": "1.5.0",
          "state": {
            "_view_name": "LabelView",
            "style": "IPY_MODEL_ddd5f8f1ee3f4053a2d96194d040cdf1",
            "_dom_classes": [],
            "description": "",
            "_model_name": "LabelModel",
            "placeholder": "​",
            "_view_module": "@jupyter-widgets/controls",
            "_model_module_version": "1.5.0",
            "value": " 0.01MB of 0.01MB uploaded (0.00MB deduped)\r",
            "_view_count": null,
            "_view_module_version": "1.5.0",
            "description_tooltip": null,
            "_model_module": "@jupyter-widgets/controls",
            "layout": "IPY_MODEL_ca0c4ff8268a4c84b10e12d6b022fdd7"
          }
        },
        "1cbb58533663430596449e9a4145bfe3": {
          "model_module": "@jupyter-widgets/controls",
          "model_name": "FloatProgressModel",
          "model_module_version": "1.5.0",
          "state": {
            "_view_name": "ProgressView",
            "style": "IPY_MODEL_7eccd7d7951743e4bb89b21e7cffe1d4",
            "_dom_classes": [],
            "description": "",
            "_model_name": "FloatProgressModel",
            "bar_style": "",
            "max": 1,
            "_view_module": "@jupyter-widgets/controls",
            "_model_module_version": "1.5.0",
            "value": 1,
            "_view_count": null,
            "_view_module_version": "1.5.0",
            "orientation": "horizontal",
            "min": 0,
            "description_tooltip": null,
            "_model_module": "@jupyter-widgets/controls",
            "layout": "IPY_MODEL_6fd5f3b95cd048bd9857cd5aa9d66ed3"
          }
        },
        "ddd5f8f1ee3f4053a2d96194d040cdf1": {
          "model_module": "@jupyter-widgets/controls",
          "model_name": "DescriptionStyleModel",
          "model_module_version": "1.5.0",
          "state": {
            "_view_name": "StyleView",
            "_model_name": "DescriptionStyleModel",
            "description_width": "",
            "_view_module": "@jupyter-widgets/base",
            "_model_module_version": "1.5.0",
            "_view_count": null,
            "_view_module_version": "1.2.0",
            "_model_module": "@jupyter-widgets/controls"
          }
        },
        "ca0c4ff8268a4c84b10e12d6b022fdd7": {
          "model_module": "@jupyter-widgets/base",
          "model_name": "LayoutModel",
          "model_module_version": "1.2.0",
          "state": {
            "_view_name": "LayoutView",
            "grid_template_rows": null,
            "right": null,
            "justify_content": null,
            "_view_module": "@jupyter-widgets/base",
            "overflow": null,
            "_model_module_version": "1.2.0",
            "_view_count": null,
            "flex_flow": null,
            "width": null,
            "min_width": null,
            "border": null,
            "align_items": null,
            "bottom": null,
            "_model_module": "@jupyter-widgets/base",
            "top": null,
            "grid_column": null,
            "overflow_y": null,
            "overflow_x": null,
            "grid_auto_flow": null,
            "grid_area": null,
            "grid_template_columns": null,
            "flex": null,
            "_model_name": "LayoutModel",
            "justify_items": null,
            "grid_row": null,
            "max_height": null,
            "align_content": null,
            "visibility": null,
            "align_self": null,
            "height": null,
            "min_height": null,
            "padding": null,
            "grid_auto_rows": null,
            "grid_gap": null,
            "max_width": null,
            "order": null,
            "_view_module_version": "1.2.0",
            "grid_template_areas": null,
            "object_position": null,
            "object_fit": null,
            "grid_auto_columns": null,
            "margin": null,
            "display": null,
            "left": null
          }
        },
        "7eccd7d7951743e4bb89b21e7cffe1d4": {
          "model_module": "@jupyter-widgets/controls",
          "model_name": "ProgressStyleModel",
          "model_module_version": "1.5.0",
          "state": {
            "_view_name": "StyleView",
            "_model_name": "ProgressStyleModel",
            "description_width": "",
            "_view_module": "@jupyter-widgets/base",
            "_model_module_version": "1.5.0",
            "_view_count": null,
            "_view_module_version": "1.2.0",
            "bar_color": null,
            "_model_module": "@jupyter-widgets/controls"
          }
        },
        "6fd5f3b95cd048bd9857cd5aa9d66ed3": {
          "model_module": "@jupyter-widgets/base",
          "model_name": "LayoutModel",
          "model_module_version": "1.2.0",
          "state": {
            "_view_name": "LayoutView",
            "grid_template_rows": null,
            "right": null,
            "justify_content": null,
            "_view_module": "@jupyter-widgets/base",
            "overflow": null,
            "_model_module_version": "1.2.0",
            "_view_count": null,
            "flex_flow": null,
            "width": null,
            "min_width": null,
            "border": null,
            "align_items": null,
            "bottom": null,
            "_model_module": "@jupyter-widgets/base",
            "top": null,
            "grid_column": null,
            "overflow_y": null,
            "overflow_x": null,
            "grid_auto_flow": null,
            "grid_area": null,
            "grid_template_columns": null,
            "flex": null,
            "_model_name": "LayoutModel",
            "justify_items": null,
            "grid_row": null,
            "max_height": null,
            "align_content": null,
            "visibility": null,
            "align_self": null,
            "height": null,
            "min_height": null,
            "padding": null,
            "grid_auto_rows": null,
            "grid_gap": null,
            "max_width": null,
            "order": null,
            "_view_module_version": "1.2.0",
            "grid_template_areas": null,
            "object_position": null,
            "object_fit": null,
            "grid_auto_columns": null,
            "margin": null,
            "display": null,
            "left": null
          }
        },
        "34e8af71afb943778908a5b7752a15d9": {
          "model_module": "@jupyter-widgets/controls",
          "model_name": "VBoxModel",
          "model_module_version": "1.5.0",
          "state": {
            "_view_name": "VBoxView",
            "_dom_classes": [],
            "_model_name": "VBoxModel",
            "_view_module": "@jupyter-widgets/controls",
            "_model_module_version": "1.5.0",
            "_view_count": null,
            "_view_module_version": "1.5.0",
            "box_style": "",
            "layout": "IPY_MODEL_30131d366cfb4f41a6e93a3af7da54ec",
            "_model_module": "@jupyter-widgets/controls",
            "children": [
              "IPY_MODEL_23a346a05a0649ec888d5ca828982e22",
              "IPY_MODEL_75d94b8c72ae47adb9ed69e9e7d8dc48"
            ]
          }
        },
        "30131d366cfb4f41a6e93a3af7da54ec": {
          "model_module": "@jupyter-widgets/base",
          "model_name": "LayoutModel",
          "model_module_version": "1.2.0",
          "state": {
            "_view_name": "LayoutView",
            "grid_template_rows": null,
            "right": null,
            "justify_content": null,
            "_view_module": "@jupyter-widgets/base",
            "overflow": null,
            "_model_module_version": "1.2.0",
            "_view_count": null,
            "flex_flow": null,
            "width": null,
            "min_width": null,
            "border": null,
            "align_items": null,
            "bottom": null,
            "_model_module": "@jupyter-widgets/base",
            "top": null,
            "grid_column": null,
            "overflow_y": null,
            "overflow_x": null,
            "grid_auto_flow": null,
            "grid_area": null,
            "grid_template_columns": null,
            "flex": null,
            "_model_name": "LayoutModel",
            "justify_items": null,
            "grid_row": null,
            "max_height": null,
            "align_content": null,
            "visibility": null,
            "align_self": null,
            "height": null,
            "min_height": null,
            "padding": null,
            "grid_auto_rows": null,
            "grid_gap": null,
            "max_width": null,
            "order": null,
            "_view_module_version": "1.2.0",
            "grid_template_areas": null,
            "object_position": null,
            "object_fit": null,
            "grid_auto_columns": null,
            "margin": null,
            "display": null,
            "left": null
          }
        },
        "23a346a05a0649ec888d5ca828982e22": {
          "model_module": "@jupyter-widgets/controls",
          "model_name": "LabelModel",
          "model_module_version": "1.5.0",
          "state": {
            "_view_name": "LabelView",
            "style": "IPY_MODEL_54f7c4c7c8314cf78d8be4a621519a46",
            "_dom_classes": [],
            "description": "",
            "_model_name": "LabelModel",
            "placeholder": "​",
            "_view_module": "@jupyter-widgets/controls",
            "_model_module_version": "1.5.0",
            "value": " 0.01MB of 0.01MB uploaded (0.00MB deduped)\r",
            "_view_count": null,
            "_view_module_version": "1.5.0",
            "description_tooltip": null,
            "_model_module": "@jupyter-widgets/controls",
            "layout": "IPY_MODEL_d38b9290a4b14595919329c240a05a3d"
          }
        },
        "75d94b8c72ae47adb9ed69e9e7d8dc48": {
          "model_module": "@jupyter-widgets/controls",
          "model_name": "FloatProgressModel",
          "model_module_version": "1.5.0",
          "state": {
            "_view_name": "ProgressView",
            "style": "IPY_MODEL_9a6428f96785446e822e207c5bc27ace",
            "_dom_classes": [],
            "description": "",
            "_model_name": "FloatProgressModel",
            "bar_style": "",
            "max": 1,
            "_view_module": "@jupyter-widgets/controls",
            "_model_module_version": "1.5.0",
            "value": 1,
            "_view_count": null,
            "_view_module_version": "1.5.0",
            "orientation": "horizontal",
            "min": 0,
            "description_tooltip": null,
            "_model_module": "@jupyter-widgets/controls",
            "layout": "IPY_MODEL_41a6b2aaddae4775bf01a465ea47ce27"
          }
        },
        "54f7c4c7c8314cf78d8be4a621519a46": {
          "model_module": "@jupyter-widgets/controls",
          "model_name": "DescriptionStyleModel",
          "model_module_version": "1.5.0",
          "state": {
            "_view_name": "StyleView",
            "_model_name": "DescriptionStyleModel",
            "description_width": "",
            "_view_module": "@jupyter-widgets/base",
            "_model_module_version": "1.5.0",
            "_view_count": null,
            "_view_module_version": "1.2.0",
            "_model_module": "@jupyter-widgets/controls"
          }
        },
        "d38b9290a4b14595919329c240a05a3d": {
          "model_module": "@jupyter-widgets/base",
          "model_name": "LayoutModel",
          "model_module_version": "1.2.0",
          "state": {
            "_view_name": "LayoutView",
            "grid_template_rows": null,
            "right": null,
            "justify_content": null,
            "_view_module": "@jupyter-widgets/base",
            "overflow": null,
            "_model_module_version": "1.2.0",
            "_view_count": null,
            "flex_flow": null,
            "width": null,
            "min_width": null,
            "border": null,
            "align_items": null,
            "bottom": null,
            "_model_module": "@jupyter-widgets/base",
            "top": null,
            "grid_column": null,
            "overflow_y": null,
            "overflow_x": null,
            "grid_auto_flow": null,
            "grid_area": null,
            "grid_template_columns": null,
            "flex": null,
            "_model_name": "LayoutModel",
            "justify_items": null,
            "grid_row": null,
            "max_height": null,
            "align_content": null,
            "visibility": null,
            "align_self": null,
            "height": null,
            "min_height": null,
            "padding": null,
            "grid_auto_rows": null,
            "grid_gap": null,
            "max_width": null,
            "order": null,
            "_view_module_version": "1.2.0",
            "grid_template_areas": null,
            "object_position": null,
            "object_fit": null,
            "grid_auto_columns": null,
            "margin": null,
            "display": null,
            "left": null
          }
        },
        "9a6428f96785446e822e207c5bc27ace": {
          "model_module": "@jupyter-widgets/controls",
          "model_name": "ProgressStyleModel",
          "model_module_version": "1.5.0",
          "state": {
            "_view_name": "StyleView",
            "_model_name": "ProgressStyleModel",
            "description_width": "",
            "_view_module": "@jupyter-widgets/base",
            "_model_module_version": "1.5.0",
            "_view_count": null,
            "_view_module_version": "1.2.0",
            "bar_color": null,
            "_model_module": "@jupyter-widgets/controls"
          }
        },
        "41a6b2aaddae4775bf01a465ea47ce27": {
          "model_module": "@jupyter-widgets/base",
          "model_name": "LayoutModel",
          "model_module_version": "1.2.0",
          "state": {
            "_view_name": "LayoutView",
            "grid_template_rows": null,
            "right": null,
            "justify_content": null,
            "_view_module": "@jupyter-widgets/base",
            "overflow": null,
            "_model_module_version": "1.2.0",
            "_view_count": null,
            "flex_flow": null,
            "width": null,
            "min_width": null,
            "border": null,
            "align_items": null,
            "bottom": null,
            "_model_module": "@jupyter-widgets/base",
            "top": null,
            "grid_column": null,
            "overflow_y": null,
            "overflow_x": null,
            "grid_auto_flow": null,
            "grid_area": null,
            "grid_template_columns": null,
            "flex": null,
            "_model_name": "LayoutModel",
            "justify_items": null,
            "grid_row": null,
            "max_height": null,
            "align_content": null,
            "visibility": null,
            "align_self": null,
            "height": null,
            "min_height": null,
            "padding": null,
            "grid_auto_rows": null,
            "grid_gap": null,
            "max_width": null,
            "order": null,
            "_view_module_version": "1.2.0",
            "grid_template_areas": null,
            "object_position": null,
            "object_fit": null,
            "grid_auto_columns": null,
            "margin": null,
            "display": null,
            "left": null
          }
        },
        "c7b689ef772d4c39a53fd0452ea6f11f": {
          "model_module": "@jupyter-widgets/controls",
          "model_name": "VBoxModel",
          "model_module_version": "1.5.0",
          "state": {
            "_view_name": "VBoxView",
            "_dom_classes": [],
            "_model_name": "VBoxModel",
            "_view_module": "@jupyter-widgets/controls",
            "_model_module_version": "1.5.0",
            "_view_count": null,
            "_view_module_version": "1.5.0",
            "box_style": "",
            "layout": "IPY_MODEL_4d2d586d153b4a8fb8ac9a9690c6c51a",
            "_model_module": "@jupyter-widgets/controls",
            "children": [
              "IPY_MODEL_9d72349fde0a4c5a91e70156a053ad7b",
              "IPY_MODEL_49370e4618bf4f94b243e3451d899141"
            ]
          }
        },
        "4d2d586d153b4a8fb8ac9a9690c6c51a": {
          "model_module": "@jupyter-widgets/base",
          "model_name": "LayoutModel",
          "model_module_version": "1.2.0",
          "state": {
            "_view_name": "LayoutView",
            "grid_template_rows": null,
            "right": null,
            "justify_content": null,
            "_view_module": "@jupyter-widgets/base",
            "overflow": null,
            "_model_module_version": "1.2.0",
            "_view_count": null,
            "flex_flow": null,
            "width": null,
            "min_width": null,
            "border": null,
            "align_items": null,
            "bottom": null,
            "_model_module": "@jupyter-widgets/base",
            "top": null,
            "grid_column": null,
            "overflow_y": null,
            "overflow_x": null,
            "grid_auto_flow": null,
            "grid_area": null,
            "grid_template_columns": null,
            "flex": null,
            "_model_name": "LayoutModel",
            "justify_items": null,
            "grid_row": null,
            "max_height": null,
            "align_content": null,
            "visibility": null,
            "align_self": null,
            "height": null,
            "min_height": null,
            "padding": null,
            "grid_auto_rows": null,
            "grid_gap": null,
            "max_width": null,
            "order": null,
            "_view_module_version": "1.2.0",
            "grid_template_areas": null,
            "object_position": null,
            "object_fit": null,
            "grid_auto_columns": null,
            "margin": null,
            "display": null,
            "left": null
          }
        },
        "9d72349fde0a4c5a91e70156a053ad7b": {
          "model_module": "@jupyter-widgets/controls",
          "model_name": "LabelModel",
          "model_module_version": "1.5.0",
          "state": {
            "_view_name": "LabelView",
            "style": "IPY_MODEL_40732b6a1caf45a194fe0b6f6e4c0512",
            "_dom_classes": [],
            "description": "",
            "_model_name": "LabelModel",
            "placeholder": "​",
            "_view_module": "@jupyter-widgets/controls",
            "_model_module_version": "1.5.0",
            "value": " 0.01MB of 0.01MB uploaded (0.00MB deduped)\r",
            "_view_count": null,
            "_view_module_version": "1.5.0",
            "description_tooltip": null,
            "_model_module": "@jupyter-widgets/controls",
            "layout": "IPY_MODEL_ba8c30a39c5840638a37bf4fa6d29f2b"
          }
        },
        "49370e4618bf4f94b243e3451d899141": {
          "model_module": "@jupyter-widgets/controls",
          "model_name": "FloatProgressModel",
          "model_module_version": "1.5.0",
          "state": {
            "_view_name": "ProgressView",
            "style": "IPY_MODEL_150f66a97fc045799bf8e1aaafebc2c8",
            "_dom_classes": [],
            "description": "",
            "_model_name": "FloatProgressModel",
            "bar_style": "",
            "max": 1,
            "_view_module": "@jupyter-widgets/controls",
            "_model_module_version": "1.5.0",
            "value": 1,
            "_view_count": null,
            "_view_module_version": "1.5.0",
            "orientation": "horizontal",
            "min": 0,
            "description_tooltip": null,
            "_model_module": "@jupyter-widgets/controls",
            "layout": "IPY_MODEL_389db3d4163f4eb8a57ccabc43af0d7a"
          }
        },
        "40732b6a1caf45a194fe0b6f6e4c0512": {
          "model_module": "@jupyter-widgets/controls",
          "model_name": "DescriptionStyleModel",
          "model_module_version": "1.5.0",
          "state": {
            "_view_name": "StyleView",
            "_model_name": "DescriptionStyleModel",
            "description_width": "",
            "_view_module": "@jupyter-widgets/base",
            "_model_module_version": "1.5.0",
            "_view_count": null,
            "_view_module_version": "1.2.0",
            "_model_module": "@jupyter-widgets/controls"
          }
        },
        "ba8c30a39c5840638a37bf4fa6d29f2b": {
          "model_module": "@jupyter-widgets/base",
          "model_name": "LayoutModel",
          "model_module_version": "1.2.0",
          "state": {
            "_view_name": "LayoutView",
            "grid_template_rows": null,
            "right": null,
            "justify_content": null,
            "_view_module": "@jupyter-widgets/base",
            "overflow": null,
            "_model_module_version": "1.2.0",
            "_view_count": null,
            "flex_flow": null,
            "width": null,
            "min_width": null,
            "border": null,
            "align_items": null,
            "bottom": null,
            "_model_module": "@jupyter-widgets/base",
            "top": null,
            "grid_column": null,
            "overflow_y": null,
            "overflow_x": null,
            "grid_auto_flow": null,
            "grid_area": null,
            "grid_template_columns": null,
            "flex": null,
            "_model_name": "LayoutModel",
            "justify_items": null,
            "grid_row": null,
            "max_height": null,
            "align_content": null,
            "visibility": null,
            "align_self": null,
            "height": null,
            "min_height": null,
            "padding": null,
            "grid_auto_rows": null,
            "grid_gap": null,
            "max_width": null,
            "order": null,
            "_view_module_version": "1.2.0",
            "grid_template_areas": null,
            "object_position": null,
            "object_fit": null,
            "grid_auto_columns": null,
            "margin": null,
            "display": null,
            "left": null
          }
        },
        "150f66a97fc045799bf8e1aaafebc2c8": {
          "model_module": "@jupyter-widgets/controls",
          "model_name": "ProgressStyleModel",
          "model_module_version": "1.5.0",
          "state": {
            "_view_name": "StyleView",
            "_model_name": "ProgressStyleModel",
            "description_width": "",
            "_view_module": "@jupyter-widgets/base",
            "_model_module_version": "1.5.0",
            "_view_count": null,
            "_view_module_version": "1.2.0",
            "bar_color": null,
            "_model_module": "@jupyter-widgets/controls"
          }
        },
        "389db3d4163f4eb8a57ccabc43af0d7a": {
          "model_module": "@jupyter-widgets/base",
          "model_name": "LayoutModel",
          "model_module_version": "1.2.0",
          "state": {
            "_view_name": "LayoutView",
            "grid_template_rows": null,
            "right": null,
            "justify_content": null,
            "_view_module": "@jupyter-widgets/base",
            "overflow": null,
            "_model_module_version": "1.2.0",
            "_view_count": null,
            "flex_flow": null,
            "width": null,
            "min_width": null,
            "border": null,
            "align_items": null,
            "bottom": null,
            "_model_module": "@jupyter-widgets/base",
            "top": null,
            "grid_column": null,
            "overflow_y": null,
            "overflow_x": null,
            "grid_auto_flow": null,
            "grid_area": null,
            "grid_template_columns": null,
            "flex": null,
            "_model_name": "LayoutModel",
            "justify_items": null,
            "grid_row": null,
            "max_height": null,
            "align_content": null,
            "visibility": null,
            "align_self": null,
            "height": null,
            "min_height": null,
            "padding": null,
            "grid_auto_rows": null,
            "grid_gap": null,
            "max_width": null,
            "order": null,
            "_view_module_version": "1.2.0",
            "grid_template_areas": null,
            "object_position": null,
            "object_fit": null,
            "grid_auto_columns": null,
            "margin": null,
            "display": null,
            "left": null
          }
        },
        "442c21cda69f48089446522888bc5ccd": {
          "model_module": "@jupyter-widgets/controls",
          "model_name": "VBoxModel",
          "model_module_version": "1.5.0",
          "state": {
            "_view_name": "VBoxView",
            "_dom_classes": [],
            "_model_name": "VBoxModel",
            "_view_module": "@jupyter-widgets/controls",
            "_model_module_version": "1.5.0",
            "_view_count": null,
            "_view_module_version": "1.5.0",
            "box_style": "",
            "layout": "IPY_MODEL_b39ad5b996474c6ca12d75a55fc390aa",
            "_model_module": "@jupyter-widgets/controls",
            "children": [
              "IPY_MODEL_68bbeaedd0ba4f03832f9e172471d83b",
              "IPY_MODEL_2f7f8a34b7604f5a8f0223accd72b61d"
            ]
          }
        },
        "b39ad5b996474c6ca12d75a55fc390aa": {
          "model_module": "@jupyter-widgets/base",
          "model_name": "LayoutModel",
          "model_module_version": "1.2.0",
          "state": {
            "_view_name": "LayoutView",
            "grid_template_rows": null,
            "right": null,
            "justify_content": null,
            "_view_module": "@jupyter-widgets/base",
            "overflow": null,
            "_model_module_version": "1.2.0",
            "_view_count": null,
            "flex_flow": null,
            "width": null,
            "min_width": null,
            "border": null,
            "align_items": null,
            "bottom": null,
            "_model_module": "@jupyter-widgets/base",
            "top": null,
            "grid_column": null,
            "overflow_y": null,
            "overflow_x": null,
            "grid_auto_flow": null,
            "grid_area": null,
            "grid_template_columns": null,
            "flex": null,
            "_model_name": "LayoutModel",
            "justify_items": null,
            "grid_row": null,
            "max_height": null,
            "align_content": null,
            "visibility": null,
            "align_self": null,
            "height": null,
            "min_height": null,
            "padding": null,
            "grid_auto_rows": null,
            "grid_gap": null,
            "max_width": null,
            "order": null,
            "_view_module_version": "1.2.0",
            "grid_template_areas": null,
            "object_position": null,
            "object_fit": null,
            "grid_auto_columns": null,
            "margin": null,
            "display": null,
            "left": null
          }
        },
        "68bbeaedd0ba4f03832f9e172471d83b": {
          "model_module": "@jupyter-widgets/controls",
          "model_name": "LabelModel",
          "model_module_version": "1.5.0",
          "state": {
            "_view_name": "LabelView",
            "style": "IPY_MODEL_36bc76eec84b4941ab4e09f2488d3dd8",
            "_dom_classes": [],
            "description": "",
            "_model_name": "LabelModel",
            "placeholder": "​",
            "_view_module": "@jupyter-widgets/controls",
            "_model_module_version": "1.5.0",
            "value": " 0.01MB of 0.01MB uploaded (0.00MB deduped)\r",
            "_view_count": null,
            "_view_module_version": "1.5.0",
            "description_tooltip": null,
            "_model_module": "@jupyter-widgets/controls",
            "layout": "IPY_MODEL_4f9aadead595400484f29c62dfd970f0"
          }
        },
        "2f7f8a34b7604f5a8f0223accd72b61d": {
          "model_module": "@jupyter-widgets/controls",
          "model_name": "FloatProgressModel",
          "model_module_version": "1.5.0",
          "state": {
            "_view_name": "ProgressView",
            "style": "IPY_MODEL_c356460657f245bbb2f98ba20f18e24c",
            "_dom_classes": [],
            "description": "",
            "_model_name": "FloatProgressModel",
            "bar_style": "",
            "max": 1,
            "_view_module": "@jupyter-widgets/controls",
            "_model_module_version": "1.5.0",
            "value": 1,
            "_view_count": null,
            "_view_module_version": "1.5.0",
            "orientation": "horizontal",
            "min": 0,
            "description_tooltip": null,
            "_model_module": "@jupyter-widgets/controls",
            "layout": "IPY_MODEL_b7e190da09074f5aa53aa2a98ea4b110"
          }
        },
        "36bc76eec84b4941ab4e09f2488d3dd8": {
          "model_module": "@jupyter-widgets/controls",
          "model_name": "DescriptionStyleModel",
          "model_module_version": "1.5.0",
          "state": {
            "_view_name": "StyleView",
            "_model_name": "DescriptionStyleModel",
            "description_width": "",
            "_view_module": "@jupyter-widgets/base",
            "_model_module_version": "1.5.0",
            "_view_count": null,
            "_view_module_version": "1.2.0",
            "_model_module": "@jupyter-widgets/controls"
          }
        },
        "4f9aadead595400484f29c62dfd970f0": {
          "model_module": "@jupyter-widgets/base",
          "model_name": "LayoutModel",
          "model_module_version": "1.2.0",
          "state": {
            "_view_name": "LayoutView",
            "grid_template_rows": null,
            "right": null,
            "justify_content": null,
            "_view_module": "@jupyter-widgets/base",
            "overflow": null,
            "_model_module_version": "1.2.0",
            "_view_count": null,
            "flex_flow": null,
            "width": null,
            "min_width": null,
            "border": null,
            "align_items": null,
            "bottom": null,
            "_model_module": "@jupyter-widgets/base",
            "top": null,
            "grid_column": null,
            "overflow_y": null,
            "overflow_x": null,
            "grid_auto_flow": null,
            "grid_area": null,
            "grid_template_columns": null,
            "flex": null,
            "_model_name": "LayoutModel",
            "justify_items": null,
            "grid_row": null,
            "max_height": null,
            "align_content": null,
            "visibility": null,
            "align_self": null,
            "height": null,
            "min_height": null,
            "padding": null,
            "grid_auto_rows": null,
            "grid_gap": null,
            "max_width": null,
            "order": null,
            "_view_module_version": "1.2.0",
            "grid_template_areas": null,
            "object_position": null,
            "object_fit": null,
            "grid_auto_columns": null,
            "margin": null,
            "display": null,
            "left": null
          }
        },
        "c356460657f245bbb2f98ba20f18e24c": {
          "model_module": "@jupyter-widgets/controls",
          "model_name": "ProgressStyleModel",
          "model_module_version": "1.5.0",
          "state": {
            "_view_name": "StyleView",
            "_model_name": "ProgressStyleModel",
            "description_width": "",
            "_view_module": "@jupyter-widgets/base",
            "_model_module_version": "1.5.0",
            "_view_count": null,
            "_view_module_version": "1.2.0",
            "bar_color": null,
            "_model_module": "@jupyter-widgets/controls"
          }
        },
        "b7e190da09074f5aa53aa2a98ea4b110": {
          "model_module": "@jupyter-widgets/base",
          "model_name": "LayoutModel",
          "model_module_version": "1.2.0",
          "state": {
            "_view_name": "LayoutView",
            "grid_template_rows": null,
            "right": null,
            "justify_content": null,
            "_view_module": "@jupyter-widgets/base",
            "overflow": null,
            "_model_module_version": "1.2.0",
            "_view_count": null,
            "flex_flow": null,
            "width": null,
            "min_width": null,
            "border": null,
            "align_items": null,
            "bottom": null,
            "_model_module": "@jupyter-widgets/base",
            "top": null,
            "grid_column": null,
            "overflow_y": null,
            "overflow_x": null,
            "grid_auto_flow": null,
            "grid_area": null,
            "grid_template_columns": null,
            "flex": null,
            "_model_name": "LayoutModel",
            "justify_items": null,
            "grid_row": null,
            "max_height": null,
            "align_content": null,
            "visibility": null,
            "align_self": null,
            "height": null,
            "min_height": null,
            "padding": null,
            "grid_auto_rows": null,
            "grid_gap": null,
            "max_width": null,
            "order": null,
            "_view_module_version": "1.2.0",
            "grid_template_areas": null,
            "object_position": null,
            "object_fit": null,
            "grid_auto_columns": null,
            "margin": null,
            "display": null,
            "left": null
          }
        },
        "fef3546adc1346ce874fac6563564517": {
          "model_module": "@jupyter-widgets/controls",
          "model_name": "VBoxModel",
          "model_module_version": "1.5.0",
          "state": {
            "_view_name": "VBoxView",
            "_dom_classes": [],
            "_model_name": "VBoxModel",
            "_view_module": "@jupyter-widgets/controls",
            "_model_module_version": "1.5.0",
            "_view_count": null,
            "_view_module_version": "1.5.0",
            "box_style": "",
            "layout": "IPY_MODEL_f8f517cf50224e65a300f088318facbf",
            "_model_module": "@jupyter-widgets/controls",
            "children": [
              "IPY_MODEL_18dc41a2cc2c4ec0a91fa36789ca091b",
              "IPY_MODEL_c882e90721714590877ce8563fca13f3"
            ]
          }
        },
        "f8f517cf50224e65a300f088318facbf": {
          "model_module": "@jupyter-widgets/base",
          "model_name": "LayoutModel",
          "model_module_version": "1.2.0",
          "state": {
            "_view_name": "LayoutView",
            "grid_template_rows": null,
            "right": null,
            "justify_content": null,
            "_view_module": "@jupyter-widgets/base",
            "overflow": null,
            "_model_module_version": "1.2.0",
            "_view_count": null,
            "flex_flow": null,
            "width": null,
            "min_width": null,
            "border": null,
            "align_items": null,
            "bottom": null,
            "_model_module": "@jupyter-widgets/base",
            "top": null,
            "grid_column": null,
            "overflow_y": null,
            "overflow_x": null,
            "grid_auto_flow": null,
            "grid_area": null,
            "grid_template_columns": null,
            "flex": null,
            "_model_name": "LayoutModel",
            "justify_items": null,
            "grid_row": null,
            "max_height": null,
            "align_content": null,
            "visibility": null,
            "align_self": null,
            "height": null,
            "min_height": null,
            "padding": null,
            "grid_auto_rows": null,
            "grid_gap": null,
            "max_width": null,
            "order": null,
            "_view_module_version": "1.2.0",
            "grid_template_areas": null,
            "object_position": null,
            "object_fit": null,
            "grid_auto_columns": null,
            "margin": null,
            "display": null,
            "left": null
          }
        },
        "18dc41a2cc2c4ec0a91fa36789ca091b": {
          "model_module": "@jupyter-widgets/controls",
          "model_name": "LabelModel",
          "model_module_version": "1.5.0",
          "state": {
            "_view_name": "LabelView",
            "style": "IPY_MODEL_04264ab6e7834b5eb72f3c5ae308cfe1",
            "_dom_classes": [],
            "description": "",
            "_model_name": "LabelModel",
            "placeholder": "​",
            "_view_module": "@jupyter-widgets/controls",
            "_model_module_version": "1.5.0",
            "value": " 0.01MB of 0.01MB uploaded (0.00MB deduped)\r",
            "_view_count": null,
            "_view_module_version": "1.5.0",
            "description_tooltip": null,
            "_model_module": "@jupyter-widgets/controls",
            "layout": "IPY_MODEL_0d20ca817e4e4f1bb095efcacbb83588"
          }
        },
        "c882e90721714590877ce8563fca13f3": {
          "model_module": "@jupyter-widgets/controls",
          "model_name": "FloatProgressModel",
          "model_module_version": "1.5.0",
          "state": {
            "_view_name": "ProgressView",
            "style": "IPY_MODEL_feed63fec32e4327987a17c8e5fb19ce",
            "_dom_classes": [],
            "description": "",
            "_model_name": "FloatProgressModel",
            "bar_style": "",
            "max": 1,
            "_view_module": "@jupyter-widgets/controls",
            "_model_module_version": "1.5.0",
            "value": 1,
            "_view_count": null,
            "_view_module_version": "1.5.0",
            "orientation": "horizontal",
            "min": 0,
            "description_tooltip": null,
            "_model_module": "@jupyter-widgets/controls",
            "layout": "IPY_MODEL_a815b7200e9940aa8cbbe4497068cf31"
          }
        },
        "04264ab6e7834b5eb72f3c5ae308cfe1": {
          "model_module": "@jupyter-widgets/controls",
          "model_name": "DescriptionStyleModel",
          "model_module_version": "1.5.0",
          "state": {
            "_view_name": "StyleView",
            "_model_name": "DescriptionStyleModel",
            "description_width": "",
            "_view_module": "@jupyter-widgets/base",
            "_model_module_version": "1.5.0",
            "_view_count": null,
            "_view_module_version": "1.2.0",
            "_model_module": "@jupyter-widgets/controls"
          }
        },
        "0d20ca817e4e4f1bb095efcacbb83588": {
          "model_module": "@jupyter-widgets/base",
          "model_name": "LayoutModel",
          "model_module_version": "1.2.0",
          "state": {
            "_view_name": "LayoutView",
            "grid_template_rows": null,
            "right": null,
            "justify_content": null,
            "_view_module": "@jupyter-widgets/base",
            "overflow": null,
            "_model_module_version": "1.2.0",
            "_view_count": null,
            "flex_flow": null,
            "width": null,
            "min_width": null,
            "border": null,
            "align_items": null,
            "bottom": null,
            "_model_module": "@jupyter-widgets/base",
            "top": null,
            "grid_column": null,
            "overflow_y": null,
            "overflow_x": null,
            "grid_auto_flow": null,
            "grid_area": null,
            "grid_template_columns": null,
            "flex": null,
            "_model_name": "LayoutModel",
            "justify_items": null,
            "grid_row": null,
            "max_height": null,
            "align_content": null,
            "visibility": null,
            "align_self": null,
            "height": null,
            "min_height": null,
            "padding": null,
            "grid_auto_rows": null,
            "grid_gap": null,
            "max_width": null,
            "order": null,
            "_view_module_version": "1.2.0",
            "grid_template_areas": null,
            "object_position": null,
            "object_fit": null,
            "grid_auto_columns": null,
            "margin": null,
            "display": null,
            "left": null
          }
        },
        "feed63fec32e4327987a17c8e5fb19ce": {
          "model_module": "@jupyter-widgets/controls",
          "model_name": "ProgressStyleModel",
          "model_module_version": "1.5.0",
          "state": {
            "_view_name": "StyleView",
            "_model_name": "ProgressStyleModel",
            "description_width": "",
            "_view_module": "@jupyter-widgets/base",
            "_model_module_version": "1.5.0",
            "_view_count": null,
            "_view_module_version": "1.2.0",
            "bar_color": null,
            "_model_module": "@jupyter-widgets/controls"
          }
        },
        "a815b7200e9940aa8cbbe4497068cf31": {
          "model_module": "@jupyter-widgets/base",
          "model_name": "LayoutModel",
          "model_module_version": "1.2.0",
          "state": {
            "_view_name": "LayoutView",
            "grid_template_rows": null,
            "right": null,
            "justify_content": null,
            "_view_module": "@jupyter-widgets/base",
            "overflow": null,
            "_model_module_version": "1.2.0",
            "_view_count": null,
            "flex_flow": null,
            "width": null,
            "min_width": null,
            "border": null,
            "align_items": null,
            "bottom": null,
            "_model_module": "@jupyter-widgets/base",
            "top": null,
            "grid_column": null,
            "overflow_y": null,
            "overflow_x": null,
            "grid_auto_flow": null,
            "grid_area": null,
            "grid_template_columns": null,
            "flex": null,
            "_model_name": "LayoutModel",
            "justify_items": null,
            "grid_row": null,
            "max_height": null,
            "align_content": null,
            "visibility": null,
            "align_self": null,
            "height": null,
            "min_height": null,
            "padding": null,
            "grid_auto_rows": null,
            "grid_gap": null,
            "max_width": null,
            "order": null,
            "_view_module_version": "1.2.0",
            "grid_template_areas": null,
            "object_position": null,
            "object_fit": null,
            "grid_auto_columns": null,
            "margin": null,
            "display": null,
            "left": null
          }
        },
        "be138938f54246d98276ac92744bb01c": {
          "model_module": "@jupyter-widgets/controls",
          "model_name": "VBoxModel",
          "model_module_version": "1.5.0",
          "state": {
            "_view_name": "VBoxView",
            "_dom_classes": [],
            "_model_name": "VBoxModel",
            "_view_module": "@jupyter-widgets/controls",
            "_model_module_version": "1.5.0",
            "_view_count": null,
            "_view_module_version": "1.5.0",
            "box_style": "",
            "layout": "IPY_MODEL_a4e7d3f5e42c45e48b6e07691bce5e9a",
            "_model_module": "@jupyter-widgets/controls",
            "children": [
              "IPY_MODEL_46582e5e6dd04e8abfcfd3b85a409f80",
              "IPY_MODEL_fb6264c5410e4d82b5fdfa2c8c83b8cb"
            ]
          }
        },
        "a4e7d3f5e42c45e48b6e07691bce5e9a": {
          "model_module": "@jupyter-widgets/base",
          "model_name": "LayoutModel",
          "model_module_version": "1.2.0",
          "state": {
            "_view_name": "LayoutView",
            "grid_template_rows": null,
            "right": null,
            "justify_content": null,
            "_view_module": "@jupyter-widgets/base",
            "overflow": null,
            "_model_module_version": "1.2.0",
            "_view_count": null,
            "flex_flow": null,
            "width": null,
            "min_width": null,
            "border": null,
            "align_items": null,
            "bottom": null,
            "_model_module": "@jupyter-widgets/base",
            "top": null,
            "grid_column": null,
            "overflow_y": null,
            "overflow_x": null,
            "grid_auto_flow": null,
            "grid_area": null,
            "grid_template_columns": null,
            "flex": null,
            "_model_name": "LayoutModel",
            "justify_items": null,
            "grid_row": null,
            "max_height": null,
            "align_content": null,
            "visibility": null,
            "align_self": null,
            "height": null,
            "min_height": null,
            "padding": null,
            "grid_auto_rows": null,
            "grid_gap": null,
            "max_width": null,
            "order": null,
            "_view_module_version": "1.2.0",
            "grid_template_areas": null,
            "object_position": null,
            "object_fit": null,
            "grid_auto_columns": null,
            "margin": null,
            "display": null,
            "left": null
          }
        },
        "46582e5e6dd04e8abfcfd3b85a409f80": {
          "model_module": "@jupyter-widgets/controls",
          "model_name": "LabelModel",
          "model_module_version": "1.5.0",
          "state": {
            "_view_name": "LabelView",
            "style": "IPY_MODEL_c2bfd4c31bf44d57bc4d1cb889cb0b47",
            "_dom_classes": [],
            "description": "",
            "_model_name": "LabelModel",
            "placeholder": "​",
            "_view_module": "@jupyter-widgets/controls",
            "_model_module_version": "1.5.0",
            "value": " 0.01MB of 0.01MB uploaded (0.00MB deduped)\r",
            "_view_count": null,
            "_view_module_version": "1.5.0",
            "description_tooltip": null,
            "_model_module": "@jupyter-widgets/controls",
            "layout": "IPY_MODEL_3aec73da215c4b68895bf84677037912"
          }
        },
        "fb6264c5410e4d82b5fdfa2c8c83b8cb": {
          "model_module": "@jupyter-widgets/controls",
          "model_name": "FloatProgressModel",
          "model_module_version": "1.5.0",
          "state": {
            "_view_name": "ProgressView",
            "style": "IPY_MODEL_7758da312ae34511921690821a857f10",
            "_dom_classes": [],
            "description": "",
            "_model_name": "FloatProgressModel",
            "bar_style": "",
            "max": 1,
            "_view_module": "@jupyter-widgets/controls",
            "_model_module_version": "1.5.0",
            "value": 1,
            "_view_count": null,
            "_view_module_version": "1.5.0",
            "orientation": "horizontal",
            "min": 0,
            "description_tooltip": null,
            "_model_module": "@jupyter-widgets/controls",
            "layout": "IPY_MODEL_46514811710049a6bc6c3a1cc0583047"
          }
        },
        "c2bfd4c31bf44d57bc4d1cb889cb0b47": {
          "model_module": "@jupyter-widgets/controls",
          "model_name": "DescriptionStyleModel",
          "model_module_version": "1.5.0",
          "state": {
            "_view_name": "StyleView",
            "_model_name": "DescriptionStyleModel",
            "description_width": "",
            "_view_module": "@jupyter-widgets/base",
            "_model_module_version": "1.5.0",
            "_view_count": null,
            "_view_module_version": "1.2.0",
            "_model_module": "@jupyter-widgets/controls"
          }
        },
        "3aec73da215c4b68895bf84677037912": {
          "model_module": "@jupyter-widgets/base",
          "model_name": "LayoutModel",
          "model_module_version": "1.2.0",
          "state": {
            "_view_name": "LayoutView",
            "grid_template_rows": null,
            "right": null,
            "justify_content": null,
            "_view_module": "@jupyter-widgets/base",
            "overflow": null,
            "_model_module_version": "1.2.0",
            "_view_count": null,
            "flex_flow": null,
            "width": null,
            "min_width": null,
            "border": null,
            "align_items": null,
            "bottom": null,
            "_model_module": "@jupyter-widgets/base",
            "top": null,
            "grid_column": null,
            "overflow_y": null,
            "overflow_x": null,
            "grid_auto_flow": null,
            "grid_area": null,
            "grid_template_columns": null,
            "flex": null,
            "_model_name": "LayoutModel",
            "justify_items": null,
            "grid_row": null,
            "max_height": null,
            "align_content": null,
            "visibility": null,
            "align_self": null,
            "height": null,
            "min_height": null,
            "padding": null,
            "grid_auto_rows": null,
            "grid_gap": null,
            "max_width": null,
            "order": null,
            "_view_module_version": "1.2.0",
            "grid_template_areas": null,
            "object_position": null,
            "object_fit": null,
            "grid_auto_columns": null,
            "margin": null,
            "display": null,
            "left": null
          }
        },
        "7758da312ae34511921690821a857f10": {
          "model_module": "@jupyter-widgets/controls",
          "model_name": "ProgressStyleModel",
          "model_module_version": "1.5.0",
          "state": {
            "_view_name": "StyleView",
            "_model_name": "ProgressStyleModel",
            "description_width": "",
            "_view_module": "@jupyter-widgets/base",
            "_model_module_version": "1.5.0",
            "_view_count": null,
            "_view_module_version": "1.2.0",
            "bar_color": null,
            "_model_module": "@jupyter-widgets/controls"
          }
        },
        "46514811710049a6bc6c3a1cc0583047": {
          "model_module": "@jupyter-widgets/base",
          "model_name": "LayoutModel",
          "model_module_version": "1.2.0",
          "state": {
            "_view_name": "LayoutView",
            "grid_template_rows": null,
            "right": null,
            "justify_content": null,
            "_view_module": "@jupyter-widgets/base",
            "overflow": null,
            "_model_module_version": "1.2.0",
            "_view_count": null,
            "flex_flow": null,
            "width": null,
            "min_width": null,
            "border": null,
            "align_items": null,
            "bottom": null,
            "_model_module": "@jupyter-widgets/base",
            "top": null,
            "grid_column": null,
            "overflow_y": null,
            "overflow_x": null,
            "grid_auto_flow": null,
            "grid_area": null,
            "grid_template_columns": null,
            "flex": null,
            "_model_name": "LayoutModel",
            "justify_items": null,
            "grid_row": null,
            "max_height": null,
            "align_content": null,
            "visibility": null,
            "align_self": null,
            "height": null,
            "min_height": null,
            "padding": null,
            "grid_auto_rows": null,
            "grid_gap": null,
            "max_width": null,
            "order": null,
            "_view_module_version": "1.2.0",
            "grid_template_areas": null,
            "object_position": null,
            "object_fit": null,
            "grid_auto_columns": null,
            "margin": null,
            "display": null,
            "left": null
          }
        },
        "8e42927a940b49babc293bbc8da93411": {
          "model_module": "@jupyter-widgets/controls",
          "model_name": "VBoxModel",
          "model_module_version": "1.5.0",
          "state": {
            "_view_name": "VBoxView",
            "_dom_classes": [],
            "_model_name": "VBoxModel",
            "_view_module": "@jupyter-widgets/controls",
            "_model_module_version": "1.5.0",
            "_view_count": null,
            "_view_module_version": "1.5.0",
            "box_style": "",
            "layout": "IPY_MODEL_f1d3d28d9b734f07ab03fb4c678e53c2",
            "_model_module": "@jupyter-widgets/controls",
            "children": [
              "IPY_MODEL_2e0a356906b745d2b6fc141873d6b690",
              "IPY_MODEL_180b60ea13504328ba8bbd0a09083bef"
            ]
          }
        },
        "f1d3d28d9b734f07ab03fb4c678e53c2": {
          "model_module": "@jupyter-widgets/base",
          "model_name": "LayoutModel",
          "model_module_version": "1.2.0",
          "state": {
            "_view_name": "LayoutView",
            "grid_template_rows": null,
            "right": null,
            "justify_content": null,
            "_view_module": "@jupyter-widgets/base",
            "overflow": null,
            "_model_module_version": "1.2.0",
            "_view_count": null,
            "flex_flow": null,
            "width": null,
            "min_width": null,
            "border": null,
            "align_items": null,
            "bottom": null,
            "_model_module": "@jupyter-widgets/base",
            "top": null,
            "grid_column": null,
            "overflow_y": null,
            "overflow_x": null,
            "grid_auto_flow": null,
            "grid_area": null,
            "grid_template_columns": null,
            "flex": null,
            "_model_name": "LayoutModel",
            "justify_items": null,
            "grid_row": null,
            "max_height": null,
            "align_content": null,
            "visibility": null,
            "align_self": null,
            "height": null,
            "min_height": null,
            "padding": null,
            "grid_auto_rows": null,
            "grid_gap": null,
            "max_width": null,
            "order": null,
            "_view_module_version": "1.2.0",
            "grid_template_areas": null,
            "object_position": null,
            "object_fit": null,
            "grid_auto_columns": null,
            "margin": null,
            "display": null,
            "left": null
          }
        },
        "2e0a356906b745d2b6fc141873d6b690": {
          "model_module": "@jupyter-widgets/controls",
          "model_name": "LabelModel",
          "model_module_version": "1.5.0",
          "state": {
            "_view_name": "LabelView",
            "style": "IPY_MODEL_3eb3357c125e4eab925f2bd8905ba9f0",
            "_dom_classes": [],
            "description": "",
            "_model_name": "LabelModel",
            "placeholder": "​",
            "_view_module": "@jupyter-widgets/controls",
            "_model_module_version": "1.5.0",
            "value": " 0.01MB of 0.01MB uploaded (0.00MB deduped)\r",
            "_view_count": null,
            "_view_module_version": "1.5.0",
            "description_tooltip": null,
            "_model_module": "@jupyter-widgets/controls",
            "layout": "IPY_MODEL_62298c8de8714b4db5846d00344a8279"
          }
        },
        "180b60ea13504328ba8bbd0a09083bef": {
          "model_module": "@jupyter-widgets/controls",
          "model_name": "FloatProgressModel",
          "model_module_version": "1.5.0",
          "state": {
            "_view_name": "ProgressView",
            "style": "IPY_MODEL_53f367b6dc5f485f97f89655c6ab49c9",
            "_dom_classes": [],
            "description": "",
            "_model_name": "FloatProgressModel",
            "bar_style": "",
            "max": 1,
            "_view_module": "@jupyter-widgets/controls",
            "_model_module_version": "1.5.0",
            "value": 1,
            "_view_count": null,
            "_view_module_version": "1.5.0",
            "orientation": "horizontal",
            "min": 0,
            "description_tooltip": null,
            "_model_module": "@jupyter-widgets/controls",
            "layout": "IPY_MODEL_62cdf527e0d9414a8834679d72a55c0c"
          }
        },
        "3eb3357c125e4eab925f2bd8905ba9f0": {
          "model_module": "@jupyter-widgets/controls",
          "model_name": "DescriptionStyleModel",
          "model_module_version": "1.5.0",
          "state": {
            "_view_name": "StyleView",
            "_model_name": "DescriptionStyleModel",
            "description_width": "",
            "_view_module": "@jupyter-widgets/base",
            "_model_module_version": "1.5.0",
            "_view_count": null,
            "_view_module_version": "1.2.0",
            "_model_module": "@jupyter-widgets/controls"
          }
        },
        "62298c8de8714b4db5846d00344a8279": {
          "model_module": "@jupyter-widgets/base",
          "model_name": "LayoutModel",
          "model_module_version": "1.2.0",
          "state": {
            "_view_name": "LayoutView",
            "grid_template_rows": null,
            "right": null,
            "justify_content": null,
            "_view_module": "@jupyter-widgets/base",
            "overflow": null,
            "_model_module_version": "1.2.0",
            "_view_count": null,
            "flex_flow": null,
            "width": null,
            "min_width": null,
            "border": null,
            "align_items": null,
            "bottom": null,
            "_model_module": "@jupyter-widgets/base",
            "top": null,
            "grid_column": null,
            "overflow_y": null,
            "overflow_x": null,
            "grid_auto_flow": null,
            "grid_area": null,
            "grid_template_columns": null,
            "flex": null,
            "_model_name": "LayoutModel",
            "justify_items": null,
            "grid_row": null,
            "max_height": null,
            "align_content": null,
            "visibility": null,
            "align_self": null,
            "height": null,
            "min_height": null,
            "padding": null,
            "grid_auto_rows": null,
            "grid_gap": null,
            "max_width": null,
            "order": null,
            "_view_module_version": "1.2.0",
            "grid_template_areas": null,
            "object_position": null,
            "object_fit": null,
            "grid_auto_columns": null,
            "margin": null,
            "display": null,
            "left": null
          }
        },
        "53f367b6dc5f485f97f89655c6ab49c9": {
          "model_module": "@jupyter-widgets/controls",
          "model_name": "ProgressStyleModel",
          "model_module_version": "1.5.0",
          "state": {
            "_view_name": "StyleView",
            "_model_name": "ProgressStyleModel",
            "description_width": "",
            "_view_module": "@jupyter-widgets/base",
            "_model_module_version": "1.5.0",
            "_view_count": null,
            "_view_module_version": "1.2.0",
            "bar_color": null,
            "_model_module": "@jupyter-widgets/controls"
          }
        },
        "62cdf527e0d9414a8834679d72a55c0c": {
          "model_module": "@jupyter-widgets/base",
          "model_name": "LayoutModel",
          "model_module_version": "1.2.0",
          "state": {
            "_view_name": "LayoutView",
            "grid_template_rows": null,
            "right": null,
            "justify_content": null,
            "_view_module": "@jupyter-widgets/base",
            "overflow": null,
            "_model_module_version": "1.2.0",
            "_view_count": null,
            "flex_flow": null,
            "width": null,
            "min_width": null,
            "border": null,
            "align_items": null,
            "bottom": null,
            "_model_module": "@jupyter-widgets/base",
            "top": null,
            "grid_column": null,
            "overflow_y": null,
            "overflow_x": null,
            "grid_auto_flow": null,
            "grid_area": null,
            "grid_template_columns": null,
            "flex": null,
            "_model_name": "LayoutModel",
            "justify_items": null,
            "grid_row": null,
            "max_height": null,
            "align_content": null,
            "visibility": null,
            "align_self": null,
            "height": null,
            "min_height": null,
            "padding": null,
            "grid_auto_rows": null,
            "grid_gap": null,
            "max_width": null,
            "order": null,
            "_view_module_version": "1.2.0",
            "grid_template_areas": null,
            "object_position": null,
            "object_fit": null,
            "grid_auto_columns": null,
            "margin": null,
            "display": null,
            "left": null
          }
        },
        "cc07e4045f304ccea8a562665281a664": {
          "model_module": "@jupyter-widgets/controls",
          "model_name": "VBoxModel",
          "model_module_version": "1.5.0",
          "state": {
            "_view_name": "VBoxView",
            "_dom_classes": [],
            "_model_name": "VBoxModel",
            "_view_module": "@jupyter-widgets/controls",
            "_model_module_version": "1.5.0",
            "_view_count": null,
            "_view_module_version": "1.5.0",
            "box_style": "",
            "layout": "IPY_MODEL_a835bbd33e834dd4af1b83f556b87bed",
            "_model_module": "@jupyter-widgets/controls",
            "children": [
              "IPY_MODEL_db9d26729d144208b7d4a61329fda715",
              "IPY_MODEL_ff9b11b46ed64af9aa37be3bd21d377c"
            ]
          }
        },
        "a835bbd33e834dd4af1b83f556b87bed": {
          "model_module": "@jupyter-widgets/base",
          "model_name": "LayoutModel",
          "model_module_version": "1.2.0",
          "state": {
            "_view_name": "LayoutView",
            "grid_template_rows": null,
            "right": null,
            "justify_content": null,
            "_view_module": "@jupyter-widgets/base",
            "overflow": null,
            "_model_module_version": "1.2.0",
            "_view_count": null,
            "flex_flow": null,
            "width": null,
            "min_width": null,
            "border": null,
            "align_items": null,
            "bottom": null,
            "_model_module": "@jupyter-widgets/base",
            "top": null,
            "grid_column": null,
            "overflow_y": null,
            "overflow_x": null,
            "grid_auto_flow": null,
            "grid_area": null,
            "grid_template_columns": null,
            "flex": null,
            "_model_name": "LayoutModel",
            "justify_items": null,
            "grid_row": null,
            "max_height": null,
            "align_content": null,
            "visibility": null,
            "align_self": null,
            "height": null,
            "min_height": null,
            "padding": null,
            "grid_auto_rows": null,
            "grid_gap": null,
            "max_width": null,
            "order": null,
            "_view_module_version": "1.2.0",
            "grid_template_areas": null,
            "object_position": null,
            "object_fit": null,
            "grid_auto_columns": null,
            "margin": null,
            "display": null,
            "left": null
          }
        },
        "db9d26729d144208b7d4a61329fda715": {
          "model_module": "@jupyter-widgets/controls",
          "model_name": "LabelModel",
          "model_module_version": "1.5.0",
          "state": {
            "_view_name": "LabelView",
            "style": "IPY_MODEL_ae3c74e9a77247d29c39f1b910e84255",
            "_dom_classes": [],
            "description": "",
            "_model_name": "LabelModel",
            "placeholder": "​",
            "_view_module": "@jupyter-widgets/controls",
            "_model_module_version": "1.5.0",
            "value": " 0.01MB of 0.01MB uploaded (0.00MB deduped)\r",
            "_view_count": null,
            "_view_module_version": "1.5.0",
            "description_tooltip": null,
            "_model_module": "@jupyter-widgets/controls",
            "layout": "IPY_MODEL_9144e3081dec40478c7bdb276bf38df4"
          }
        },
        "ff9b11b46ed64af9aa37be3bd21d377c": {
          "model_module": "@jupyter-widgets/controls",
          "model_name": "FloatProgressModel",
          "model_module_version": "1.5.0",
          "state": {
            "_view_name": "ProgressView",
            "style": "IPY_MODEL_f853f1abc2cf49dd933ad2dce9382109",
            "_dom_classes": [],
            "description": "",
            "_model_name": "FloatProgressModel",
            "bar_style": "",
            "max": 1,
            "_view_module": "@jupyter-widgets/controls",
            "_model_module_version": "1.5.0",
            "value": 1,
            "_view_count": null,
            "_view_module_version": "1.5.0",
            "orientation": "horizontal",
            "min": 0,
            "description_tooltip": null,
            "_model_module": "@jupyter-widgets/controls",
            "layout": "IPY_MODEL_e2050d1330d847229df58c5092ee266d"
          }
        },
        "ae3c74e9a77247d29c39f1b910e84255": {
          "model_module": "@jupyter-widgets/controls",
          "model_name": "DescriptionStyleModel",
          "model_module_version": "1.5.0",
          "state": {
            "_view_name": "StyleView",
            "_model_name": "DescriptionStyleModel",
            "description_width": "",
            "_view_module": "@jupyter-widgets/base",
            "_model_module_version": "1.5.0",
            "_view_count": null,
            "_view_module_version": "1.2.0",
            "_model_module": "@jupyter-widgets/controls"
          }
        },
        "9144e3081dec40478c7bdb276bf38df4": {
          "model_module": "@jupyter-widgets/base",
          "model_name": "LayoutModel",
          "model_module_version": "1.2.0",
          "state": {
            "_view_name": "LayoutView",
            "grid_template_rows": null,
            "right": null,
            "justify_content": null,
            "_view_module": "@jupyter-widgets/base",
            "overflow": null,
            "_model_module_version": "1.2.0",
            "_view_count": null,
            "flex_flow": null,
            "width": null,
            "min_width": null,
            "border": null,
            "align_items": null,
            "bottom": null,
            "_model_module": "@jupyter-widgets/base",
            "top": null,
            "grid_column": null,
            "overflow_y": null,
            "overflow_x": null,
            "grid_auto_flow": null,
            "grid_area": null,
            "grid_template_columns": null,
            "flex": null,
            "_model_name": "LayoutModel",
            "justify_items": null,
            "grid_row": null,
            "max_height": null,
            "align_content": null,
            "visibility": null,
            "align_self": null,
            "height": null,
            "min_height": null,
            "padding": null,
            "grid_auto_rows": null,
            "grid_gap": null,
            "max_width": null,
            "order": null,
            "_view_module_version": "1.2.0",
            "grid_template_areas": null,
            "object_position": null,
            "object_fit": null,
            "grid_auto_columns": null,
            "margin": null,
            "display": null,
            "left": null
          }
        },
        "f853f1abc2cf49dd933ad2dce9382109": {
          "model_module": "@jupyter-widgets/controls",
          "model_name": "ProgressStyleModel",
          "model_module_version": "1.5.0",
          "state": {
            "_view_name": "StyleView",
            "_model_name": "ProgressStyleModel",
            "description_width": "",
            "_view_module": "@jupyter-widgets/base",
            "_model_module_version": "1.5.0",
            "_view_count": null,
            "_view_module_version": "1.2.0",
            "bar_color": null,
            "_model_module": "@jupyter-widgets/controls"
          }
        },
        "e2050d1330d847229df58c5092ee266d": {
          "model_module": "@jupyter-widgets/base",
          "model_name": "LayoutModel",
          "model_module_version": "1.2.0",
          "state": {
            "_view_name": "LayoutView",
            "grid_template_rows": null,
            "right": null,
            "justify_content": null,
            "_view_module": "@jupyter-widgets/base",
            "overflow": null,
            "_model_module_version": "1.2.0",
            "_view_count": null,
            "flex_flow": null,
            "width": null,
            "min_width": null,
            "border": null,
            "align_items": null,
            "bottom": null,
            "_model_module": "@jupyter-widgets/base",
            "top": null,
            "grid_column": null,
            "overflow_y": null,
            "overflow_x": null,
            "grid_auto_flow": null,
            "grid_area": null,
            "grid_template_columns": null,
            "flex": null,
            "_model_name": "LayoutModel",
            "justify_items": null,
            "grid_row": null,
            "max_height": null,
            "align_content": null,
            "visibility": null,
            "align_self": null,
            "height": null,
            "min_height": null,
            "padding": null,
            "grid_auto_rows": null,
            "grid_gap": null,
            "max_width": null,
            "order": null,
            "_view_module_version": "1.2.0",
            "grid_template_areas": null,
            "object_position": null,
            "object_fit": null,
            "grid_auto_columns": null,
            "margin": null,
            "display": null,
            "left": null
          }
        }
      }
    }
  },
  "nbformat": 4,
  "nbformat_minor": 0
}